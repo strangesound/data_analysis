{
 "cells": [
  {
   "cell_type": "markdown",
   "metadata": {},
   "source": [
    "<font color='blue'>Снова привет! Поздравляю со вторым выполненным проектом. Вторая работа еще объемнее первой. Я проверю твою работу и напишу свои комментарии. Они, в зависимости от результата проверки, будут в </font><font color='green'>зеленом (когда все отлично),</font> <font color='brown'>коричневом (когда можно лучше)</font><font color='blue'> или</font> <font color='red'>красном (когда нужно переделать, чтобы я принял работу).</font><font color='blue'> Постарайся учесть эти комментарии в дальнейших проектах.</font>"
   ]
  },
  {
   "cell_type": "markdown",
   "metadata": {},
   "source": [
    "# Исследование объявлений о продаже квартир\n",
    "\n",
    "В вашем распоряжении данные сервиса Яндекс.Недвижимость — архив объявлений о продаже квартир в Санкт-Петербурге и соседних населённых пунктов за несколько лет. Нужно научиться определять рыночную стоимость объектов недвижимости. Ваша задача — установить параметры. Это позволит построить автоматизированную систему: она отследит аномалии и мошенническую деятельность. \n",
    "\n",
    "По каждой квартире на продажу доступны два вида данных. Первые вписаны пользователем, вторые — получены автоматически на основе картографических данных. Например, расстояние до центра, аэропорта, ближайшего парка и водоёма. "
   ]
  },
  {
   "cell_type": "markdown",
   "metadata": {},
   "source": [
    "### Шаг 1. Откройте файл с данными и изучите общую информацию. "
   ]
  },
  {
   "cell_type": "code",
   "execution_count": 1,
   "metadata": {
    "scrolled": false
   },
   "outputs": [
    {
     "data": {
      "text/html": [
       "<div>\n",
       "<style scoped>\n",
       "    .dataframe tbody tr th:only-of-type {\n",
       "        vertical-align: middle;\n",
       "    }\n",
       "\n",
       "    .dataframe tbody tr th {\n",
       "        vertical-align: top;\n",
       "    }\n",
       "\n",
       "    .dataframe thead th {\n",
       "        text-align: right;\n",
       "    }\n",
       "</style>\n",
       "<table border=\"1\" class=\"dataframe\">\n",
       "  <thead>\n",
       "    <tr style=\"text-align: right;\">\n",
       "      <th></th>\n",
       "      <th>total_images</th>\n",
       "      <th>last_price</th>\n",
       "      <th>total_area</th>\n",
       "      <th>first_day_exposition</th>\n",
       "      <th>rooms</th>\n",
       "      <th>ceiling_height</th>\n",
       "      <th>floors_total</th>\n",
       "      <th>living_area</th>\n",
       "      <th>floor</th>\n",
       "      <th>is_apartment</th>\n",
       "      <th>...</th>\n",
       "      <th>kitchen_area</th>\n",
       "      <th>balcony</th>\n",
       "      <th>locality_name</th>\n",
       "      <th>airports_nearest</th>\n",
       "      <th>cityCenters_nearest</th>\n",
       "      <th>parks_around3000</th>\n",
       "      <th>parks_nearest</th>\n",
       "      <th>ponds_around3000</th>\n",
       "      <th>ponds_nearest</th>\n",
       "      <th>days_exposition</th>\n",
       "    </tr>\n",
       "  </thead>\n",
       "  <tbody>\n",
       "    <tr>\n",
       "      <td>0</td>\n",
       "      <td>20</td>\n",
       "      <td>13000000.0</td>\n",
       "      <td>108.0</td>\n",
       "      <td>2019-03-07T00:00:00</td>\n",
       "      <td>3</td>\n",
       "      <td>2.70</td>\n",
       "      <td>16.0</td>\n",
       "      <td>51.0</td>\n",
       "      <td>8</td>\n",
       "      <td>NaN</td>\n",
       "      <td>...</td>\n",
       "      <td>25.0</td>\n",
       "      <td>NaN</td>\n",
       "      <td>Санкт-Петербург</td>\n",
       "      <td>18863.0</td>\n",
       "      <td>16028.0</td>\n",
       "      <td>1.0</td>\n",
       "      <td>482.0</td>\n",
       "      <td>2.0</td>\n",
       "      <td>755.0</td>\n",
       "      <td>NaN</td>\n",
       "    </tr>\n",
       "    <tr>\n",
       "      <td>1</td>\n",
       "      <td>7</td>\n",
       "      <td>3350000.0</td>\n",
       "      <td>40.4</td>\n",
       "      <td>2018-12-04T00:00:00</td>\n",
       "      <td>1</td>\n",
       "      <td>NaN</td>\n",
       "      <td>11.0</td>\n",
       "      <td>18.6</td>\n",
       "      <td>1</td>\n",
       "      <td>NaN</td>\n",
       "      <td>...</td>\n",
       "      <td>11.0</td>\n",
       "      <td>2.0</td>\n",
       "      <td>посёлок Шушары</td>\n",
       "      <td>12817.0</td>\n",
       "      <td>18603.0</td>\n",
       "      <td>0.0</td>\n",
       "      <td>NaN</td>\n",
       "      <td>0.0</td>\n",
       "      <td>NaN</td>\n",
       "      <td>81.0</td>\n",
       "    </tr>\n",
       "    <tr>\n",
       "      <td>2</td>\n",
       "      <td>10</td>\n",
       "      <td>5196000.0</td>\n",
       "      <td>56.0</td>\n",
       "      <td>2015-08-20T00:00:00</td>\n",
       "      <td>2</td>\n",
       "      <td>NaN</td>\n",
       "      <td>5.0</td>\n",
       "      <td>34.3</td>\n",
       "      <td>4</td>\n",
       "      <td>NaN</td>\n",
       "      <td>...</td>\n",
       "      <td>8.3</td>\n",
       "      <td>0.0</td>\n",
       "      <td>Санкт-Петербург</td>\n",
       "      <td>21741.0</td>\n",
       "      <td>13933.0</td>\n",
       "      <td>1.0</td>\n",
       "      <td>90.0</td>\n",
       "      <td>2.0</td>\n",
       "      <td>574.0</td>\n",
       "      <td>558.0</td>\n",
       "    </tr>\n",
       "    <tr>\n",
       "      <td>3</td>\n",
       "      <td>0</td>\n",
       "      <td>64900000.0</td>\n",
       "      <td>159.0</td>\n",
       "      <td>2015-07-24T00:00:00</td>\n",
       "      <td>3</td>\n",
       "      <td>NaN</td>\n",
       "      <td>14.0</td>\n",
       "      <td>NaN</td>\n",
       "      <td>9</td>\n",
       "      <td>NaN</td>\n",
       "      <td>...</td>\n",
       "      <td>NaN</td>\n",
       "      <td>0.0</td>\n",
       "      <td>Санкт-Петербург</td>\n",
       "      <td>28098.0</td>\n",
       "      <td>6800.0</td>\n",
       "      <td>2.0</td>\n",
       "      <td>84.0</td>\n",
       "      <td>3.0</td>\n",
       "      <td>234.0</td>\n",
       "      <td>424.0</td>\n",
       "    </tr>\n",
       "    <tr>\n",
       "      <td>4</td>\n",
       "      <td>2</td>\n",
       "      <td>10000000.0</td>\n",
       "      <td>100.0</td>\n",
       "      <td>2018-06-19T00:00:00</td>\n",
       "      <td>2</td>\n",
       "      <td>3.03</td>\n",
       "      <td>14.0</td>\n",
       "      <td>32.0</td>\n",
       "      <td>13</td>\n",
       "      <td>NaN</td>\n",
       "      <td>...</td>\n",
       "      <td>41.0</td>\n",
       "      <td>NaN</td>\n",
       "      <td>Санкт-Петербург</td>\n",
       "      <td>31856.0</td>\n",
       "      <td>8098.0</td>\n",
       "      <td>2.0</td>\n",
       "      <td>112.0</td>\n",
       "      <td>1.0</td>\n",
       "      <td>48.0</td>\n",
       "      <td>121.0</td>\n",
       "    </tr>\n",
       "  </tbody>\n",
       "</table>\n",
       "<p>5 rows × 22 columns</p>\n",
       "</div>"
      ],
      "text/plain": [
       "   total_images  last_price  total_area first_day_exposition  rooms  \\\n",
       "0            20  13000000.0       108.0  2019-03-07T00:00:00      3   \n",
       "1             7   3350000.0        40.4  2018-12-04T00:00:00      1   \n",
       "2            10   5196000.0        56.0  2015-08-20T00:00:00      2   \n",
       "3             0  64900000.0       159.0  2015-07-24T00:00:00      3   \n",
       "4             2  10000000.0       100.0  2018-06-19T00:00:00      2   \n",
       "\n",
       "   ceiling_height  floors_total  living_area  floor is_apartment  ...  \\\n",
       "0            2.70          16.0         51.0      8          NaN  ...   \n",
       "1             NaN          11.0         18.6      1          NaN  ...   \n",
       "2             NaN           5.0         34.3      4          NaN  ...   \n",
       "3             NaN          14.0          NaN      9          NaN  ...   \n",
       "4            3.03          14.0         32.0     13          NaN  ...   \n",
       "\n",
       "   kitchen_area  balcony    locality_name  airports_nearest  \\\n",
       "0          25.0      NaN  Санкт-Петербург           18863.0   \n",
       "1          11.0      2.0   посёлок Шушары           12817.0   \n",
       "2           8.3      0.0  Санкт-Петербург           21741.0   \n",
       "3           NaN      0.0  Санкт-Петербург           28098.0   \n",
       "4          41.0      NaN  Санкт-Петербург           31856.0   \n",
       "\n",
       "  cityCenters_nearest  parks_around3000  parks_nearest  ponds_around3000  \\\n",
       "0             16028.0               1.0          482.0               2.0   \n",
       "1             18603.0               0.0            NaN               0.0   \n",
       "2             13933.0               1.0           90.0               2.0   \n",
       "3              6800.0               2.0           84.0               3.0   \n",
       "4              8098.0               2.0          112.0               1.0   \n",
       "\n",
       "   ponds_nearest  days_exposition  \n",
       "0          755.0              NaN  \n",
       "1            NaN             81.0  \n",
       "2          574.0            558.0  \n",
       "3          234.0            424.0  \n",
       "4           48.0            121.0  \n",
       "\n",
       "[5 rows x 22 columns]"
      ]
     },
     "execution_count": 1,
     "metadata": {},
     "output_type": "execute_result"
    }
   ],
   "source": [
    "import pandas as pd\n",
    "import datetime as dt\n",
    "import matplotlib.pyplot as plt\n",
    "%matplotlib inline\n",
    "\n",
    "df = pd.read_csv('/datasets/real_estate_data.csv', sep='\\t')\n",
    "df.head()\n"
   ]
  },
  {
   "cell_type": "code",
   "execution_count": 2,
   "metadata": {},
   "outputs": [
    {
     "name": "stdout",
     "output_type": "stream",
     "text": [
      "<class 'pandas.core.frame.DataFrame'>\n",
      "RangeIndex: 23699 entries, 0 to 23698\n",
      "Data columns (total 22 columns):\n",
      "total_images            23699 non-null int64\n",
      "last_price              23699 non-null float64\n",
      "total_area              23699 non-null float64\n",
      "first_day_exposition    23699 non-null object\n",
      "rooms                   23699 non-null int64\n",
      "ceiling_height          14504 non-null float64\n",
      "floors_total            23613 non-null float64\n",
      "living_area             21796 non-null float64\n",
      "floor                   23699 non-null int64\n",
      "is_apartment            2775 non-null object\n",
      "studio                  23699 non-null bool\n",
      "open_plan               23699 non-null bool\n",
      "kitchen_area            21421 non-null float64\n",
      "balcony                 12180 non-null float64\n",
      "locality_name           23650 non-null object\n",
      "airports_nearest        18157 non-null float64\n",
      "cityCenters_nearest     18180 non-null float64\n",
      "parks_around3000        18181 non-null float64\n",
      "parks_nearest           8079 non-null float64\n",
      "ponds_around3000        18181 non-null float64\n",
      "ponds_nearest           9110 non-null float64\n",
      "days_exposition         20518 non-null float64\n",
      "dtypes: bool(2), float64(14), int64(3), object(3)\n",
      "memory usage: 3.7+ MB\n"
     ]
    }
   ],
   "source": [
    "df.info()"
   ]
  },
  {
   "cell_type": "code",
   "execution_count": 3,
   "metadata": {},
   "outputs": [
    {
     "data": {
      "text/plain": [
       "23699"
      ]
     },
     "execution_count": 3,
     "metadata": {},
     "output_type": "execute_result"
    }
   ],
   "source": [
    "len(df)"
   ]
  },
  {
   "cell_type": "markdown",
   "metadata": {},
   "source": [
    "###### Сколько значений пропущено в каждой колонке?"
   ]
  },
  {
   "cell_type": "code",
   "execution_count": 4,
   "metadata": {
    "scrolled": true
   },
   "outputs": [
    {
     "data": {
      "text/html": [
       "<div>\n",
       "<style scoped>\n",
       "    .dataframe tbody tr th:only-of-type {\n",
       "        vertical-align: middle;\n",
       "    }\n",
       "\n",
       "    .dataframe tbody tr th {\n",
       "        vertical-align: top;\n",
       "    }\n",
       "\n",
       "    .dataframe thead th {\n",
       "        text-align: right;\n",
       "    }\n",
       "</style>\n",
       "<table border=\"1\" class=\"dataframe\">\n",
       "  <thead>\n",
       "    <tr style=\"text-align: right;\">\n",
       "      <th></th>\n",
       "      <th>column_name</th>\n",
       "      <th>percent_missing</th>\n",
       "    </tr>\n",
       "  </thead>\n",
       "  <tbody>\n",
       "    <tr>\n",
       "      <td>total_images</td>\n",
       "      <td>total_images</td>\n",
       "      <td>0.00</td>\n",
       "    </tr>\n",
       "    <tr>\n",
       "      <td>open_plan</td>\n",
       "      <td>open_plan</td>\n",
       "      <td>0.00</td>\n",
       "    </tr>\n",
       "    <tr>\n",
       "      <td>floor</td>\n",
       "      <td>floor</td>\n",
       "      <td>0.00</td>\n",
       "    </tr>\n",
       "    <tr>\n",
       "      <td>rooms</td>\n",
       "      <td>rooms</td>\n",
       "      <td>0.00</td>\n",
       "    </tr>\n",
       "    <tr>\n",
       "      <td>studio</td>\n",
       "      <td>studio</td>\n",
       "      <td>0.00</td>\n",
       "    </tr>\n",
       "    <tr>\n",
       "      <td>total_area</td>\n",
       "      <td>total_area</td>\n",
       "      <td>0.00</td>\n",
       "    </tr>\n",
       "    <tr>\n",
       "      <td>last_price</td>\n",
       "      <td>last_price</td>\n",
       "      <td>0.00</td>\n",
       "    </tr>\n",
       "    <tr>\n",
       "      <td>first_day_exposition</td>\n",
       "      <td>first_day_exposition</td>\n",
       "      <td>0.00</td>\n",
       "    </tr>\n",
       "    <tr>\n",
       "      <td>locality_name</td>\n",
       "      <td>locality_name</td>\n",
       "      <td>0.21</td>\n",
       "    </tr>\n",
       "    <tr>\n",
       "      <td>floors_total</td>\n",
       "      <td>floors_total</td>\n",
       "      <td>0.36</td>\n",
       "    </tr>\n",
       "    <tr>\n",
       "      <td>living_area</td>\n",
       "      <td>living_area</td>\n",
       "      <td>8.03</td>\n",
       "    </tr>\n",
       "    <tr>\n",
       "      <td>kitchen_area</td>\n",
       "      <td>kitchen_area</td>\n",
       "      <td>9.61</td>\n",
       "    </tr>\n",
       "    <tr>\n",
       "      <td>days_exposition</td>\n",
       "      <td>days_exposition</td>\n",
       "      <td>13.42</td>\n",
       "    </tr>\n",
       "    <tr>\n",
       "      <td>ponds_around3000</td>\n",
       "      <td>ponds_around3000</td>\n",
       "      <td>23.28</td>\n",
       "    </tr>\n",
       "    <tr>\n",
       "      <td>parks_around3000</td>\n",
       "      <td>parks_around3000</td>\n",
       "      <td>23.28</td>\n",
       "    </tr>\n",
       "    <tr>\n",
       "      <td>cityCenters_nearest</td>\n",
       "      <td>cityCenters_nearest</td>\n",
       "      <td>23.29</td>\n",
       "    </tr>\n",
       "    <tr>\n",
       "      <td>airports_nearest</td>\n",
       "      <td>airports_nearest</td>\n",
       "      <td>23.38</td>\n",
       "    </tr>\n",
       "    <tr>\n",
       "      <td>ceiling_height</td>\n",
       "      <td>ceiling_height</td>\n",
       "      <td>38.80</td>\n",
       "    </tr>\n",
       "    <tr>\n",
       "      <td>balcony</td>\n",
       "      <td>balcony</td>\n",
       "      <td>48.61</td>\n",
       "    </tr>\n",
       "    <tr>\n",
       "      <td>ponds_nearest</td>\n",
       "      <td>ponds_nearest</td>\n",
       "      <td>61.56</td>\n",
       "    </tr>\n",
       "    <tr>\n",
       "      <td>parks_nearest</td>\n",
       "      <td>parks_nearest</td>\n",
       "      <td>65.91</td>\n",
       "    </tr>\n",
       "    <tr>\n",
       "      <td>is_apartment</td>\n",
       "      <td>is_apartment</td>\n",
       "      <td>88.29</td>\n",
       "    </tr>\n",
       "  </tbody>\n",
       "</table>\n",
       "</div>"
      ],
      "text/plain": [
       "                               column_name  percent_missing\n",
       "total_images                  total_images             0.00\n",
       "open_plan                        open_plan             0.00\n",
       "floor                                floor             0.00\n",
       "rooms                                rooms             0.00\n",
       "studio                              studio             0.00\n",
       "total_area                      total_area             0.00\n",
       "last_price                      last_price             0.00\n",
       "first_day_exposition  first_day_exposition             0.00\n",
       "locality_name                locality_name             0.21\n",
       "floors_total                  floors_total             0.36\n",
       "living_area                    living_area             8.03\n",
       "kitchen_area                  kitchen_area             9.61\n",
       "days_exposition            days_exposition            13.42\n",
       "ponds_around3000          ponds_around3000            23.28\n",
       "parks_around3000          parks_around3000            23.28\n",
       "cityCenters_nearest    cityCenters_nearest            23.29\n",
       "airports_nearest          airports_nearest            23.38\n",
       "ceiling_height              ceiling_height            38.80\n",
       "balcony                            balcony            48.61\n",
       "ponds_nearest                ponds_nearest            61.56\n",
       "parks_nearest                parks_nearest            65.91\n",
       "is_apartment                  is_apartment            88.29"
      ]
     },
     "execution_count": 4,
     "metadata": {},
     "output_type": "execute_result"
    }
   ],
   "source": [
    "percent_missing = df.isnull().sum() * 100 / len(df)\n",
    "missing_value_df = pd.DataFrame({'column_name': df.columns,\n",
    "                                'percent_missing': percent_missing})\n",
    "missing_value_df.sort_values(by='percent_missing').round(2)"
   ]
  },
  {
   "cell_type": "markdown",
   "metadata": {},
   "source": [
    "### Вывод"
   ]
  },
  {
   "cell_type": "markdown",
   "metadata": {},
   "source": [
    "##### 1. где есть пропущенные значения"
   ]
  },
  {
   "cell_type": "markdown",
   "metadata": {},
   "source": [
    "+ceiling_height — не указана высота потолка. Заполним медианными значениями высот потолков в домах такой же этажности.\n",
    "\n",
    "kitchen_area — Пропущено всего 10%   \n",
    "living_area,  пропущена — оставить как есть. \n",
    "is_apartment — оставим как есть\n",
    "\n",
    "+balcony — дополним false (0)\n",
    "\n",
    "airports_nearest, cityCenters_nearest, parks_around3000, ponds_nearest — эти параметры в задании не используются, ничего делать не будем. Хотя они подозрительно одинаково парно пропущены\n",
    "\n",
    "days_exposition — оставить как есть, дополнять нечем. Пропущено всего 13%"
   ]
  },
  {
   "cell_type": "markdown",
   "metadata": {},
   "source": [
    "<s><font color='red'>+Пожалуйста, удали пропуски там, где это не сильно повлияет на данные. Используй метод fillna().</font>\n",
    "\n",
    "<font color='green'> Удалил!"
   ]
  },
  {
   "cell_type": "code",
   "execution_count": 5,
   "metadata": {},
   "outputs": [
    {
     "name": "stdout",
     "output_type": "stream",
     "text": [
      "                               column_name  percent_missing\n",
      "total_images                  total_images             0.00\n",
      "locality_name                locality_name             0.00\n",
      "balcony                            balcony             0.00\n",
      "open_plan                        open_plan             0.00\n",
      "floor                                floor             0.00\n",
      "floors_total                  floors_total             0.00\n",
      "studio                              studio             0.00\n",
      "rooms                                rooms             0.00\n",
      "first_day_exposition  first_day_exposition             0.00\n",
      "total_area                      total_area             0.00\n",
      "last_price                      last_price             0.00\n",
      "living_area                    living_area             7.91\n",
      "kitchen_area                  kitchen_area             9.43\n",
      "days_exposition            days_exposition            13.46\n",
      "parks_around3000          parks_around3000            23.34\n",
      "ponds_around3000          ponds_around3000            23.34\n",
      "cityCenters_nearest    cityCenters_nearest            23.34\n",
      "airports_nearest          airports_nearest            23.44\n",
      "ceiling_height              ceiling_height            38.55\n",
      "ponds_nearest                ponds_nearest            61.65\n",
      "parks_nearest                parks_nearest            65.92\n",
      "is_apartment                  is_apartment            88.29\n"
     ]
    }
   ],
   "source": [
    "# zerro_names = ['ponds_around3000', 'parks_around3000', 'floors_total', 'balcony', 'living_area', 'kitchen_area']\n",
    "# zerro_names = ['balcony']\n",
    "\n",
    "# for name in zerro_names:\n",
    "#     df[name] = df[name].fillna(0)\n",
    "\n",
    "# df[['locality_name','floors_total']].dropna(inplace = True)\n",
    "# df.reset_index(drop=True)\n",
    "\n",
    "# df.query(df.fillna().dropna(inplace=True).reset_index(drop=True)\n",
    "\n",
    "df = df.dropna(how='any', subset=['locality_name', 'floors_total'])\n",
    "df['balcony'] = df['balcony'].fillna(0)\n",
    "\n",
    "\n",
    "percent_missing = df.isnull().sum() * 100 / len(df)\n",
    "missing_value_df = pd.DataFrame({'column_name': df.columns,\n",
    "                                'percent_missing': percent_missing})\n",
    "print(missing_value_df.sort_values(by='percent_missing').round(2))"
   ]
  },
  {
   "cell_type": "markdown",
   "metadata": {},
   "source": [
    "<s><b><font color='red'>Ты меня немного не так понял, я имел в виду просто удалить строки, где нет названия населенного пункта и количества этажей. Они составляют меньше процента датасета, так что мы не потеряем много данных. А заменять отсутствующие значения вроде площади кухни или высоты дома на нули как раз нельзя, это исказит наш анализ. Для подобной замены нужно лигичное обоснование, как, наприер, с балконами. </font>  \n",
    "<font color='green'>Ага, убрал! Только я не понял, зачем для этого использовать fillNA — ведь это заполнение?  \n",
    "    <b><font color='blue'>Описка, приношу извинения. Но ты понял, что я имел в виду. :)"
   ]
  },
  {
   "cell_type": "markdown",
   "metadata": {},
   "source": [
    "<s><font color='red'> Если ты хотел убрать из датасета строки, где нет данных по количеству этажей, нужно применять dropna ко всему сету, указав в параметрах столбцы, в которых ищешь Na.</s>\n",
    "\n",
    "<font color='green'>    Вроде разобрался, спасибо!"
   ]
  },
  {
   "cell_type": "markdown",
   "metadata": {},
   "source": [
    "##### 2. Какие данные нужно изменить"
   ]
  },
  {
   "cell_type": "markdown",
   "metadata": {},
   "source": [
    "+++last_price, ceiling_height, floors_total, floor, days_exposition airports_nearest, cityCenters_nearest, parks_around3000, parks_nearest, ponds_around3000, ponds_nearest, balcony// int   \n",
    "\n",
    "+++ first_day_exposition // to date  \n",
    "\n",
    "is_apartment // bool  \n",
    "\n",
    "+++locality_name // str.lower()\n"
   ]
  },
  {
   "cell_type": "markdown",
   "metadata": {},
   "source": [
    "### Шаг 2. Предобработка данных"
   ]
  },
  {
   "cell_type": "markdown",
   "metadata": {},
   "source": [
    "###### Сделаем столбцы целочисленными"
   ]
  },
  {
   "cell_type": "code",
   "execution_count": 6,
   "metadata": {
    "scrolled": true
   },
   "outputs": [
    {
     "name": "stdout",
     "output_type": "stream",
     "text": [
      "<class 'pandas.core.frame.DataFrame'>\n",
      "Int64Index: 23565 entries, 0 to 23698\n",
      "Data columns (total 22 columns):\n",
      "total_images            23565 non-null int64\n",
      "last_price              23565 non-null int32\n",
      "total_area              23565 non-null float64\n",
      "first_day_exposition    23565 non-null object\n",
      "rooms                   23565 non-null int64\n",
      "ceiling_height          14481 non-null float64\n",
      "floors_total            23565 non-null int8\n",
      "living_area             21700 non-null float64\n",
      "floor                   23565 non-null int8\n",
      "is_apartment            2760 non-null object\n",
      "studio                  23565 non-null bool\n",
      "open_plan               23565 non-null bool\n",
      "kitchen_area            21343 non-null float64\n",
      "balcony                 23565 non-null int8\n",
      "locality_name           23565 non-null object\n",
      "airports_nearest        18041 non-null float64\n",
      "cityCenters_nearest     18064 non-null float64\n",
      "parks_around3000        18065 non-null float64\n",
      "parks_nearest           8030 non-null float64\n",
      "ponds_around3000        18065 non-null float64\n",
      "ponds_nearest           9036 non-null float64\n",
      "days_exposition         20394 non-null float64\n",
      "dtypes: bool(2), float64(11), int32(1), int64(2), int8(3), object(3)\n",
      "memory usage: 3.3+ MB\n"
     ]
    }
   ],
   "source": [
    "int_columns = ('balcony, last_price, ceiling_height, floors_total, floor, days_exposition, airports_nearest, cityCenters_nearest, parks_around3000, parks_nearest, ponds_around3000, ponds_nearest')\n",
    "               \n",
    "int_columns = int_columns.split(', ')\n",
    "for column in int_columns:\n",
    "    df[column] = pd.to_numeric(df[column], errors='coerce', downcast='integer')\n",
    "    \n",
    "df.info()    "
   ]
  },
  {
   "cell_type": "markdown",
   "metadata": {},
   "source": [
    "<s><font color='red'>Тип поменялся только у полей без пропусков. Попробуй другой метод.</font>  \n",
    "<font color='green'> Но ведь у NAN значение float — его не получится изменить, насколько я понял."
   ]
  },
  {
   "cell_type": "markdown",
   "metadata": {},
   "source": [
    "<font color='blue'>+Давай действовать так: удалим строки с немногочисленными пропущенными значениями, после чего у нас не останется пропусков в ключевых полях, далее, заменим в них тип данных на целочисленный. Не будем этого делать в оставшизся полях с пропусками.</font>"
   ]
  },
  {
   "cell_type": "markdown",
   "metadata": {},
   "source": [
    "###### first_day_exposition // to date  \n"
   ]
  },
  {
   "cell_type": "markdown",
   "metadata": {},
   "source": [
    "<font color='green'>Молодец, что использовал цикл.</font>"
   ]
  },
  {
   "cell_type": "code",
   "execution_count": 7,
   "metadata": {},
   "outputs": [
    {
     "data": {
      "text/plain": [
       "0   2019-03-07\n",
       "1   2018-12-04\n",
       "2   2015-08-20\n",
       "3   2015-07-24\n",
       "4   2018-06-19\n",
       "Name: first_day_exposition, dtype: datetime64[ns]"
      ]
     },
     "execution_count": 7,
     "metadata": {},
     "output_type": "execute_result"
    }
   ],
   "source": [
    "df['first_day_exposition'] = pd.to_datetime(df['first_day_exposition'],format='%Y-%m-%dT%H:%M:%S')\n",
    "df['first_day_exposition'].head()\n"
   ]
  },
  {
   "cell_type": "markdown",
   "metadata": {},
   "source": [
    "###### Недвижимость в строковый форма и lowercase\n"
   ]
  },
  {
   "cell_type": "code",
   "execution_count": 8,
   "metadata": {
    "scrolled": true
   },
   "outputs": [],
   "source": [
    "df['locality_name'] = df['locality_name'].astype('str').str.lower()"
   ]
  },
  {
   "cell_type": "code",
   "execution_count": 9,
   "metadata": {
    "scrolled": true
   },
   "outputs": [
    {
     "data": {
      "text/html": [
       "<div>\n",
       "<style scoped>\n",
       "    .dataframe tbody tr th:only-of-type {\n",
       "        vertical-align: middle;\n",
       "    }\n",
       "\n",
       "    .dataframe tbody tr th {\n",
       "        vertical-align: top;\n",
       "    }\n",
       "\n",
       "    .dataframe thead tr th {\n",
       "        text-align: left;\n",
       "    }\n",
       "\n",
       "    .dataframe thead tr:last-of-type th {\n",
       "        text-align: right;\n",
       "    }\n",
       "</style>\n",
       "<table border=\"1\" class=\"dataframe\">\n",
       "  <thead>\n",
       "    <tr>\n",
       "      <th></th>\n",
       "      <th colspan=\"2\" halign=\"left\">airports_nearest</th>\n",
       "      <th colspan=\"2\" halign=\"left\">balcony</th>\n",
       "      <th colspan=\"2\" halign=\"left\">ceiling_height</th>\n",
       "      <th colspan=\"2\" halign=\"left\">cityCenters_nearest</th>\n",
       "      <th colspan=\"2\" halign=\"left\">days_exposition</th>\n",
       "      <th>...</th>\n",
       "      <th colspan=\"2\" halign=\"left\">ponds_nearest</th>\n",
       "      <th colspan=\"2\" halign=\"left\">rooms</th>\n",
       "      <th colspan=\"2\" halign=\"left\">studio</th>\n",
       "      <th colspan=\"2\" halign=\"left\">total_area</th>\n",
       "      <th colspan=\"2\" halign=\"left\">total_images</th>\n",
       "    </tr>\n",
       "    <tr>\n",
       "      <th></th>\n",
       "      <th>count</th>\n",
       "      <th>mean</th>\n",
       "      <th>count</th>\n",
       "      <th>mean</th>\n",
       "      <th>count</th>\n",
       "      <th>mean</th>\n",
       "      <th>count</th>\n",
       "      <th>mean</th>\n",
       "      <th>count</th>\n",
       "      <th>mean</th>\n",
       "      <th>...</th>\n",
       "      <th>count</th>\n",
       "      <th>mean</th>\n",
       "      <th>count</th>\n",
       "      <th>mean</th>\n",
       "      <th>count</th>\n",
       "      <th>mean</th>\n",
       "      <th>count</th>\n",
       "      <th>mean</th>\n",
       "      <th>count</th>\n",
       "      <th>mean</th>\n",
       "    </tr>\n",
       "    <tr>\n",
       "      <th>locality_name</th>\n",
       "      <th></th>\n",
       "      <th></th>\n",
       "      <th></th>\n",
       "      <th></th>\n",
       "      <th></th>\n",
       "      <th></th>\n",
       "      <th></th>\n",
       "      <th></th>\n",
       "      <th></th>\n",
       "      <th></th>\n",
       "      <th></th>\n",
       "      <th></th>\n",
       "      <th></th>\n",
       "      <th></th>\n",
       "      <th></th>\n",
       "      <th></th>\n",
       "      <th></th>\n",
       "      <th></th>\n",
       "      <th></th>\n",
       "      <th></th>\n",
       "      <th></th>\n",
       "    </tr>\n",
       "  </thead>\n",
       "  <tbody>\n",
       "    <tr>\n",
       "      <td>бокситогорск</td>\n",
       "      <td>0</td>\n",
       "      <td>NaN</td>\n",
       "      <td>16.0</td>\n",
       "      <td>0.187500</td>\n",
       "      <td>2</td>\n",
       "      <td>3.900000</td>\n",
       "      <td>0</td>\n",
       "      <td>NaN</td>\n",
       "      <td>14</td>\n",
       "      <td>89.571429</td>\n",
       "      <td>...</td>\n",
       "      <td>0</td>\n",
       "      <td>NaN</td>\n",
       "      <td>16.0</td>\n",
       "      <td>2.125000</td>\n",
       "      <td>16</td>\n",
       "      <td>0.000000</td>\n",
       "      <td>16</td>\n",
       "      <td>48.075000</td>\n",
       "      <td>16.0</td>\n",
       "      <td>7.625000</td>\n",
       "    </tr>\n",
       "    <tr>\n",
       "      <td>волосово</td>\n",
       "      <td>0</td>\n",
       "      <td>NaN</td>\n",
       "      <td>36.0</td>\n",
       "      <td>0.750000</td>\n",
       "      <td>19</td>\n",
       "      <td>2.531579</td>\n",
       "      <td>0</td>\n",
       "      <td>NaN</td>\n",
       "      <td>31</td>\n",
       "      <td>279.516129</td>\n",
       "      <td>...</td>\n",
       "      <td>0</td>\n",
       "      <td>NaN</td>\n",
       "      <td>36.0</td>\n",
       "      <td>1.916667</td>\n",
       "      <td>36</td>\n",
       "      <td>0.000000</td>\n",
       "      <td>36</td>\n",
       "      <td>50.184722</td>\n",
       "      <td>36.0</td>\n",
       "      <td>8.333333</td>\n",
       "    </tr>\n",
       "    <tr>\n",
       "      <td>волхов</td>\n",
       "      <td>0</td>\n",
       "      <td>NaN</td>\n",
       "      <td>111.0</td>\n",
       "      <td>0.351351</td>\n",
       "      <td>58</td>\n",
       "      <td>3.151207</td>\n",
       "      <td>0</td>\n",
       "      <td>NaN</td>\n",
       "      <td>85</td>\n",
       "      <td>152.400000</td>\n",
       "      <td>...</td>\n",
       "      <td>0</td>\n",
       "      <td>NaN</td>\n",
       "      <td>111.0</td>\n",
       "      <td>1.990991</td>\n",
       "      <td>111</td>\n",
       "      <td>0.000000</td>\n",
       "      <td>111</td>\n",
       "      <td>49.655856</td>\n",
       "      <td>111.0</td>\n",
       "      <td>8.522523</td>\n",
       "    </tr>\n",
       "    <tr>\n",
       "      <td>всеволожск</td>\n",
       "      <td>0</td>\n",
       "      <td>NaN</td>\n",
       "      <td>398.0</td>\n",
       "      <td>0.721106</td>\n",
       "      <td>272</td>\n",
       "      <td>2.675625</td>\n",
       "      <td>0</td>\n",
       "      <td>NaN</td>\n",
       "      <td>339</td>\n",
       "      <td>197.085546</td>\n",
       "      <td>...</td>\n",
       "      <td>0</td>\n",
       "      <td>NaN</td>\n",
       "      <td>398.0</td>\n",
       "      <td>1.914573</td>\n",
       "      <td>398</td>\n",
       "      <td>0.015075</td>\n",
       "      <td>398</td>\n",
       "      <td>56.022186</td>\n",
       "      <td>398.0</td>\n",
       "      <td>10.253769</td>\n",
       "    </tr>\n",
       "    <tr>\n",
       "      <td>выборг</td>\n",
       "      <td>0</td>\n",
       "      <td>NaN</td>\n",
       "      <td>237.0</td>\n",
       "      <td>0.354430</td>\n",
       "      <td>98</td>\n",
       "      <td>2.728776</td>\n",
       "      <td>0</td>\n",
       "      <td>NaN</td>\n",
       "      <td>208</td>\n",
       "      <td>177.375000</td>\n",
       "      <td>...</td>\n",
       "      <td>0</td>\n",
       "      <td>NaN</td>\n",
       "      <td>237.0</td>\n",
       "      <td>2.122363</td>\n",
       "      <td>237</td>\n",
       "      <td>0.000000</td>\n",
       "      <td>237</td>\n",
       "      <td>56.150042</td>\n",
       "      <td>237.0</td>\n",
       "      <td>9.679325</td>\n",
       "    </tr>\n",
       "    <tr>\n",
       "      <td>...</td>\n",
       "      <td>...</td>\n",
       "      <td>...</td>\n",
       "      <td>...</td>\n",
       "      <td>...</td>\n",
       "      <td>...</td>\n",
       "      <td>...</td>\n",
       "      <td>...</td>\n",
       "      <td>...</td>\n",
       "      <td>...</td>\n",
       "      <td>...</td>\n",
       "      <td>...</td>\n",
       "      <td>...</td>\n",
       "      <td>...</td>\n",
       "      <td>...</td>\n",
       "      <td>...</td>\n",
       "      <td>...</td>\n",
       "      <td>...</td>\n",
       "      <td>...</td>\n",
       "      <td>...</td>\n",
       "      <td>...</td>\n",
       "      <td>...</td>\n",
       "    </tr>\n",
       "    <tr>\n",
       "      <td>сосновый бор</td>\n",
       "      <td>0</td>\n",
       "      <td>NaN</td>\n",
       "      <td>87.0</td>\n",
       "      <td>0.804598</td>\n",
       "      <td>51</td>\n",
       "      <td>2.570784</td>\n",
       "      <td>0</td>\n",
       "      <td>NaN</td>\n",
       "      <td>74</td>\n",
       "      <td>99.594595</td>\n",
       "      <td>...</td>\n",
       "      <td>0</td>\n",
       "      <td>NaN</td>\n",
       "      <td>87.0</td>\n",
       "      <td>2.183908</td>\n",
       "      <td>87</td>\n",
       "      <td>0.000000</td>\n",
       "      <td>87</td>\n",
       "      <td>52.726437</td>\n",
       "      <td>87.0</td>\n",
       "      <td>12.459770</td>\n",
       "    </tr>\n",
       "    <tr>\n",
       "      <td>сясьстрой</td>\n",
       "      <td>0</td>\n",
       "      <td>NaN</td>\n",
       "      <td>24.0</td>\n",
       "      <td>0.791667</td>\n",
       "      <td>10</td>\n",
       "      <td>2.565000</td>\n",
       "      <td>0</td>\n",
       "      <td>NaN</td>\n",
       "      <td>17</td>\n",
       "      <td>154.647059</td>\n",
       "      <td>...</td>\n",
       "      <td>0</td>\n",
       "      <td>NaN</td>\n",
       "      <td>24.0</td>\n",
       "      <td>2.083333</td>\n",
       "      <td>24</td>\n",
       "      <td>0.000000</td>\n",
       "      <td>24</td>\n",
       "      <td>47.591667</td>\n",
       "      <td>24.0</td>\n",
       "      <td>8.500000</td>\n",
       "    </tr>\n",
       "    <tr>\n",
       "      <td>тихвин</td>\n",
       "      <td>0</td>\n",
       "      <td>NaN</td>\n",
       "      <td>49.0</td>\n",
       "      <td>0.836735</td>\n",
       "      <td>11</td>\n",
       "      <td>2.610909</td>\n",
       "      <td>0</td>\n",
       "      <td>NaN</td>\n",
       "      <td>40</td>\n",
       "      <td>94.575000</td>\n",
       "      <td>...</td>\n",
       "      <td>0</td>\n",
       "      <td>NaN</td>\n",
       "      <td>49.0</td>\n",
       "      <td>2.061224</td>\n",
       "      <td>49</td>\n",
       "      <td>0.000000</td>\n",
       "      <td>49</td>\n",
       "      <td>49.694898</td>\n",
       "      <td>49.0</td>\n",
       "      <td>6.326531</td>\n",
       "    </tr>\n",
       "    <tr>\n",
       "      <td>тосно</td>\n",
       "      <td>0</td>\n",
       "      <td>NaN</td>\n",
       "      <td>104.0</td>\n",
       "      <td>0.817308</td>\n",
       "      <td>70</td>\n",
       "      <td>2.542286</td>\n",
       "      <td>0</td>\n",
       "      <td>NaN</td>\n",
       "      <td>94</td>\n",
       "      <td>160.553191</td>\n",
       "      <td>...</td>\n",
       "      <td>0</td>\n",
       "      <td>NaN</td>\n",
       "      <td>104.0</td>\n",
       "      <td>2.144231</td>\n",
       "      <td>104</td>\n",
       "      <td>0.009615</td>\n",
       "      <td>104</td>\n",
       "      <td>54.388750</td>\n",
       "      <td>104.0</td>\n",
       "      <td>8.951923</td>\n",
       "    </tr>\n",
       "    <tr>\n",
       "      <td>шлиссельбург</td>\n",
       "      <td>0</td>\n",
       "      <td>NaN</td>\n",
       "      <td>57.0</td>\n",
       "      <td>0.614035</td>\n",
       "      <td>41</td>\n",
       "      <td>2.589024</td>\n",
       "      <td>0</td>\n",
       "      <td>NaN</td>\n",
       "      <td>45</td>\n",
       "      <td>211.688889</td>\n",
       "      <td>...</td>\n",
       "      <td>0</td>\n",
       "      <td>NaN</td>\n",
       "      <td>57.0</td>\n",
       "      <td>1.964912</td>\n",
       "      <td>57</td>\n",
       "      <td>0.000000</td>\n",
       "      <td>57</td>\n",
       "      <td>52.835965</td>\n",
       "      <td>57.0</td>\n",
       "      <td>10.210526</td>\n",
       "    </tr>\n",
       "  </tbody>\n",
       "</table>\n",
       "<p>364 rows × 38 columns</p>\n",
       "</div>"
      ],
      "text/plain": [
       "              airports_nearest      balcony           ceiling_height  \\\n",
       "                         count mean   count      mean          count   \n",
       "locality_name                                                          \n",
       "бокситогорск                 0  NaN    16.0  0.187500              2   \n",
       "волосово                     0  NaN    36.0  0.750000             19   \n",
       "волхов                       0  NaN   111.0  0.351351             58   \n",
       "всеволожск                   0  NaN   398.0  0.721106            272   \n",
       "выборг                       0  NaN   237.0  0.354430             98   \n",
       "...                        ...  ...     ...       ...            ...   \n",
       "сосновый бор                 0  NaN    87.0  0.804598             51   \n",
       "сясьстрой                    0  NaN    24.0  0.791667             10   \n",
       "тихвин                       0  NaN    49.0  0.836735             11   \n",
       "тосно                        0  NaN   104.0  0.817308             70   \n",
       "шлиссельбург                 0  NaN    57.0  0.614035             41   \n",
       "\n",
       "                        cityCenters_nearest      days_exposition              \\\n",
       "                   mean               count mean           count        mean   \n",
       "locality_name                                                                  \n",
       "бокситогорск   3.900000                   0  NaN              14   89.571429   \n",
       "волосово       2.531579                   0  NaN              31  279.516129   \n",
       "волхов         3.151207                   0  NaN              85  152.400000   \n",
       "всеволожск     2.675625                   0  NaN             339  197.085546   \n",
       "выборг         2.728776                   0  NaN             208  177.375000   \n",
       "...                 ...                 ...  ...             ...         ...   \n",
       "сосновый бор   2.570784                   0  NaN              74   99.594595   \n",
       "сясьстрой      2.565000                   0  NaN              17  154.647059   \n",
       "тихвин         2.610909                   0  NaN              40   94.575000   \n",
       "тосно          2.542286                   0  NaN              94  160.553191   \n",
       "шлиссельбург   2.589024                   0  NaN              45  211.688889   \n",
       "\n",
       "               ... ponds_nearest       rooms           studio            \\\n",
       "               ...         count mean  count      mean  count      mean   \n",
       "locality_name  ...                                                        \n",
       "бокситогорск   ...             0  NaN   16.0  2.125000     16  0.000000   \n",
       "волосово       ...             0  NaN   36.0  1.916667     36  0.000000   \n",
       "волхов         ...             0  NaN  111.0  1.990991    111  0.000000   \n",
       "всеволожск     ...             0  NaN  398.0  1.914573    398  0.015075   \n",
       "выборг         ...             0  NaN  237.0  2.122363    237  0.000000   \n",
       "...            ...           ...  ...    ...       ...    ...       ...   \n",
       "сосновый бор   ...             0  NaN   87.0  2.183908     87  0.000000   \n",
       "сясьстрой      ...             0  NaN   24.0  2.083333     24  0.000000   \n",
       "тихвин         ...             0  NaN   49.0  2.061224     49  0.000000   \n",
       "тосно          ...             0  NaN  104.0  2.144231    104  0.009615   \n",
       "шлиссельбург   ...             0  NaN   57.0  1.964912     57  0.000000   \n",
       "\n",
       "              total_area            total_images             \n",
       "                   count       mean        count       mean  \n",
       "locality_name                                                \n",
       "бокситогорск          16  48.075000         16.0   7.625000  \n",
       "волосово              36  50.184722         36.0   8.333333  \n",
       "волхов               111  49.655856        111.0   8.522523  \n",
       "всеволожск           398  56.022186        398.0  10.253769  \n",
       "выборг               237  56.150042        237.0   9.679325  \n",
       "...                  ...        ...          ...        ...  \n",
       "сосновый бор          87  52.726437         87.0  12.459770  \n",
       "сясьстрой             24  47.591667         24.0   8.500000  \n",
       "тихвин                49  49.694898         49.0   6.326531  \n",
       "тосно                104  54.388750        104.0   8.951923  \n",
       "шлиссельбург          57  52.835965         57.0  10.210526  \n",
       "\n",
       "[364 rows x 38 columns]"
      ]
     },
     "execution_count": 9,
     "metadata": {},
     "output_type": "execute_result"
    }
   ],
   "source": [
    "df.pivot_table(index ='locality_name', aggfunc=('count', 'mean'))\n"
   ]
  },
  {
   "cell_type": "markdown",
   "metadata": {},
   "source": [
    "<s><font color='red'> Давай все же что-то сделаем с высотой потолков. Например, предположим, что у всех домов одинаковой этажности потолки примерно одинаковой высоты и заполним поле медианными значениями в соответствии с этажностью дома.  \n",
    "    Также я хотел бы увидеть гипотезы насчет появления пропусков и рассуждения по поводу их случайности/неслучайности.\n",
    "    \n",
    "<font color='green'> Явно пропуски в геолокационных данных связаны с ошибкой выгрузки — мы всегда знаем адрес квартиры и карты существуют. Поскольку данные сформированы автоматически — кто-то ошибся при выгрузке."
   ]
  },
  {
   "cell_type": "markdown",
   "metadata": {},
   "source": [
    "заполним поле медианными значениями в соответствии с этажностью дома"
   ]
  },
  {
   "cell_type": "code",
   "execution_count": 10,
   "metadata": {
    "scrolled": true
   },
   "outputs": [
    {
     "data": {
      "text/html": [
       "<div>\n",
       "<style scoped>\n",
       "    .dataframe tbody tr th:only-of-type {\n",
       "        vertical-align: middle;\n",
       "    }\n",
       "\n",
       "    .dataframe tbody tr th {\n",
       "        vertical-align: top;\n",
       "    }\n",
       "\n",
       "    .dataframe thead th {\n",
       "        text-align: right;\n",
       "    }\n",
       "</style>\n",
       "<table border=\"1\" class=\"dataframe\">\n",
       "  <thead>\n",
       "    <tr style=\"text-align: right;\">\n",
       "      <th></th>\n",
       "      <th>count</th>\n",
       "      <th>mean</th>\n",
       "      <th>median</th>\n",
       "    </tr>\n",
       "    <tr>\n",
       "      <th>floors_total</th>\n",
       "      <th></th>\n",
       "      <th></th>\n",
       "      <th></th>\n",
       "    </tr>\n",
       "  </thead>\n",
       "  <tbody>\n",
       "    <tr>\n",
       "      <td>1</td>\n",
       "      <td>10</td>\n",
       "      <td>2.740000</td>\n",
       "      <td>2.80</td>\n",
       "    </tr>\n",
       "    <tr>\n",
       "      <td>2</td>\n",
       "      <td>213</td>\n",
       "      <td>3.008028</td>\n",
       "      <td>2.70</td>\n",
       "    </tr>\n",
       "    <tr>\n",
       "      <td>3</td>\n",
       "      <td>399</td>\n",
       "      <td>2.969474</td>\n",
       "      <td>2.80</td>\n",
       "    </tr>\n",
       "    <tr>\n",
       "      <td>4</td>\n",
       "      <td>787</td>\n",
       "      <td>2.985909</td>\n",
       "      <td>3.00</td>\n",
       "    </tr>\n",
       "    <tr>\n",
       "      <td>5</td>\n",
       "      <td>3662</td>\n",
       "      <td>2.792865</td>\n",
       "      <td>2.55</td>\n",
       "    </tr>\n",
       "    <tr>\n",
       "      <td>6</td>\n",
       "      <td>618</td>\n",
       "      <td>3.121343</td>\n",
       "      <td>3.00</td>\n",
       "    </tr>\n",
       "    <tr>\n",
       "      <td>7</td>\n",
       "      <td>397</td>\n",
       "      <td>2.946322</td>\n",
       "      <td>3.00</td>\n",
       "    </tr>\n",
       "    <tr>\n",
       "      <td>8</td>\n",
       "      <td>219</td>\n",
       "      <td>2.856164</td>\n",
       "      <td>2.80</td>\n",
       "    </tr>\n",
       "    <tr>\n",
       "      <td>9</td>\n",
       "      <td>2557</td>\n",
       "      <td>2.599093</td>\n",
       "      <td>2.55</td>\n",
       "    </tr>\n",
       "    <tr>\n",
       "      <td>10</td>\n",
       "      <td>750</td>\n",
       "      <td>2.685200</td>\n",
       "      <td>2.60</td>\n",
       "    </tr>\n",
       "    <tr>\n",
       "      <td>11</td>\n",
       "      <td>109</td>\n",
       "      <td>2.782385</td>\n",
       "      <td>2.75</td>\n",
       "    </tr>\n",
       "    <tr>\n",
       "      <td>12</td>\n",
       "      <td>853</td>\n",
       "      <td>2.640258</td>\n",
       "      <td>2.65</td>\n",
       "    </tr>\n",
       "    <tr>\n",
       "      <td>13</td>\n",
       "      <td>117</td>\n",
       "      <td>2.715470</td>\n",
       "      <td>2.70</td>\n",
       "    </tr>\n",
       "    <tr>\n",
       "      <td>14</td>\n",
       "      <td>343</td>\n",
       "      <td>2.731545</td>\n",
       "      <td>2.60</td>\n",
       "    </tr>\n",
       "    <tr>\n",
       "      <td>15</td>\n",
       "      <td>225</td>\n",
       "      <td>2.714844</td>\n",
       "      <td>2.70</td>\n",
       "    </tr>\n",
       "    <tr>\n",
       "      <td>16</td>\n",
       "      <td>864</td>\n",
       "      <td>2.747674</td>\n",
       "      <td>2.70</td>\n",
       "    </tr>\n",
       "    <tr>\n",
       "      <td>17</td>\n",
       "      <td>503</td>\n",
       "      <td>2.749145</td>\n",
       "      <td>2.70</td>\n",
       "    </tr>\n",
       "    <tr>\n",
       "      <td>18</td>\n",
       "      <td>275</td>\n",
       "      <td>2.704582</td>\n",
       "      <td>2.70</td>\n",
       "    </tr>\n",
       "    <tr>\n",
       "      <td>19</td>\n",
       "      <td>134</td>\n",
       "      <td>2.778731</td>\n",
       "      <td>2.75</td>\n",
       "    </tr>\n",
       "    <tr>\n",
       "      <td>20</td>\n",
       "      <td>156</td>\n",
       "      <td>2.756859</td>\n",
       "      <td>2.75</td>\n",
       "    </tr>\n",
       "    <tr>\n",
       "      <td>21</td>\n",
       "      <td>65</td>\n",
       "      <td>2.711692</td>\n",
       "      <td>2.70</td>\n",
       "    </tr>\n",
       "    <tr>\n",
       "      <td>22</td>\n",
       "      <td>141</td>\n",
       "      <td>2.731560</td>\n",
       "      <td>2.75</td>\n",
       "    </tr>\n",
       "    <tr>\n",
       "      <td>23</td>\n",
       "      <td>195</td>\n",
       "      <td>2.753795</td>\n",
       "      <td>2.75</td>\n",
       "    </tr>\n",
       "    <tr>\n",
       "      <td>24</td>\n",
       "      <td>216</td>\n",
       "      <td>2.852037</td>\n",
       "      <td>2.75</td>\n",
       "    </tr>\n",
       "    <tr>\n",
       "      <td>25</td>\n",
       "      <td>523</td>\n",
       "      <td>2.776597</td>\n",
       "      <td>2.75</td>\n",
       "    </tr>\n",
       "    <tr>\n",
       "      <td>26</td>\n",
       "      <td>54</td>\n",
       "      <td>2.709259</td>\n",
       "      <td>2.66</td>\n",
       "    </tr>\n",
       "    <tr>\n",
       "      <td>27</td>\n",
       "      <td>72</td>\n",
       "      <td>2.675556</td>\n",
       "      <td>2.70</td>\n",
       "    </tr>\n",
       "    <tr>\n",
       "      <td>28</td>\n",
       "      <td>9</td>\n",
       "      <td>2.594444</td>\n",
       "      <td>2.60</td>\n",
       "    </tr>\n",
       "    <tr>\n",
       "      <td>29</td>\n",
       "      <td>1</td>\n",
       "      <td>2.600000</td>\n",
       "      <td>2.60</td>\n",
       "    </tr>\n",
       "    <tr>\n",
       "      <td>33</td>\n",
       "      <td>0</td>\n",
       "      <td>NaN</td>\n",
       "      <td>NaN</td>\n",
       "    </tr>\n",
       "    <tr>\n",
       "      <td>34</td>\n",
       "      <td>1</td>\n",
       "      <td>2.650000</td>\n",
       "      <td>2.65</td>\n",
       "    </tr>\n",
       "    <tr>\n",
       "      <td>35</td>\n",
       "      <td>8</td>\n",
       "      <td>2.710000</td>\n",
       "      <td>2.70</td>\n",
       "    </tr>\n",
       "    <tr>\n",
       "      <td>36</td>\n",
       "      <td>2</td>\n",
       "      <td>14.850000</td>\n",
       "      <td>14.85</td>\n",
       "    </tr>\n",
       "    <tr>\n",
       "      <td>37</td>\n",
       "      <td>1</td>\n",
       "      <td>1.750000</td>\n",
       "      <td>1.75</td>\n",
       "    </tr>\n",
       "    <tr>\n",
       "      <td>52</td>\n",
       "      <td>1</td>\n",
       "      <td>2.650000</td>\n",
       "      <td>2.65</td>\n",
       "    </tr>\n",
       "    <tr>\n",
       "      <td>60</td>\n",
       "      <td>1</td>\n",
       "      <td>2.880000</td>\n",
       "      <td>2.88</td>\n",
       "    </tr>\n",
       "  </tbody>\n",
       "</table>\n",
       "</div>"
      ],
      "text/plain": [
       "              count       mean  median\n",
       "floors_total                          \n",
       "1                10   2.740000    2.80\n",
       "2               213   3.008028    2.70\n",
       "3               399   2.969474    2.80\n",
       "4               787   2.985909    3.00\n",
       "5              3662   2.792865    2.55\n",
       "6               618   3.121343    3.00\n",
       "7               397   2.946322    3.00\n",
       "8               219   2.856164    2.80\n",
       "9              2557   2.599093    2.55\n",
       "10              750   2.685200    2.60\n",
       "11              109   2.782385    2.75\n",
       "12              853   2.640258    2.65\n",
       "13              117   2.715470    2.70\n",
       "14              343   2.731545    2.60\n",
       "15              225   2.714844    2.70\n",
       "16              864   2.747674    2.70\n",
       "17              503   2.749145    2.70\n",
       "18              275   2.704582    2.70\n",
       "19              134   2.778731    2.75\n",
       "20              156   2.756859    2.75\n",
       "21               65   2.711692    2.70\n",
       "22              141   2.731560    2.75\n",
       "23              195   2.753795    2.75\n",
       "24              216   2.852037    2.75\n",
       "25              523   2.776597    2.75\n",
       "26               54   2.709259    2.66\n",
       "27               72   2.675556    2.70\n",
       "28                9   2.594444    2.60\n",
       "29                1   2.600000    2.60\n",
       "33                0        NaN     NaN\n",
       "34                1   2.650000    2.65\n",
       "35                8   2.710000    2.70\n",
       "36                2  14.850000   14.85\n",
       "37                1   1.750000    1.75\n",
       "52                1   2.650000    2.65\n",
       "60                1   2.880000    2.88"
      ]
     },
     "execution_count": 10,
     "metadata": {},
     "output_type": "execute_result"
    }
   ],
   "source": [
    "df.groupby('floors_total')['ceiling_height'].agg(['count', 'mean', 'median'])"
   ]
  },
  {
   "cell_type": "markdown",
   "metadata": {},
   "source": [
    "Сравнивая медиану и среднюю в группах по этажности дома явно видны две проблемы — нет 33-го этажа вообще и в 36-этажном явно завышенные значения "
   ]
  },
  {
   "cell_type": "code",
   "execution_count": 11,
   "metadata": {
    "scrolled": true
   },
   "outputs": [
    {
     "data": {
      "text/html": [
       "<div>\n",
       "<style scoped>\n",
       "    .dataframe tbody tr th:only-of-type {\n",
       "        vertical-align: middle;\n",
       "    }\n",
       "\n",
       "    .dataframe tbody tr th {\n",
       "        vertical-align: top;\n",
       "    }\n",
       "\n",
       "    .dataframe thead th {\n",
       "        text-align: right;\n",
       "    }\n",
       "</style>\n",
       "<table border=\"1\" class=\"dataframe\">\n",
       "  <thead>\n",
       "    <tr style=\"text-align: right;\">\n",
       "      <th></th>\n",
       "      <th>total_images</th>\n",
       "      <th>last_price</th>\n",
       "      <th>total_area</th>\n",
       "      <th>first_day_exposition</th>\n",
       "      <th>rooms</th>\n",
       "      <th>ceiling_height</th>\n",
       "      <th>floors_total</th>\n",
       "      <th>living_area</th>\n",
       "      <th>floor</th>\n",
       "      <th>is_apartment</th>\n",
       "      <th>...</th>\n",
       "      <th>kitchen_area</th>\n",
       "      <th>balcony</th>\n",
       "      <th>locality_name</th>\n",
       "      <th>airports_nearest</th>\n",
       "      <th>cityCenters_nearest</th>\n",
       "      <th>parks_around3000</th>\n",
       "      <th>parks_nearest</th>\n",
       "      <th>ponds_around3000</th>\n",
       "      <th>ponds_nearest</th>\n",
       "      <th>days_exposition</th>\n",
       "    </tr>\n",
       "  </thead>\n",
       "  <tbody>\n",
       "    <tr>\n",
       "      <td>397</td>\n",
       "      <td>15</td>\n",
       "      <td>5990000</td>\n",
       "      <td>54.0</td>\n",
       "      <td>2018-03-22</td>\n",
       "      <td>2</td>\n",
       "      <td>NaN</td>\n",
       "      <td>36</td>\n",
       "      <td>21.4</td>\n",
       "      <td>28</td>\n",
       "      <td>NaN</td>\n",
       "      <td>...</td>\n",
       "      <td>18.7</td>\n",
       "      <td>1</td>\n",
       "      <td>санкт-петербург</td>\n",
       "      <td>18732.0</td>\n",
       "      <td>20444.0</td>\n",
       "      <td>0.0</td>\n",
       "      <td>NaN</td>\n",
       "      <td>3.0</td>\n",
       "      <td>80.0</td>\n",
       "      <td>11.0</td>\n",
       "    </tr>\n",
       "    <tr>\n",
       "      <td>5807</td>\n",
       "      <td>17</td>\n",
       "      <td>8150000</td>\n",
       "      <td>80.0</td>\n",
       "      <td>2019-01-09</td>\n",
       "      <td>2</td>\n",
       "      <td>27.0</td>\n",
       "      <td>36</td>\n",
       "      <td>41.0</td>\n",
       "      <td>13</td>\n",
       "      <td>NaN</td>\n",
       "      <td>...</td>\n",
       "      <td>12.0</td>\n",
       "      <td>5</td>\n",
       "      <td>санкт-петербург</td>\n",
       "      <td>18732.0</td>\n",
       "      <td>20444.0</td>\n",
       "      <td>0.0</td>\n",
       "      <td>NaN</td>\n",
       "      <td>3.0</td>\n",
       "      <td>80.0</td>\n",
       "      <td>38.0</td>\n",
       "    </tr>\n",
       "    <tr>\n",
       "      <td>11079</td>\n",
       "      <td>16</td>\n",
       "      <td>9200000</td>\n",
       "      <td>75.0</td>\n",
       "      <td>2019-02-22</td>\n",
       "      <td>2</td>\n",
       "      <td>2.7</td>\n",
       "      <td>36</td>\n",
       "      <td>40.0</td>\n",
       "      <td>29</td>\n",
       "      <td>NaN</td>\n",
       "      <td>...</td>\n",
       "      <td>12.0</td>\n",
       "      <td>2</td>\n",
       "      <td>санкт-петербург</td>\n",
       "      <td>18732.0</td>\n",
       "      <td>20444.0</td>\n",
       "      <td>0.0</td>\n",
       "      <td>NaN</td>\n",
       "      <td>3.0</td>\n",
       "      <td>80.0</td>\n",
       "      <td>NaN</td>\n",
       "    </tr>\n",
       "    <tr>\n",
       "      <td>11575</td>\n",
       "      <td>9</td>\n",
       "      <td>9900000</td>\n",
       "      <td>101.0</td>\n",
       "      <td>2016-04-28</td>\n",
       "      <td>3</td>\n",
       "      <td>NaN</td>\n",
       "      <td>33</td>\n",
       "      <td>53.0</td>\n",
       "      <td>32</td>\n",
       "      <td>False</td>\n",
       "      <td>...</td>\n",
       "      <td>21.0</td>\n",
       "      <td>0</td>\n",
       "      <td>санкт-петербург</td>\n",
       "      <td>18732.0</td>\n",
       "      <td>20444.0</td>\n",
       "      <td>0.0</td>\n",
       "      <td>NaN</td>\n",
       "      <td>3.0</td>\n",
       "      <td>80.0</td>\n",
       "      <td>53.0</td>\n",
       "    </tr>\n",
       "  </tbody>\n",
       "</table>\n",
       "<p>4 rows × 22 columns</p>\n",
       "</div>"
      ],
      "text/plain": [
       "       total_images  last_price  total_area first_day_exposition  rooms  \\\n",
       "397              15     5990000        54.0           2018-03-22      2   \n",
       "5807             17     8150000        80.0           2019-01-09      2   \n",
       "11079            16     9200000        75.0           2019-02-22      2   \n",
       "11575             9     9900000       101.0           2016-04-28      3   \n",
       "\n",
       "       ceiling_height  floors_total  living_area  floor is_apartment  ...  \\\n",
       "397               NaN            36         21.4     28          NaN  ...   \n",
       "5807             27.0            36         41.0     13          NaN  ...   \n",
       "11079             2.7            36         40.0     29          NaN  ...   \n",
       "11575             NaN            33         53.0     32        False  ...   \n",
       "\n",
       "       kitchen_area  balcony    locality_name  airports_nearest  \\\n",
       "397            18.7        1  санкт-петербург           18732.0   \n",
       "5807           12.0        5  санкт-петербург           18732.0   \n",
       "11079          12.0        2  санкт-петербург           18732.0   \n",
       "11575          21.0        0  санкт-петербург           18732.0   \n",
       "\n",
       "      cityCenters_nearest  parks_around3000  parks_nearest  ponds_around3000  \\\n",
       "397               20444.0               0.0            NaN               3.0   \n",
       "5807              20444.0               0.0            NaN               3.0   \n",
       "11079             20444.0               0.0            NaN               3.0   \n",
       "11575             20444.0               0.0            NaN               3.0   \n",
       "\n",
       "       ponds_nearest  days_exposition  \n",
       "397             80.0             11.0  \n",
       "5807            80.0             38.0  \n",
       "11079           80.0              NaN  \n",
       "11575           80.0             53.0  \n",
       "\n",
       "[4 rows x 22 columns]"
      ]
     },
     "execution_count": 11,
     "metadata": {},
     "output_type": "execute_result"
    }
   ],
   "source": [
    "df.query('floors_total == (33, 36)')"
   ]
  },
  {
   "cell_type": "code",
   "execution_count": 12,
   "metadata": {},
   "outputs": [
    {
     "data": {
      "text/html": [
       "<div>\n",
       "<style scoped>\n",
       "    .dataframe tbody tr th:only-of-type {\n",
       "        vertical-align: middle;\n",
       "    }\n",
       "\n",
       "    .dataframe tbody tr th {\n",
       "        vertical-align: top;\n",
       "    }\n",
       "\n",
       "    .dataframe thead th {\n",
       "        text-align: right;\n",
       "    }\n",
       "</style>\n",
       "<table border=\"1\" class=\"dataframe\">\n",
       "  <thead>\n",
       "    <tr style=\"text-align: right;\">\n",
       "      <th></th>\n",
       "      <th>total_images</th>\n",
       "      <th>last_price</th>\n",
       "      <th>total_area</th>\n",
       "      <th>first_day_exposition</th>\n",
       "      <th>rooms</th>\n",
       "      <th>ceiling_height</th>\n",
       "      <th>floors_total</th>\n",
       "      <th>living_area</th>\n",
       "      <th>floor</th>\n",
       "      <th>is_apartment</th>\n",
       "      <th>...</th>\n",
       "      <th>kitchen_area</th>\n",
       "      <th>balcony</th>\n",
       "      <th>locality_name</th>\n",
       "      <th>airports_nearest</th>\n",
       "      <th>cityCenters_nearest</th>\n",
       "      <th>parks_around3000</th>\n",
       "      <th>parks_nearest</th>\n",
       "      <th>ponds_around3000</th>\n",
       "      <th>ponds_nearest</th>\n",
       "      <th>days_exposition</th>\n",
       "    </tr>\n",
       "  </thead>\n",
       "  <tbody>\n",
       "    <tr>\n",
       "      <td>397</td>\n",
       "      <td>15</td>\n",
       "      <td>5990000</td>\n",
       "      <td>54.0</td>\n",
       "      <td>2018-03-22</td>\n",
       "      <td>2</td>\n",
       "      <td>NaN</td>\n",
       "      <td>36</td>\n",
       "      <td>21.4</td>\n",
       "      <td>28</td>\n",
       "      <td>NaN</td>\n",
       "      <td>...</td>\n",
       "      <td>18.7</td>\n",
       "      <td>1</td>\n",
       "      <td>санкт-петербург</td>\n",
       "      <td>18732.0</td>\n",
       "      <td>20444.0</td>\n",
       "      <td>0.0</td>\n",
       "      <td>NaN</td>\n",
       "      <td>3.0</td>\n",
       "      <td>80.0</td>\n",
       "      <td>11.0</td>\n",
       "    </tr>\n",
       "    <tr>\n",
       "      <td>5807</td>\n",
       "      <td>17</td>\n",
       "      <td>8150000</td>\n",
       "      <td>80.0</td>\n",
       "      <td>2019-01-09</td>\n",
       "      <td>2</td>\n",
       "      <td>27.0</td>\n",
       "      <td>36</td>\n",
       "      <td>41.0</td>\n",
       "      <td>13</td>\n",
       "      <td>NaN</td>\n",
       "      <td>...</td>\n",
       "      <td>12.0</td>\n",
       "      <td>5</td>\n",
       "      <td>санкт-петербург</td>\n",
       "      <td>18732.0</td>\n",
       "      <td>20444.0</td>\n",
       "      <td>0.0</td>\n",
       "      <td>NaN</td>\n",
       "      <td>3.0</td>\n",
       "      <td>80.0</td>\n",
       "      <td>38.0</td>\n",
       "    </tr>\n",
       "    <tr>\n",
       "      <td>11079</td>\n",
       "      <td>16</td>\n",
       "      <td>9200000</td>\n",
       "      <td>75.0</td>\n",
       "      <td>2019-02-22</td>\n",
       "      <td>2</td>\n",
       "      <td>2.7</td>\n",
       "      <td>36</td>\n",
       "      <td>40.0</td>\n",
       "      <td>29</td>\n",
       "      <td>NaN</td>\n",
       "      <td>...</td>\n",
       "      <td>12.0</td>\n",
       "      <td>2</td>\n",
       "      <td>санкт-петербург</td>\n",
       "      <td>18732.0</td>\n",
       "      <td>20444.0</td>\n",
       "      <td>0.0</td>\n",
       "      <td>NaN</td>\n",
       "      <td>3.0</td>\n",
       "      <td>80.0</td>\n",
       "      <td>NaN</td>\n",
       "    </tr>\n",
       "    <tr>\n",
       "      <td>11575</td>\n",
       "      <td>9</td>\n",
       "      <td>9900000</td>\n",
       "      <td>101.0</td>\n",
       "      <td>2016-04-28</td>\n",
       "      <td>3</td>\n",
       "      <td>NaN</td>\n",
       "      <td>33</td>\n",
       "      <td>53.0</td>\n",
       "      <td>32</td>\n",
       "      <td>False</td>\n",
       "      <td>...</td>\n",
       "      <td>21.0</td>\n",
       "      <td>0</td>\n",
       "      <td>санкт-петербург</td>\n",
       "      <td>18732.0</td>\n",
       "      <td>20444.0</td>\n",
       "      <td>0.0</td>\n",
       "      <td>NaN</td>\n",
       "      <td>3.0</td>\n",
       "      <td>80.0</td>\n",
       "      <td>53.0</td>\n",
       "    </tr>\n",
       "  </tbody>\n",
       "</table>\n",
       "<p>4 rows × 22 columns</p>\n",
       "</div>"
      ],
      "text/plain": [
       "       total_images  last_price  total_area first_day_exposition  rooms  \\\n",
       "397              15     5990000        54.0           2018-03-22      2   \n",
       "5807             17     8150000        80.0           2019-01-09      2   \n",
       "11079            16     9200000        75.0           2019-02-22      2   \n",
       "11575             9     9900000       101.0           2016-04-28      3   \n",
       "\n",
       "       ceiling_height  floors_total  living_area  floor is_apartment  ...  \\\n",
       "397               NaN            36         21.4     28          NaN  ...   \n",
       "5807             27.0            36         41.0     13          NaN  ...   \n",
       "11079             2.7            36         40.0     29          NaN  ...   \n",
       "11575             NaN            33         53.0     32        False  ...   \n",
       "\n",
       "       kitchen_area  balcony    locality_name  airports_nearest  \\\n",
       "397            18.7        1  санкт-петербург           18732.0   \n",
       "5807           12.0        5  санкт-петербург           18732.0   \n",
       "11079          12.0        2  санкт-петербург           18732.0   \n",
       "11575          21.0        0  санкт-петербург           18732.0   \n",
       "\n",
       "      cityCenters_nearest  parks_around3000  parks_nearest  ponds_around3000  \\\n",
       "397               20444.0               0.0            NaN               3.0   \n",
       "5807              20444.0               0.0            NaN               3.0   \n",
       "11079             20444.0               0.0            NaN               3.0   \n",
       "11575             20444.0               0.0            NaN               3.0   \n",
       "\n",
       "       ponds_nearest  days_exposition  \n",
       "397             80.0             11.0  \n",
       "5807            80.0             38.0  \n",
       "11079           80.0              NaN  \n",
       "11575           80.0             53.0  \n",
       "\n",
       "[4 rows x 22 columns]"
      ]
     },
     "execution_count": 12,
     "metadata": {},
     "output_type": "execute_result"
    }
   ],
   "source": [
    "df.query('floors_total == (33, 36)')"
   ]
  },
  {
   "cell_type": "markdown",
   "metadata": {},
   "source": [
    "Похоже у нас только одно объявление с 33 этажным домом. Удалим его."
   ]
  },
  {
   "cell_type": "code",
   "execution_count": 13,
   "metadata": {},
   "outputs": [],
   "source": [
    "df = df[df.floors_total != 33]"
   ]
  },
  {
   "cell_type": "code",
   "execution_count": 14,
   "metadata": {},
   "outputs": [],
   "source": [
    "df = df[df.ceiling_height != 100]"
   ]
  },
  {
   "cell_type": "markdown",
   "metadata": {},
   "source": [
    "Удалим высоту больше 100. Поправим высоту потолка везде где 27 на 2.7 — понятно что ошиблись при вводе."
   ]
  },
  {
   "cell_type": "code",
   "execution_count": 15,
   "metadata": {},
   "outputs": [
    {
     "data": {
      "text/plain": [
       "23563"
      ]
     },
     "execution_count": 15,
     "metadata": {},
     "output_type": "execute_result"
    }
   ],
   "source": [
    "len(df)"
   ]
  },
  {
   "cell_type": "code",
   "execution_count": 16,
   "metadata": {
    "scrolled": false
   },
   "outputs": [
    {
     "data": {
      "text/html": [
       "<div>\n",
       "<style scoped>\n",
       "    .dataframe tbody tr th:only-of-type {\n",
       "        vertical-align: middle;\n",
       "    }\n",
       "\n",
       "    .dataframe tbody tr th {\n",
       "        vertical-align: top;\n",
       "    }\n",
       "\n",
       "    .dataframe thead th {\n",
       "        text-align: right;\n",
       "    }\n",
       "</style>\n",
       "<table border=\"1\" class=\"dataframe\">\n",
       "  <thead>\n",
       "    <tr style=\"text-align: right;\">\n",
       "      <th></th>\n",
       "      <th>total_images</th>\n",
       "      <th>last_price</th>\n",
       "      <th>total_area</th>\n",
       "      <th>first_day_exposition</th>\n",
       "      <th>rooms</th>\n",
       "      <th>ceiling_height</th>\n",
       "      <th>floors_total</th>\n",
       "      <th>living_area</th>\n",
       "      <th>floor</th>\n",
       "      <th>is_apartment</th>\n",
       "      <th>...</th>\n",
       "      <th>kitchen_area</th>\n",
       "      <th>balcony</th>\n",
       "      <th>locality_name</th>\n",
       "      <th>airports_nearest</th>\n",
       "      <th>cityCenters_nearest</th>\n",
       "      <th>parks_around3000</th>\n",
       "      <th>parks_nearest</th>\n",
       "      <th>ponds_around3000</th>\n",
       "      <th>ponds_nearest</th>\n",
       "      <th>days_exposition</th>\n",
       "    </tr>\n",
       "  </thead>\n",
       "  <tbody>\n",
       "  </tbody>\n",
       "</table>\n",
       "<p>0 rows × 22 columns</p>\n",
       "</div>"
      ],
      "text/plain": [
       "Empty DataFrame\n",
       "Columns: [total_images, last_price, total_area, first_day_exposition, rooms, ceiling_height, floors_total, living_area, floor, is_apartment, studio, open_plan, kitchen_area, balcony, locality_name, airports_nearest, cityCenters_nearest, parks_around3000, parks_nearest, ponds_around3000, ponds_nearest, days_exposition]\n",
       "Index: []\n",
       "\n",
       "[0 rows x 22 columns]"
      ]
     },
     "execution_count": 16,
     "metadata": {},
     "output_type": "execute_result"
    }
   ],
   "source": [
    "def change_parametr(raw):\n",
    "    if raw == 27:\n",
    "        return 2.7\n",
    "    return raw\n",
    "    \n",
    "df['ceiling_height'] = df['ceiling_height'].apply(change_parametr)\n",
    "df[df['ceiling_height'] == 27]"
   ]
  },
  {
   "cell_type": "code",
   "execution_count": 17,
   "metadata": {
    "scrolled": true
   },
   "outputs": [
    {
     "data": {
      "text/html": [
       "<div>\n",
       "<style scoped>\n",
       "    .dataframe tbody tr th:only-of-type {\n",
       "        vertical-align: middle;\n",
       "    }\n",
       "\n",
       "    .dataframe tbody tr th {\n",
       "        vertical-align: top;\n",
       "    }\n",
       "\n",
       "    .dataframe thead th {\n",
       "        text-align: right;\n",
       "    }\n",
       "</style>\n",
       "<table border=\"1\" class=\"dataframe\">\n",
       "  <thead>\n",
       "    <tr style=\"text-align: right;\">\n",
       "      <th></th>\n",
       "      <th>count</th>\n",
       "      <th>mean</th>\n",
       "      <th>median</th>\n",
       "    </tr>\n",
       "    <tr>\n",
       "      <th>floors_total</th>\n",
       "      <th></th>\n",
       "      <th></th>\n",
       "      <th></th>\n",
       "    </tr>\n",
       "  </thead>\n",
       "  <tbody>\n",
       "    <tr>\n",
       "      <td>1</td>\n",
       "      <td>10</td>\n",
       "      <td>2.740000</td>\n",
       "      <td>2.80</td>\n",
       "    </tr>\n",
       "    <tr>\n",
       "      <td>2</td>\n",
       "      <td>213</td>\n",
       "      <td>2.779859</td>\n",
       "      <td>2.70</td>\n",
       "    </tr>\n",
       "    <tr>\n",
       "      <td>3</td>\n",
       "      <td>399</td>\n",
       "      <td>2.969474</td>\n",
       "      <td>2.80</td>\n",
       "    </tr>\n",
       "    <tr>\n",
       "      <td>4</td>\n",
       "      <td>787</td>\n",
       "      <td>2.955032</td>\n",
       "      <td>3.00</td>\n",
       "    </tr>\n",
       "    <tr>\n",
       "      <td>5</td>\n",
       "      <td>3661</td>\n",
       "      <td>2.753037</td>\n",
       "      <td>2.55</td>\n",
       "    </tr>\n",
       "    <tr>\n",
       "      <td>6</td>\n",
       "      <td>618</td>\n",
       "      <td>3.121343</td>\n",
       "      <td>3.00</td>\n",
       "    </tr>\n",
       "    <tr>\n",
       "      <td>7</td>\n",
       "      <td>397</td>\n",
       "      <td>2.946322</td>\n",
       "      <td>3.00</td>\n",
       "    </tr>\n",
       "    <tr>\n",
       "      <td>8</td>\n",
       "      <td>219</td>\n",
       "      <td>2.856164</td>\n",
       "      <td>2.80</td>\n",
       "    </tr>\n",
       "    <tr>\n",
       "      <td>9</td>\n",
       "      <td>2557</td>\n",
       "      <td>2.599093</td>\n",
       "      <td>2.55</td>\n",
       "    </tr>\n",
       "    <tr>\n",
       "      <td>10</td>\n",
       "      <td>750</td>\n",
       "      <td>2.652800</td>\n",
       "      <td>2.60</td>\n",
       "    </tr>\n",
       "    <tr>\n",
       "      <td>11</td>\n",
       "      <td>109</td>\n",
       "      <td>2.782385</td>\n",
       "      <td>2.75</td>\n",
       "    </tr>\n",
       "    <tr>\n",
       "      <td>12</td>\n",
       "      <td>853</td>\n",
       "      <td>2.640258</td>\n",
       "      <td>2.65</td>\n",
       "    </tr>\n",
       "    <tr>\n",
       "      <td>13</td>\n",
       "      <td>117</td>\n",
       "      <td>2.715470</td>\n",
       "      <td>2.70</td>\n",
       "    </tr>\n",
       "    <tr>\n",
       "      <td>14</td>\n",
       "      <td>343</td>\n",
       "      <td>2.731545</td>\n",
       "      <td>2.60</td>\n",
       "    </tr>\n",
       "    <tr>\n",
       "      <td>15</td>\n",
       "      <td>225</td>\n",
       "      <td>2.714844</td>\n",
       "      <td>2.70</td>\n",
       "    </tr>\n",
       "    <tr>\n",
       "      <td>16</td>\n",
       "      <td>864</td>\n",
       "      <td>2.747674</td>\n",
       "      <td>2.70</td>\n",
       "    </tr>\n",
       "    <tr>\n",
       "      <td>17</td>\n",
       "      <td>503</td>\n",
       "      <td>2.749145</td>\n",
       "      <td>2.70</td>\n",
       "    </tr>\n",
       "    <tr>\n",
       "      <td>18</td>\n",
       "      <td>275</td>\n",
       "      <td>2.704582</td>\n",
       "      <td>2.70</td>\n",
       "    </tr>\n",
       "    <tr>\n",
       "      <td>19</td>\n",
       "      <td>134</td>\n",
       "      <td>2.778731</td>\n",
       "      <td>2.75</td>\n",
       "    </tr>\n",
       "    <tr>\n",
       "      <td>20</td>\n",
       "      <td>156</td>\n",
       "      <td>2.756859</td>\n",
       "      <td>2.75</td>\n",
       "    </tr>\n",
       "    <tr>\n",
       "      <td>21</td>\n",
       "      <td>65</td>\n",
       "      <td>2.711692</td>\n",
       "      <td>2.70</td>\n",
       "    </tr>\n",
       "    <tr>\n",
       "      <td>22</td>\n",
       "      <td>141</td>\n",
       "      <td>2.731560</td>\n",
       "      <td>2.75</td>\n",
       "    </tr>\n",
       "    <tr>\n",
       "      <td>23</td>\n",
       "      <td>195</td>\n",
       "      <td>2.753795</td>\n",
       "      <td>2.75</td>\n",
       "    </tr>\n",
       "    <tr>\n",
       "      <td>24</td>\n",
       "      <td>216</td>\n",
       "      <td>2.852037</td>\n",
       "      <td>2.75</td>\n",
       "    </tr>\n",
       "    <tr>\n",
       "      <td>25</td>\n",
       "      <td>523</td>\n",
       "      <td>2.730134</td>\n",
       "      <td>2.75</td>\n",
       "    </tr>\n",
       "    <tr>\n",
       "      <td>26</td>\n",
       "      <td>54</td>\n",
       "      <td>2.709259</td>\n",
       "      <td>2.66</td>\n",
       "    </tr>\n",
       "    <tr>\n",
       "      <td>27</td>\n",
       "      <td>72</td>\n",
       "      <td>2.675556</td>\n",
       "      <td>2.70</td>\n",
       "    </tr>\n",
       "    <tr>\n",
       "      <td>28</td>\n",
       "      <td>9</td>\n",
       "      <td>2.594444</td>\n",
       "      <td>2.60</td>\n",
       "    </tr>\n",
       "    <tr>\n",
       "      <td>29</td>\n",
       "      <td>1</td>\n",
       "      <td>2.600000</td>\n",
       "      <td>2.60</td>\n",
       "    </tr>\n",
       "    <tr>\n",
       "      <td>34</td>\n",
       "      <td>1</td>\n",
       "      <td>2.650000</td>\n",
       "      <td>2.65</td>\n",
       "    </tr>\n",
       "    <tr>\n",
       "      <td>35</td>\n",
       "      <td>8</td>\n",
       "      <td>2.710000</td>\n",
       "      <td>2.70</td>\n",
       "    </tr>\n",
       "    <tr>\n",
       "      <td>36</td>\n",
       "      <td>2</td>\n",
       "      <td>2.700000</td>\n",
       "      <td>2.70</td>\n",
       "    </tr>\n",
       "    <tr>\n",
       "      <td>37</td>\n",
       "      <td>1</td>\n",
       "      <td>1.750000</td>\n",
       "      <td>1.75</td>\n",
       "    </tr>\n",
       "    <tr>\n",
       "      <td>52</td>\n",
       "      <td>1</td>\n",
       "      <td>2.650000</td>\n",
       "      <td>2.65</td>\n",
       "    </tr>\n",
       "    <tr>\n",
       "      <td>60</td>\n",
       "      <td>1</td>\n",
       "      <td>2.880000</td>\n",
       "      <td>2.88</td>\n",
       "    </tr>\n",
       "  </tbody>\n",
       "</table>\n",
       "</div>"
      ],
      "text/plain": [
       "              count      mean  median\n",
       "floors_total                         \n",
       "1                10  2.740000    2.80\n",
       "2               213  2.779859    2.70\n",
       "3               399  2.969474    2.80\n",
       "4               787  2.955032    3.00\n",
       "5              3661  2.753037    2.55\n",
       "6               618  3.121343    3.00\n",
       "7               397  2.946322    3.00\n",
       "8               219  2.856164    2.80\n",
       "9              2557  2.599093    2.55\n",
       "10              750  2.652800    2.60\n",
       "11              109  2.782385    2.75\n",
       "12              853  2.640258    2.65\n",
       "13              117  2.715470    2.70\n",
       "14              343  2.731545    2.60\n",
       "15              225  2.714844    2.70\n",
       "16              864  2.747674    2.70\n",
       "17              503  2.749145    2.70\n",
       "18              275  2.704582    2.70\n",
       "19              134  2.778731    2.75\n",
       "20              156  2.756859    2.75\n",
       "21               65  2.711692    2.70\n",
       "22              141  2.731560    2.75\n",
       "23              195  2.753795    2.75\n",
       "24              216  2.852037    2.75\n",
       "25              523  2.730134    2.75\n",
       "26               54  2.709259    2.66\n",
       "27               72  2.675556    2.70\n",
       "28                9  2.594444    2.60\n",
       "29                1  2.600000    2.60\n",
       "34                1  2.650000    2.65\n",
       "35                8  2.710000    2.70\n",
       "36                2  2.700000    2.70\n",
       "37                1  1.750000    1.75\n",
       "52                1  2.650000    2.65\n",
       "60                1  2.880000    2.88"
      ]
     },
     "execution_count": 17,
     "metadata": {},
     "output_type": "execute_result"
    }
   ],
   "source": [
    "df.groupby('floors_total')['ceiling_height'].agg(['count', 'mean', 'median'])"
   ]
  },
  {
   "cell_type": "code",
   "execution_count": 18,
   "metadata": {
    "scrolled": false
   },
   "outputs": [
    {
     "data": {
      "text/plain": [
       "<matplotlib.axes._subplots.AxesSubplot at 0x7fc4587d99e8>"
      ]
     },
     "execution_count": 18,
     "metadata": {},
     "output_type": "execute_result"
    },
    {
     "data": {
      "image/png": "[encoded data removed]",
      "text/plain": [
       "<Figure size 432x288 with 1 Axes>"
      ]
     },
     "metadata": {
      "needs_background": "light"
     },
     "output_type": "display_data"
    }
   ],
   "source": [
    "df.groupby('floors_total')['ceiling_height'].agg(['count', 'mean', 'median']).plot(kind='hist', bins=30, x='count', y='mean')"
   ]
  },
  {
   "cell_type": "code",
   "execution_count": 19,
   "metadata": {
    "scrolled": true
   },
   "outputs": [],
   "source": [
    "# df['ceiling_height'] = df.groupby('floors_total')['ceiling_height'].transform(lambda x: x.fillna(x.mean()))\n",
    "# не сработало, так как в столбце 'floors_total' были пропуски.\n",
    "df['ceiling_height'] = df.groupby('floors_total')['ceiling_height'].apply(lambda x: x.fillna(x.mean()))"
   ]
  },
  {
   "cell_type": "code",
   "execution_count": 20,
   "metadata": {},
   "outputs": [
    {
     "data": {
      "text/plain": [
       "0"
      ]
     },
     "execution_count": 20,
     "metadata": {},
     "output_type": "execute_result"
    }
   ],
   "source": [
    "df['ceiling_height'].isnull().sum()"
   ]
  },
  {
   "cell_type": "code",
   "execution_count": 21,
   "metadata": {
    "scrolled": true
   },
   "outputs": [
    {
     "data": {
      "text/html": [
       "<div>\n",
       "<style scoped>\n",
       "    .dataframe tbody tr th:only-of-type {\n",
       "        vertical-align: middle;\n",
       "    }\n",
       "\n",
       "    .dataframe tbody tr th {\n",
       "        vertical-align: top;\n",
       "    }\n",
       "\n",
       "    .dataframe thead th {\n",
       "        text-align: right;\n",
       "    }\n",
       "</style>\n",
       "<table border=\"1\" class=\"dataframe\">\n",
       "  <thead>\n",
       "    <tr style=\"text-align: right;\">\n",
       "      <th></th>\n",
       "      <th>total_images</th>\n",
       "      <th>last_price</th>\n",
       "      <th>total_area</th>\n",
       "      <th>first_day_exposition</th>\n",
       "      <th>rooms</th>\n",
       "      <th>ceiling_height</th>\n",
       "      <th>floors_total</th>\n",
       "      <th>living_area</th>\n",
       "      <th>floor</th>\n",
       "      <th>is_apartment</th>\n",
       "      <th>...</th>\n",
       "      <th>kitchen_area</th>\n",
       "      <th>balcony</th>\n",
       "      <th>locality_name</th>\n",
       "      <th>airports_nearest</th>\n",
       "      <th>cityCenters_nearest</th>\n",
       "      <th>parks_around3000</th>\n",
       "      <th>parks_nearest</th>\n",
       "      <th>ponds_around3000</th>\n",
       "      <th>ponds_nearest</th>\n",
       "      <th>days_exposition</th>\n",
       "    </tr>\n",
       "  </thead>\n",
       "  <tbody>\n",
       "    <tr>\n",
       "      <td>5712</td>\n",
       "      <td>5</td>\n",
       "      <td>1500000</td>\n",
       "      <td>42.8</td>\n",
       "      <td>2017-08-14</td>\n",
       "      <td>2</td>\n",
       "      <td>1.20</td>\n",
       "      <td>2</td>\n",
       "      <td>27.5</td>\n",
       "      <td>1</td>\n",
       "      <td>NaN</td>\n",
       "      <td>...</td>\n",
       "      <td>5.20</td>\n",
       "      <td>0</td>\n",
       "      <td>городской посёлок мга</td>\n",
       "      <td>NaN</td>\n",
       "      <td>NaN</td>\n",
       "      <td>NaN</td>\n",
       "      <td>NaN</td>\n",
       "      <td>NaN</td>\n",
       "      <td>NaN</td>\n",
       "      <td>248.0</td>\n",
       "    </tr>\n",
       "    <tr>\n",
       "      <td>16934</td>\n",
       "      <td>5</td>\n",
       "      <td>4100000</td>\n",
       "      <td>40.0</td>\n",
       "      <td>2017-10-17</td>\n",
       "      <td>1</td>\n",
       "      <td>1.75</td>\n",
       "      <td>37</td>\n",
       "      <td>17.4</td>\n",
       "      <td>5</td>\n",
       "      <td>NaN</td>\n",
       "      <td>...</td>\n",
       "      <td>8.34</td>\n",
       "      <td>0</td>\n",
       "      <td>санкт-петербург</td>\n",
       "      <td>18732.0</td>\n",
       "      <td>20444.0</td>\n",
       "      <td>0.0</td>\n",
       "      <td>NaN</td>\n",
       "      <td>3.0</td>\n",
       "      <td>80.0</td>\n",
       "      <td>71.0</td>\n",
       "    </tr>\n",
       "    <tr>\n",
       "      <td>22590</td>\n",
       "      <td>16</td>\n",
       "      <td>6000000</td>\n",
       "      <td>55.0</td>\n",
       "      <td>2018-10-31</td>\n",
       "      <td>2</td>\n",
       "      <td>1.00</td>\n",
       "      <td>12</td>\n",
       "      <td>32.4</td>\n",
       "      <td>7</td>\n",
       "      <td>NaN</td>\n",
       "      <td>...</td>\n",
       "      <td>10.00</td>\n",
       "      <td>0</td>\n",
       "      <td>санкт-петербург</td>\n",
       "      <td>33053.0</td>\n",
       "      <td>14217.0</td>\n",
       "      <td>2.0</td>\n",
       "      <td>293.0</td>\n",
       "      <td>2.0</td>\n",
       "      <td>289.0</td>\n",
       "      <td>13.0</td>\n",
       "    </tr>\n",
       "  </tbody>\n",
       "</table>\n",
       "<p>3 rows × 22 columns</p>\n",
       "</div>"
      ],
      "text/plain": [
       "       total_images  last_price  total_area first_day_exposition  rooms  \\\n",
       "5712              5     1500000        42.8           2017-08-14      2   \n",
       "16934             5     4100000        40.0           2017-10-17      1   \n",
       "22590            16     6000000        55.0           2018-10-31      2   \n",
       "\n",
       "       ceiling_height  floors_total  living_area  floor is_apartment  ...  \\\n",
       "5712             1.20             2         27.5      1          NaN  ...   \n",
       "16934            1.75            37         17.4      5          NaN  ...   \n",
       "22590            1.00            12         32.4      7          NaN  ...   \n",
       "\n",
       "       kitchen_area  balcony          locality_name  airports_nearest  \\\n",
       "5712           5.20        0  городской посёлок мга               NaN   \n",
       "16934          8.34        0        санкт-петербург           18732.0   \n",
       "22590         10.00        0        санкт-петербург           33053.0   \n",
       "\n",
       "      cityCenters_nearest  parks_around3000  parks_nearest  ponds_around3000  \\\n",
       "5712                  NaN               NaN            NaN               NaN   \n",
       "16934             20444.0               0.0            NaN               3.0   \n",
       "22590             14217.0               2.0          293.0               2.0   \n",
       "\n",
       "       ponds_nearest  days_exposition  \n",
       "5712             NaN            248.0  \n",
       "16934           80.0             71.0  \n",
       "22590          289.0             13.0  \n",
       "\n",
       "[3 rows x 22 columns]"
      ]
     },
     "execution_count": 21,
     "metadata": {},
     "output_type": "execute_result"
    }
   ],
   "source": [
    "df[df['ceiling_height'] <2]"
   ]
  },
  {
   "cell_type": "markdown",
   "metadata": {},
   "source": [
    "Три значения меньше 2 метров удалим"
   ]
  },
  {
   "cell_type": "code",
   "execution_count": 22,
   "metadata": {},
   "outputs": [
    {
     "data": {
      "text/html": [
       "<div>\n",
       "<style scoped>\n",
       "    .dataframe tbody tr th:only-of-type {\n",
       "        vertical-align: middle;\n",
       "    }\n",
       "\n",
       "    .dataframe tbody tr th {\n",
       "        vertical-align: top;\n",
       "    }\n",
       "\n",
       "    .dataframe thead th {\n",
       "        text-align: right;\n",
       "    }\n",
       "</style>\n",
       "<table border=\"1\" class=\"dataframe\">\n",
       "  <thead>\n",
       "    <tr style=\"text-align: right;\">\n",
       "      <th></th>\n",
       "      <th>total_images</th>\n",
       "      <th>last_price</th>\n",
       "      <th>total_area</th>\n",
       "      <th>first_day_exposition</th>\n",
       "      <th>rooms</th>\n",
       "      <th>ceiling_height</th>\n",
       "      <th>floors_total</th>\n",
       "      <th>living_area</th>\n",
       "      <th>floor</th>\n",
       "      <th>is_apartment</th>\n",
       "      <th>...</th>\n",
       "      <th>kitchen_area</th>\n",
       "      <th>balcony</th>\n",
       "      <th>locality_name</th>\n",
       "      <th>airports_nearest</th>\n",
       "      <th>cityCenters_nearest</th>\n",
       "      <th>parks_around3000</th>\n",
       "      <th>parks_nearest</th>\n",
       "      <th>ponds_around3000</th>\n",
       "      <th>ponds_nearest</th>\n",
       "      <th>days_exposition</th>\n",
       "    </tr>\n",
       "  </thead>\n",
       "  <tbody>\n",
       "  </tbody>\n",
       "</table>\n",
       "<p>0 rows × 22 columns</p>\n",
       "</div>"
      ],
      "text/plain": [
       "Empty DataFrame\n",
       "Columns: [total_images, last_price, total_area, first_day_exposition, rooms, ceiling_height, floors_total, living_area, floor, is_apartment, studio, open_plan, kitchen_area, balcony, locality_name, airports_nearest, cityCenters_nearest, parks_around3000, parks_nearest, ponds_around3000, ponds_nearest, days_exposition]\n",
       "Index: []\n",
       "\n",
       "[0 rows x 22 columns]"
      ]
     },
     "execution_count": 22,
     "metadata": {},
     "output_type": "execute_result"
    }
   ],
   "source": [
    "df = df[df['ceiling_height'] >2]\n",
    "df[df['ceiling_height'] <2]"
   ]
  },
  {
   "cell_type": "code",
   "execution_count": 23,
   "metadata": {
    "scrolled": false
   },
   "outputs": [
    {
     "data": {
      "text/plain": [
       "23549"
      ]
     },
     "execution_count": 23,
     "metadata": {},
     "output_type": "execute_result"
    }
   ],
   "source": [
    "len(df)"
   ]
  },
  {
   "cell_type": "markdown",
   "metadata": {},
   "source": [
    "Похоже удалили не очень много!"
   ]
  },
  {
   "cell_type": "markdown",
   "metadata": {},
   "source": [
    "<font color='green'>Хорошо, пропуски заполнили, данных потеряли минимум.</font>"
   ]
  },
  {
   "cell_type": "markdown",
   "metadata": {},
   "source": [
    "### Шаг 3. Посчитайте и добавьте в таблицу"
   ]
  },
  {
   "cell_type": "markdown",
   "metadata": {},
   "source": [
    "цену квадратного метра;  \n",
    "день недели, месяц и год публикации объявления;  \n",
    "этаж квартиры; варианты — первый, последний, другой;  \n",
    "соотношение жилой и общей площади, а также отношение площади кухни к общей.\n"
   ]
  },
  {
   "cell_type": "markdown",
   "metadata": {},
   "source": [
    "###### Цена квадратного метра"
   ]
  },
  {
   "cell_type": "code",
   "execution_count": 24,
   "metadata": {},
   "outputs": [],
   "source": [
    "df['sq_meter_cost'] = df['last_price'] / df['total_area']"
   ]
  },
  {
   "cell_type": "code",
   "execution_count": 25,
   "metadata": {
    "scrolled": false
   },
   "outputs": [
    {
     "data": {
      "text/plain": [
       "<matplotlib.axes._subplots.AxesSubplot at 0x7fc4587bbb38>"
      ]
     },
     "execution_count": 25,
     "metadata": {},
     "output_type": "execute_result"
    },
    {
     "data": {
      "image/png": "[encoded data removed]",
      "text/plain": [
       "<Figure size 432x288 with 1 Axes>"
      ]
     },
     "metadata": {
      "needs_background": "light"
     },
     "output_type": "display_data"
    }
   ],
   "source": [
    "df['sq_meter_cost'].hist(bins=100)"
   ]
  },
  {
   "cell_type": "code",
   "execution_count": 26,
   "metadata": {
    "scrolled": true
   },
   "outputs": [
    {
     "data": {
      "text/plain": [
       "<matplotlib.axes._subplots.AxesSubplot at 0x7fc453b6d320>"
      ]
     },
     "execution_count": 26,
     "metadata": {},
     "output_type": "execute_result"
    },
    {
     "data": {
      "image/png": "[encoded data removed]",
      "text/plain": [
       "<Figure size 432x288 with 1 Axes>"
      ]
     },
     "metadata": {
      "needs_background": "light"
     },
     "output_type": "display_data"
    }
   ],
   "source": [
    "df.boxplot(column='sq_meter_cost')"
   ]
  },
  {
   "cell_type": "code",
   "execution_count": 27,
   "metadata": {
    "scrolled": true
   },
   "outputs": [
    {
     "data": {
      "text/plain": [
       "10"
      ]
     },
     "execution_count": 27,
     "metadata": {},
     "output_type": "execute_result"
    }
   ],
   "source": [
    "len(df[df['sq_meter_cost']>750000])"
   ]
  },
  {
   "cell_type": "markdown",
   "metadata": {},
   "source": [
    "Удалим единичные значения стоимости выше 750 тысяч"
   ]
  },
  {
   "cell_type": "code",
   "execution_count": 28,
   "metadata": {},
   "outputs": [
    {
     "data": {
      "text/plain": [
       "23549"
      ]
     },
     "execution_count": 28,
     "metadata": {},
     "output_type": "execute_result"
    }
   ],
   "source": [
    "len(df)"
   ]
  },
  {
   "cell_type": "code",
   "execution_count": 29,
   "metadata": {},
   "outputs": [
    {
     "data": {
      "text/plain": [
       "23539"
      ]
     },
     "execution_count": 29,
     "metadata": {},
     "output_type": "execute_result"
    }
   ],
   "source": [
    "df = df[df.sq_meter_cost < 750000]\n",
    "len(df)"
   ]
  },
  {
   "cell_type": "code",
   "execution_count": 30,
   "metadata": {},
   "outputs": [
    {
     "data": {
      "text/plain": [
       "<matplotlib.axes._subplots.AxesSubplot at 0x7fc453ad3f28>"
      ]
     },
     "execution_count": 30,
     "metadata": {},
     "output_type": "execute_result"
    },
    {
     "data": {
      "image/png": "[encoded data removed]",
      "text/plain": [
       "<Figure size 432x288 with 1 Axes>"
      ]
     },
     "metadata": {
      "needs_background": "light"
     },
     "output_type": "display_data"
    }
   ],
   "source": [
    "df.boxplot(column='sq_meter_cost')"
   ]
  },
  {
   "cell_type": "markdown",
   "metadata": {},
   "source": [
    "<font color='green'>Хорошо, но вообще график нам показывает, что выбросы начинаются уже около 200 000</font>"
   ]
  },
  {
   "cell_type": "markdown",
   "metadata": {},
   "source": [
    "###### День недели, месяц и год публикации объявления;  \n",
    "    "
   ]
  },
  {
   "cell_type": "code",
   "execution_count": 31,
   "metadata": {
    "scrolled": true
   },
   "outputs": [],
   "source": [
    "# def show_date(column):\n",
    "    \n",
    "# pd.DatetimeIndex(arrivals['date']).month\n",
    "\n",
    "df['Year'] = pd.DatetimeIndex(df['first_day_exposition']).year\n",
    "df['Day'] = pd.DatetimeIndex(df['first_day_exposition']).day\n",
    "df['weekday'] = pd.DatetimeIndex(df['first_day_exposition']).weekday\n",
    "df['Month'] = pd.DatetimeIndex(df['first_day_exposition']).month"
   ]
  },
  {
   "cell_type": "markdown",
   "metadata": {},
   "source": [
    "###### Группировка этажа квартиры; варианты — первый, последний, другой;  \n"
   ]
  },
  {
   "cell_type": "code",
   "execution_count": 32,
   "metadata": {
    "scrolled": true
   },
   "outputs": [
    {
     "data": {
      "text/plain": [
       "<matplotlib.axes._subplots.AxesSubplot at 0x7fc453a4e630>"
      ]
     },
     "execution_count": 32,
     "metadata": {},
     "output_type": "execute_result"
    },
    {
     "data": {
      "image/png": "[encoded data removed]",
      "text/plain": [
       "<Figure size 432x288 with 1 Axes>"
      ]
     },
     "metadata": {
      "needs_background": "light"
     },
     "output_type": "display_data"
    }
   ],
   "source": [
    "def floor_group(string):\n",
    "    if string['floor'] == string['floors_total']:\n",
    "        return 'Последний'\n",
    "    elif string['floor'] == 1:\n",
    "        return 'Первый'\n",
    "    return 'Другой'\n",
    "\n",
    "df['floor_group'] = df.apply(floor_group, axis = 1)\n",
    "df['floor_group'].value_counts().plot(kind='bar')"
   ]
  },
  {
   "cell_type": "markdown",
   "metadata": {},
   "source": [
    "###### Cоотношение жилой и общей площади, а также отношение площади кухни к общей.\n"
   ]
  },
  {
   "cell_type": "code",
   "execution_count": 33,
   "metadata": {
    "scrolled": true
   },
   "outputs": [
    {
     "data": {
      "text/plain": [
       "<matplotlib.axes._subplots.AxesSubplot at 0x7fc45326c438>"
      ]
     },
     "execution_count": 33,
     "metadata": {},
     "output_type": "execute_result"
    },
    {
     "data": {
      "image/png": "[encoded data removed]",
      "text/plain": [
       "<Figure size 432x288 with 1 Axes>"
      ]
     },
     "metadata": {
      "needs_background": "light"
     },
     "output_type": "display_data"
    }
   ],
   "source": [
    "df['living_vs_total_area'] = df['living_area'] / df['total_area']\n",
    "df['living_vs_total_area'].hist(bins=30, range=(0.1, 1))"
   ]
  },
  {
   "cell_type": "markdown",
   "metadata": {},
   "source": [
    "Соотношение стремится к 0.5 — половина жилья — жилая. Выбросы на нуле — последствия заполнения пропусков нулями, уберу с помощью range"
   ]
  },
  {
   "cell_type": "code",
   "execution_count": 34,
   "metadata": {},
   "outputs": [
    {
     "data": {
      "text/html": [
       "<div>\n",
       "<style scoped>\n",
       "    .dataframe tbody tr th:only-of-type {\n",
       "        vertical-align: middle;\n",
       "    }\n",
       "\n",
       "    .dataframe tbody tr th {\n",
       "        vertical-align: top;\n",
       "    }\n",
       "\n",
       "    .dataframe thead th {\n",
       "        text-align: right;\n",
       "    }\n",
       "</style>\n",
       "<table border=\"1\" class=\"dataframe\">\n",
       "  <thead>\n",
       "    <tr style=\"text-align: right;\">\n",
       "      <th></th>\n",
       "      <th>total_images</th>\n",
       "      <th>last_price</th>\n",
       "      <th>total_area</th>\n",
       "      <th>first_day_exposition</th>\n",
       "      <th>rooms</th>\n",
       "      <th>ceiling_height</th>\n",
       "      <th>floors_total</th>\n",
       "      <th>living_area</th>\n",
       "      <th>floor</th>\n",
       "      <th>is_apartment</th>\n",
       "      <th>...</th>\n",
       "      <th>ponds_around3000</th>\n",
       "      <th>ponds_nearest</th>\n",
       "      <th>days_exposition</th>\n",
       "      <th>sq_meter_cost</th>\n",
       "      <th>Year</th>\n",
       "      <th>Day</th>\n",
       "      <th>weekday</th>\n",
       "      <th>Month</th>\n",
       "      <th>floor_group</th>\n",
       "      <th>living_vs_total_area</th>\n",
       "    </tr>\n",
       "  </thead>\n",
       "  <tbody>\n",
       "    <tr>\n",
       "      <td>0</td>\n",
       "      <td>20</td>\n",
       "      <td>13000000</td>\n",
       "      <td>108.0</td>\n",
       "      <td>2019-03-07</td>\n",
       "      <td>3</td>\n",
       "      <td>2.700000</td>\n",
       "      <td>16</td>\n",
       "      <td>51.0</td>\n",
       "      <td>8</td>\n",
       "      <td>NaN</td>\n",
       "      <td>...</td>\n",
       "      <td>2.0</td>\n",
       "      <td>755.0</td>\n",
       "      <td>NaN</td>\n",
       "      <td>120370.370370</td>\n",
       "      <td>2019</td>\n",
       "      <td>7</td>\n",
       "      <td>3</td>\n",
       "      <td>3</td>\n",
       "      <td>Другой</td>\n",
       "      <td>0.472222</td>\n",
       "    </tr>\n",
       "    <tr>\n",
       "      <td>1</td>\n",
       "      <td>7</td>\n",
       "      <td>3350000</td>\n",
       "      <td>40.4</td>\n",
       "      <td>2018-12-04</td>\n",
       "      <td>1</td>\n",
       "      <td>2.782385</td>\n",
       "      <td>11</td>\n",
       "      <td>18.6</td>\n",
       "      <td>1</td>\n",
       "      <td>NaN</td>\n",
       "      <td>...</td>\n",
       "      <td>0.0</td>\n",
       "      <td>NaN</td>\n",
       "      <td>81.0</td>\n",
       "      <td>82920.792079</td>\n",
       "      <td>2018</td>\n",
       "      <td>4</td>\n",
       "      <td>1</td>\n",
       "      <td>12</td>\n",
       "      <td>Первый</td>\n",
       "      <td>0.460396</td>\n",
       "    </tr>\n",
       "    <tr>\n",
       "      <td>2</td>\n",
       "      <td>10</td>\n",
       "      <td>5196000</td>\n",
       "      <td>56.0</td>\n",
       "      <td>2015-08-20</td>\n",
       "      <td>2</td>\n",
       "      <td>2.753037</td>\n",
       "      <td>5</td>\n",
       "      <td>34.3</td>\n",
       "      <td>4</td>\n",
       "      <td>NaN</td>\n",
       "      <td>...</td>\n",
       "      <td>2.0</td>\n",
       "      <td>574.0</td>\n",
       "      <td>558.0</td>\n",
       "      <td>92785.714286</td>\n",
       "      <td>2015</td>\n",
       "      <td>20</td>\n",
       "      <td>3</td>\n",
       "      <td>8</td>\n",
       "      <td>Другой</td>\n",
       "      <td>0.612500</td>\n",
       "    </tr>\n",
       "    <tr>\n",
       "      <td>3</td>\n",
       "      <td>0</td>\n",
       "      <td>64900000</td>\n",
       "      <td>159.0</td>\n",
       "      <td>2015-07-24</td>\n",
       "      <td>3</td>\n",
       "      <td>2.731545</td>\n",
       "      <td>14</td>\n",
       "      <td>NaN</td>\n",
       "      <td>9</td>\n",
       "      <td>NaN</td>\n",
       "      <td>...</td>\n",
       "      <td>3.0</td>\n",
       "      <td>234.0</td>\n",
       "      <td>424.0</td>\n",
       "      <td>408176.100629</td>\n",
       "      <td>2015</td>\n",
       "      <td>24</td>\n",
       "      <td>4</td>\n",
       "      <td>7</td>\n",
       "      <td>Другой</td>\n",
       "      <td>NaN</td>\n",
       "    </tr>\n",
       "    <tr>\n",
       "      <td>4</td>\n",
       "      <td>2</td>\n",
       "      <td>10000000</td>\n",
       "      <td>100.0</td>\n",
       "      <td>2018-06-19</td>\n",
       "      <td>2</td>\n",
       "      <td>3.030000</td>\n",
       "      <td>14</td>\n",
       "      <td>32.0</td>\n",
       "      <td>13</td>\n",
       "      <td>NaN</td>\n",
       "      <td>...</td>\n",
       "      <td>1.0</td>\n",
       "      <td>48.0</td>\n",
       "      <td>121.0</td>\n",
       "      <td>100000.000000</td>\n",
       "      <td>2018</td>\n",
       "      <td>19</td>\n",
       "      <td>1</td>\n",
       "      <td>6</td>\n",
       "      <td>Другой</td>\n",
       "      <td>0.320000</td>\n",
       "    </tr>\n",
       "  </tbody>\n",
       "</table>\n",
       "<p>5 rows × 29 columns</p>\n",
       "</div>"
      ],
      "text/plain": [
       "   total_images  last_price  total_area first_day_exposition  rooms  \\\n",
       "0            20    13000000       108.0           2019-03-07      3   \n",
       "1             7     3350000        40.4           2018-12-04      1   \n",
       "2            10     5196000        56.0           2015-08-20      2   \n",
       "3             0    64900000       159.0           2015-07-24      3   \n",
       "4             2    10000000       100.0           2018-06-19      2   \n",
       "\n",
       "   ceiling_height  floors_total  living_area  floor is_apartment  ...  \\\n",
       "0        2.700000            16         51.0      8          NaN  ...   \n",
       "1        2.782385            11         18.6      1          NaN  ...   \n",
       "2        2.753037             5         34.3      4          NaN  ...   \n",
       "3        2.731545            14          NaN      9          NaN  ...   \n",
       "4        3.030000            14         32.0     13          NaN  ...   \n",
       "\n",
       "   ponds_around3000  ponds_nearest  days_exposition  sq_meter_cost  Year  Day  \\\n",
       "0               2.0          755.0              NaN  120370.370370  2019    7   \n",
       "1               0.0            NaN             81.0   82920.792079  2018    4   \n",
       "2               2.0          574.0            558.0   92785.714286  2015   20   \n",
       "3               3.0          234.0            424.0  408176.100629  2015   24   \n",
       "4               1.0           48.0            121.0  100000.000000  2018   19   \n",
       "\n",
       "   weekday  Month  floor_group  living_vs_total_area  \n",
       "0        3      3       Другой              0.472222  \n",
       "1        1     12       Первый              0.460396  \n",
       "2        3      8       Другой              0.612500  \n",
       "3        4      7       Другой                   NaN  \n",
       "4        1      6       Другой              0.320000  \n",
       "\n",
       "[5 rows x 29 columns]"
      ]
     },
     "execution_count": 34,
     "metadata": {},
     "output_type": "execute_result"
    }
   ],
   "source": [
    "df.head()"
   ]
  },
  {
   "cell_type": "markdown",
   "metadata": {},
   "source": [
    "### Шаг 4. Проведите исследовательский анализ данных и выполните инструкции:"
   ]
  },
  {
   "cell_type": "markdown",
   "metadata": {},
   "source": [
    "###### Изучите следующие параметры: площадь, цена, число комнат, высота потолков. Постройте гистограммы для каждого параметра.\n"
   ]
  },
  {
   "cell_type": "code",
   "execution_count": 35,
   "metadata": {
    "scrolled": true
   },
   "outputs": [
    {
     "data": {
      "text/plain": [
       "<matplotlib.axes._subplots.AxesSubplot at 0x7fc45396b470>"
      ]
     },
     "execution_count": 35,
     "metadata": {},
     "output_type": "execute_result"
    },
    {
     "data": {
      "image/png": "[encoded data removed]",
      "text/plain": [
       "<Figure size 432x288 with 1 Axes>"
      ]
     },
     "metadata": {
      "needs_background": "light"
     },
     "output_type": "display_data"
    }
   ],
   "source": [
    "# parametr = ['total_area', 'last_price', 'rooms', 'ceiling_height']\n",
    "# for name in parametr:\n",
    "#     df[name].plot(kind='hist', label = name, legend=True)\n",
    "#     plt.show()\n",
    "\n",
    "# df['total_area'].plot(kind='hist', range=(0,200), label = 'total_area', bins = 10, legend=True)\n",
    "# plt.show()\n",
    "# df.pivot_table(index=['rooms'], values =['total_area', 'last_price', 'ceiling_height'], aggfunc =['count', 'mean', 'min', 'max'])\n",
    "\n",
    "df['total_area'].plot(kind='hist', range=(0,200), label = 'total_area', bins = 10, legend=True)"
   ]
  },
  {
   "cell_type": "code",
   "execution_count": 36,
   "metadata": {},
   "outputs": [
    {
     "data": {
      "text/plain": [
       "<matplotlib.axes._subplots.AxesSubplot at 0x7fc4538f4278>"
      ]
     },
     "execution_count": 36,
     "metadata": {},
     "output_type": "execute_result"
    },
    {
     "data": {
      "image/png": "[encoded data removed]",
      "text/plain": [
       "<Figure size 1080x360 with 1 Axes>"
      ]
     },
     "metadata": {
      "needs_background": "light"
     },
     "output_type": "display_data"
    }
   ],
   "source": [
    "df.boxplot(column='total_area', vert=False, figsize=(15,5))"
   ]
  },
  {
   "cell_type": "markdown",
   "metadata": {},
   "source": [
    "После 550 вижу единичные значения. Удалим"
   ]
  },
  {
   "cell_type": "code",
   "execution_count": 37,
   "metadata": {
    "scrolled": false
   },
   "outputs": [
    {
     "data": {
      "text/plain": [
       "23534"
      ]
     },
     "execution_count": 37,
     "metadata": {},
     "output_type": "execute_result"
    }
   ],
   "source": [
    "df = df[df['total_area'] < 550]\n",
    "len(df)"
   ]
  },
  {
   "cell_type": "markdown",
   "metadata": {},
   "source": [
    "Построим графики снова"
   ]
  },
  {
   "cell_type": "code",
   "execution_count": 38,
   "metadata": {
    "scrolled": true
   },
   "outputs": [
    {
     "data": {
      "text/plain": [
       "<matplotlib.axes._subplots.AxesSubplot at 0x7fc4538ca6a0>"
      ]
     },
     "execution_count": 38,
     "metadata": {},
     "output_type": "execute_result"
    },
    {
     "data": {
      "image/png": "[encoded data removed]",
      "text/plain": [
       "<Figure size 1080x360 with 1 Axes>"
      ]
     },
     "metadata": {
      "needs_background": "light"
     },
     "output_type": "display_data"
    }
   ],
   "source": [
    "df['total_area'].plot(kind='hist', range=(12,200), label = 'total_area', bins = 100, legend=True, figsize=(15,5))\n"
   ]
  },
  {
   "cell_type": "code",
   "execution_count": 39,
   "metadata": {},
   "outputs": [
    {
     "data": {
      "text/plain": [
       "<matplotlib.axes._subplots.AxesSubplot at 0x7fc453740358>"
      ]
     },
     "execution_count": 39,
     "metadata": {},
     "output_type": "execute_result"
    },
    {
     "data": {
      "image/png": "[encoded data removed]",
      "text/plain": [
       "<Figure size 1080x360 with 1 Axes>"
      ]
     },
     "metadata": {
      "needs_background": "light"
     },
     "output_type": "display_data"
    }
   ],
   "source": [
    "df.boxplot(column='total_area', vert=False, figsize=(15,5))"
   ]
  },
  {
   "cell_type": "code",
   "execution_count": 40,
   "metadata": {
    "scrolled": true
   },
   "outputs": [
    {
     "data": {
      "text/plain": [
       "count    23534.000000\n",
       "mean        60.142616\n",
       "std         34.285566\n",
       "min         12.000000\n",
       "25%         40.000000\n",
       "50%         52.000000\n",
       "75%         69.677500\n",
       "max        517.000000\n",
       "Name: total_area, dtype: float64"
      ]
     },
     "execution_count": 40,
     "metadata": {},
     "output_type": "execute_result"
    }
   ],
   "source": [
    "df['total_area'].describe()"
   ]
  },
  {
   "cell_type": "code",
   "execution_count": 41,
   "metadata": {
    "scrolled": true
   },
   "outputs": [
    {
     "data": {
      "text/plain": [
       "<matplotlib.axes._subplots.AxesSubplot at 0x7fc453719828>"
      ]
     },
     "execution_count": 41,
     "metadata": {},
     "output_type": "execute_result"
    },
    {
     "data": {
      "image/png": "[encoded data removed]",
      "text/plain": [
       "<Figure size 1080x360 with 1 Axes>"
      ]
     },
     "metadata": {
      "needs_background": "light"
     },
     "output_type": "display_data"
    }
   ],
   "source": [
    "# last_price', 'rooms', 'ceiling_height\n",
    "df['last_price'].plot(kind='hist', label = 'last_price', bins = 100, legend=True, figsize=(15,5))\n"
   ]
  },
  {
   "cell_type": "code",
   "execution_count": 42,
   "metadata": {
    "scrolled": true
   },
   "outputs": [
    {
     "data": {
      "text/plain": [
       "<matplotlib.axes._subplots.AxesSubplot at 0x7fc45359a550>"
      ]
     },
     "execution_count": 42,
     "metadata": {},
     "output_type": "execute_result"
    },
    {
     "data": {
      "image/png": "[encoded data removed]",
      "text/plain": [
       "<Figure size 1080x360 with 1 Axes>"
      ]
     },
     "metadata": {
      "needs_background": "light"
     },
     "output_type": "display_data"
    }
   ],
   "source": [
    "df.boxplot(column='last_price', vert=False, figsize=(15,5))"
   ]
  },
  {
   "cell_type": "code",
   "execution_count": 43,
   "metadata": {
    "scrolled": true
   },
   "outputs": [
    {
     "data": {
      "text/plain": [
       "25"
      ]
     },
     "execution_count": 43,
     "metadata": {},
     "output_type": "execute_result"
    }
   ],
   "source": [
    "len(df[df['last_price']>100000000])"
   ]
  },
  {
   "cell_type": "markdown",
   "metadata": {},
   "source": [
    "Уберем еединичные значения, чтобы не мешали выборке"
   ]
  },
  {
   "cell_type": "code",
   "execution_count": 44,
   "metadata": {},
   "outputs": [
    {
     "data": {
      "text/plain": [
       "23509"
      ]
     },
     "execution_count": 44,
     "metadata": {},
     "output_type": "execute_result"
    }
   ],
   "source": [
    "df = df[df['last_price']<100000000]\n",
    "len(df)"
   ]
  },
  {
   "cell_type": "code",
   "execution_count": 45,
   "metadata": {
    "scrolled": true
   },
   "outputs": [
    {
     "data": {
      "text/plain": [
       "<matplotlib.axes._subplots.AxesSubplot at 0x7fc4534f8358>"
      ]
     },
     "execution_count": 45,
     "metadata": {},
     "output_type": "execute_result"
    },
    {
     "data": {
      "image/png": "[encoded data removed]",
      "text/plain": [
       "<Figure size 1080x360 with 1 Axes>"
      ]
     },
     "metadata": {
      "needs_background": "light"
     },
     "output_type": "display_data"
    }
   ],
   "source": [
    "df['last_price'].plot(kind='hist', label = 'last_price', bins = 50, legend=True, figsize=(15,5))\n"
   ]
  },
  {
   "cell_type": "code",
   "execution_count": 46,
   "metadata": {
    "scrolled": true
   },
   "outputs": [
    {
     "data": {
      "text/plain": [
       "<matplotlib.axes._subplots.AxesSubplot at 0x7fc45361c2b0>"
      ]
     },
     "execution_count": 46,
     "metadata": {},
     "output_type": "execute_result"
    },
    {
     "data": {
      "image/png": "[encoded data removed]",
      "text/plain": [
       "<Figure size 1080x360 with 1 Axes>"
      ]
     },
     "metadata": {
      "needs_background": "light"
     },
     "output_type": "display_data"
    }
   ],
   "source": [
    "df.boxplot(column='last_price', vert=False, figsize=(15,5))"
   ]
  },
  {
   "cell_type": "code",
   "execution_count": 47,
   "metadata": {
    "scrolled": true
   },
   "outputs": [
    {
     "data": {
      "text/plain": [
       "count       23509.0\n",
       "mean      6245158.0\n",
       "std       6417714.0\n",
       "min         12190.0\n",
       "25%       3400000.0\n",
       "50%       4625000.0\n",
       "75%       6750000.0\n",
       "max      99000000.0\n",
       "Name: last_price, dtype: float64"
      ]
     },
     "execution_count": 47,
     "metadata": {},
     "output_type": "execute_result"
    }
   ],
   "source": [
    "df['last_price'].describe().round()"
   ]
  },
  {
   "cell_type": "markdown",
   "metadata": {},
   "source": [
    "<s><font color='red'>Очень хорошо, что используешь цикл для построения графика, но хотелось бы увидеть \n",
    "комментарии и выводы, что мы на них видим.</font>  </s>\n",
    "\n",
    "Медианная площадь квартиры 60м. Минимальная 12, 75-й квартиль — 69м. "
   ]
  },
  {
   "cell_type": "markdown",
   "metadata": {},
   "source": [
    "Выбросы сильно выходят за 1.5 размаха межквартильного расстояния. Однако это не повод лишать себя данныъ по дорогим квартирам?"
   ]
  },
  {
   "cell_type": "markdown",
   "metadata": {},
   "source": [
    "<font color='green'>В целом, твои аккуратные удаления наиболее выделяющихся данных вполне обоснованны.</font>"
   ]
  },
  {
   "cell_type": "markdown",
   "metadata": {},
   "source": [
    "###### Изучите время продажи квартиры. Постройте гистограмму. Посчитайте среднее и медиану. Опишите, сколько обычно занимает продажа. Когда можно считать, что продажи прошли очень быстро, а когда необычно долго?\n"
   ]
  },
  {
   "cell_type": "code",
   "execution_count": 48,
   "metadata": {
    "scrolled": true
   },
   "outputs": [
    {
     "name": "stdout",
     "output_type": "stream",
     "text": [
      "1.0\n"
     ]
    },
    {
     "data": {
      "text/plain": [
       "4.328767123287672"
      ]
     },
     "execution_count": 48,
     "metadata": {},
     "output_type": "execute_result"
    }
   ],
   "source": [
    "\n",
    "# df.pivot_table(index=['rooms'], values =['total_area', 'last_price', 'ceiling_height'], aggfunc =['count', 'mean', 'min', 'max'])\n",
    "print(df['days_exposition'].min())\n",
    "df['days_exposition'].max()/365\n"
   ]
  },
  {
   "cell_type": "markdown",
   "metadata": {},
   "source": [
    "Минимальное время продажи квартиры — один день. Максимальное — 4 года и 4 месяца."
   ]
  },
  {
   "cell_type": "code",
   "execution_count": 49,
   "metadata": {
    "scrolled": true
   },
   "outputs": [
    {
     "data": {
      "image/png": "[encoded data removed]",
      "text/plain": [
       "<Figure size 432x288 with 1 Axes>"
      ]
     },
     "metadata": {
      "needs_background": "light"
     },
     "output_type": "display_data"
    }
   ],
   "source": [
    "df['days_exposition'].hist(bins=50)\n",
    "plt.show()"
   ]
  },
  {
   "cell_type": "code",
   "execution_count": 50,
   "metadata": {
    "scrolled": true
   },
   "outputs": [
    {
     "data": {
      "text/plain": [
       "count    20348.000000\n",
       "mean       180.554207\n",
       "std        219.609643\n",
       "min          1.000000\n",
       "25%         45.000000\n",
       "50%         95.000000\n",
       "75%        231.000000\n",
       "max       1580.000000\n",
       "Name: days_exposition, dtype: float64"
      ]
     },
     "execution_count": 50,
     "metadata": {},
     "output_type": "execute_result"
    },
    {
     "data": {
      "image/png": "[encoded data removed]",
      "text/plain": [
       "<Figure size 432x288 with 1 Axes>"
      ]
     },
     "metadata": {
      "needs_background": "light"
     },
     "output_type": "display_data"
    }
   ],
   "source": [
    "# df['days_exposition'].hist(bins=50)\n",
    "# plt.show()\n",
    "\n",
    "df.boxplot(column = 'days_exposition') \n",
    "df['days_exposition'].describe()"
   ]
  },
  {
   "cell_type": "markdown",
   "metadata": {},
   "source": [
    "Медианное значение длительности продаж квартир — 95 дней. Основная масса продается от 45 до 232 дней. Максимум — 4.3 года"
   ]
  },
  {
   "cell_type": "code",
   "execution_count": 51,
   "metadata": {
    "scrolled": false
   },
   "outputs": [
    {
     "data": {
      "image/png": "[encoded data removed]",
      "text/plain": [
       "<Figure size 432x288 with 1 Axes>"
      ]
     },
     "metadata": {
      "needs_background": "light"
     },
     "output_type": "display_data"
    }
   ],
   "source": [
    "df['days_exposition'].hist(bins=100, range=(0,450))\n",
    "plt.show()"
   ]
  },
  {
   "cell_type": "code",
   "execution_count": 52,
   "metadata": {
    "scrolled": true
   },
   "outputs": [
    {
     "data": {
      "image/png": "[encoded data removed]",
      "text/plain": [
       "<Figure size 432x288 with 1 Axes>"
      ]
     },
     "metadata": {
      "needs_background": "light"
     },
     "output_type": "display_data"
    }
   ],
   "source": [
    "df['days_exposition'].hist(bins=90, range=(0,90))\n",
    "plt.show()"
   ]
  },
  {
   "cell_type": "markdown",
   "metadata": {},
   "source": [
    "Срок размещения в я недвижимости для МСК — 30 дней, для остальных регионов — 45. Вот с чем связаны выбросы — с закрытием объявлений в эти дни"
   ]
  },
  {
   "cell_type": "markdown",
   "metadata": {},
   "source": [
    "<font color='brown'>Что это может значить? Стоит ли нам убрать эти данные из анализа? (Подсказка: проверь правила размещения объявлений в Яндекс.Недвижимости.  \n",
    "<font color='blue'> Срок размещения в я недвижимости для МСК — 30 дней, для остальных регионов — 45. Вот с чем связаны выбросы — с закрытием объявлений в эти дни"
   ]
  },
  {
   "cell_type": "code",
   "execution_count": 53,
   "metadata": {
    "scrolled": true
   },
   "outputs": [
    {
     "name": "stdout",
     "output_type": "stream",
     "text": [
      "95.0\n",
      "180.55420680165128\n"
     ]
    }
   ],
   "source": [
    "# print(f'Среднее время продажи {df['days_exposition'].mean()}')\n",
    "# print(f'Медиана времени продажи {df['days_exposition'].median()}')\n",
    "\n",
    "print(df['days_exposition'].median())\n",
    "print(df['days_exposition'].mean())"
   ]
  },
  {
   "cell_type": "markdown",
   "metadata": {},
   "source": [
    "В основном квартиры продаются за 3 месяца. Среднее сдвинуто,  есть квартиры, которые продаются долго.  \n",
    "Необычно быстро — такого нет , нормально, что квартира продается и за несколько дней.  \n",
    "<font color='green'>Необычно долго — основная масса продается от 45 до 232 дней. Согласно boxplot верхний ус около 450 дней. Все, что продается дольше, можно считать необычно долгой продажей."
   ]
  },
  {
   "cell_type": "markdown",
   "metadata": {},
   "source": [
    "<font color='green'><b>Хорошо.</font>"
   ]
  },
  {
   "cell_type": "markdown",
   "metadata": {},
   "source": [
    "<s><font color='red'>По быстрым все верно, но год - это твое субъективное суждение. А вдруг довольно много квартир продаются целый год? Попробуй найти выбросы с помощью boxplot."
   ]
  },
  {
   "cell_type": "markdown",
   "metadata": {},
   "source": [
    "Сгруппируем квартиры так —  \n",
    "однокомнатные и студии\n",
    "2 комнаты\n",
    "3 комнаты\n",
    "многокомнатные\n",
    "\n"
   ]
  },
  {
   "cell_type": "code",
   "execution_count": 54,
   "metadata": {
    "scrolled": true
   },
   "outputs": [
    {
     "data": {
      "text/plain": [
       "однокомнатные и студии    8188\n",
       "Двухкомнатная             7892\n",
       "Трехкомнатная             5771\n",
       "Четырехкомнатная          1163\n",
       "Многокомнатная             495\n",
       "Name: how_much_rooms, dtype: int64"
      ]
     },
     "execution_count": 54,
     "metadata": {},
     "output_type": "execute_result"
    }
   ],
   "source": [
    "def rooms(number):\n",
    "    if number <= 1:\n",
    "        return 'однокомнатные и студии'\n",
    "    if number == 2:\n",
    "        return 'Двухкомнатная'\n",
    "    if number == 3:\n",
    "        return 'Трехкомнатная'\n",
    "    if number == 4:\n",
    "        return 'Четырехкомнатная'    \n",
    "    return 'Многокомнатная'\n",
    "\n",
    "df['how_much_rooms'] = df['rooms'].apply(rooms)\n",
    "df['how_much_rooms'].value_counts()"
   ]
  },
  {
   "cell_type": "markdown",
   "metadata": {},
   "source": [
    "Квартир с числом комнат больше 4 мало"
   ]
  },
  {
   "cell_type": "markdown",
   "metadata": {},
   "source": [
    "<font color='green'>Тут все хорошо."
   ]
  },
  {
   "cell_type": "markdown",
   "metadata": {},
   "source": [
    "<s><font color='red'>Хорошие рассуждения, четкие срезы. Есть одно но, строя срезы, мы где-то потеряли больше половины данных. Это слишком много, надо найти.</font>"
   ]
  },
  {
   "cell_type": "markdown",
   "metadata": {},
   "source": [
    "###### Какие факторы больше всего влияют на стоимость квартиры?   \n",
    "Изучите, зависит ли цена от квадратного метра, числа комнат, удалённости от центра.   \n",
    "Изучите зависимость цены от того, на каком этаже расположена квартира: первом, последнем или другом.   \n",
    "Также изучите зависимость от даты размещения: дня недели, месяца и года.\n"
   ]
  },
  {
   "cell_type": "code",
   "execution_count": 55,
   "metadata": {
    "scrolled": true
   },
   "outputs": [
    {
     "data": {
      "text/plain": [
       "<matplotlib.axes._subplots.AxesSubplot at 0x7fc453089be0>"
      ]
     },
     "execution_count": 55,
     "metadata": {},
     "output_type": "execute_result"
    },
    {
     "data": {
      "image/png": "[encoded data removed]",
      "text/plain": [
       "<Figure size 432x288 with 1 Axes>"
      ]
     },
     "metadata": {
      "needs_background": "light"
     },
     "output_type": "display_data"
    }
   ],
   "source": [
    "df.plot(x='last_price', y='total_area', kind='scatter', alpha=0.3, label='Цена от квадратного метра')"
   ]
  },
  {
   "cell_type": "markdown",
   "metadata": {},
   "source": [
    "В основном сегменте рынка цена сильно зависит от метража. Дорогие квартиры однако могут быть небольшой площади также"
   ]
  },
  {
   "cell_type": "code",
   "execution_count": 56,
   "metadata": {
    "scrolled": false
   },
   "outputs": [
    {
     "data": {
      "text/plain": [
       "<matplotlib.axes._subplots.AxesSubplot at 0x7fc452ff4ba8>"
      ]
     },
     "execution_count": 56,
     "metadata": {},
     "output_type": "execute_result"
    },
    {
     "data": {
      "image/png": "[encoded data removed]",
      "text/plain": [
       "<Figure size 432x288 with 1 Axes>"
      ]
     },
     "metadata": {
      "needs_background": "light"
     },
     "output_type": "display_data"
    }
   ],
   "source": [
    "df.plot(x='last_price', y='rooms', kind='scatter', alpha=0.3, label='Цена от числа комнат')\n"
   ]
  },
  {
   "cell_type": "markdown",
   "metadata": {},
   "source": [
    "Зависимость наблюдается! Многокомнатные квартиры в основном в дорогом сегменте. Есть впечатление, что свыше 10 комнат — выбросы — они в среднем ценвом сегменте. А может это какие-то заброшенные дома"
   ]
  },
  {
   "cell_type": "code",
   "execution_count": 57,
   "metadata": {
    "scrolled": false
   },
   "outputs": [
    {
     "data": {
      "text/plain": [
       "<matplotlib.axes._subplots.AxesSubplot at 0x7fc452f7c240>"
      ]
     },
     "execution_count": 57,
     "metadata": {},
     "output_type": "execute_result"
    },
    {
     "data": {
      "image/png": "[encoded data removed]",
      "text/plain": [
       "<Figure size 1080x360 with 1 Axes>"
      ]
     },
     "metadata": {
      "needs_background": "light"
     },
     "output_type": "display_data"
    }
   ],
   "source": [
    "df.plot(x='last_price', y='cityCenters_nearest', kind='scatter', alpha=0.3, figsize=(15,5), label='Цена от удаленности от центра')\n"
   ]
  },
  {
   "cell_type": "markdown",
   "metadata": {},
   "source": [
    "В центре города есть как дорогое, так и дешевое жилье. А вот в отдалении цена явно падает."
   ]
  },
  {
   "cell_type": "markdown",
   "metadata": {},
   "source": [
    "<s><font color='red'>Хорошо было бы показать и проанализировать значения корреляции у этих пар параметров.</font>"
   ]
  },
  {
   "cell_type": "code",
   "execution_count": 58,
   "metadata": {
    "scrolled": false
   },
   "outputs": [
    {
     "name": "stdout",
     "output_type": "stream",
     "text": [
      "-0.2995277981719185\n"
     ]
    }
   ],
   "source": [
    "print(df['last_price'].corr(df['cityCenters_nearest']))\n"
   ]
  },
  {
   "cell_type": "markdown",
   "metadata": {},
   "source": [
    "Кореляция слабая, видимо из-за того, что в центре присутствует и дорогое и дешевое жилье. Проверим гипотезу"
   ]
  },
  {
   "cell_type": "markdown",
   "metadata": {},
   "source": [
    "<font color='blue'> Отрицательная корреляция тоже может быть сильной, она указывает на обратную зависимость между переменными. Ведь, чем МЕНЬШЕ расстояние до центра, тем ВЫШЕ цена на недвижимость. Что и показывает данная цифра. 0.30 это не то, чтобы сильная корреляция, онака она определенно значимая.</font>"
   ]
  },
  {
   "cell_type": "code",
   "execution_count": 59,
   "metadata": {},
   "outputs": [
    {
     "name": "stdout",
     "output_type": "stream",
     "text": [
      "0.42258052630689324\n"
     ]
    }
   ],
   "source": [
    "print(df['last_price'].corr(df['cityCenters_nearest']<10000))\n"
   ]
  },
  {
   "cell_type": "markdown",
   "metadata": {},
   "source": [
    "Прии удалении от центра цена явно падает. В центре при этом есть как дорогие, так и дешевые квартиры. "
   ]
  },
  {
   "cell_type": "markdown",
   "metadata": {},
   "source": [
    "<font color='blue'>Наверное, ты имел в виду это:"
   ]
  },
  {
   "cell_type": "code",
   "execution_count": 60,
   "metadata": {},
   "outputs": [
    {
     "name": "stdout",
     "output_type": "stream",
     "text": [
      "-0.21365095329874648\n"
     ]
    }
   ],
   "source": [
    "print(df['last_price'].corr(df[df['cityCenters_nearest']<10000]['cityCenters_nearest']))"
   ]
  },
  {
   "cell_type": "markdown",
   "metadata": {},
   "source": [
    "<font color='blue'>На периферии тоже обратная зависимость, однака уже не такая сильная, как в центре."
   ]
  },
  {
   "cell_type": "markdown",
   "metadata": {},
   "source": [
    "<s><font color='red'>+Как это нет, корреляция принимает значения от -1 до 1, и -0.3 это вполне себе коррелляция. Изучи этот момент и напиши вывод, как цена зависит от удалености от центра.</font>"
   ]
  },
  {
   "cell_type": "markdown",
   "metadata": {},
   "source": [
    "<s><font color='red'>Давай искать зависимость от даты размещения: сгруппируем в сводной таблице данные по, например, месяцу и посмотрим медианные значения для каждого месяца. Эти данные уже выведем на график, обычный plot. Так же поступим с остальными параметрами."
   ]
  },
  {
   "cell_type": "markdown",
   "metadata": {},
   "source": [
    "###### зависимость цены от того, на каком этаже расположена квартира"
   ]
  },
  {
   "cell_type": "code",
   "execution_count": 61,
   "metadata": {
    "scrolled": true
   },
   "outputs": [
    {
     "data": {
      "text/plain": [
       "(4000000, 7000000)"
      ]
     },
     "execution_count": 61,
     "metadata": {},
     "output_type": "execute_result"
    },
    {
     "data": {
      "image/png": "[encoded data removed]",
      "text/plain": [
       "<Figure size 432x288 with 1 Axes>"
      ]
     },
     "metadata": {
      "needs_background": "light"
     },
     "output_type": "display_data"
    }
   ],
   "source": [
    "df.groupby('floor_group')['last_price'].agg('mean').plot(kind='bar')\n",
    "plt.ylim(4000000, 7000000)"
   ]
  },
  {
   "cell_type": "markdown",
   "metadata": {},
   "source": [
    "На первом этаже цена квартиры ниже в среднем на 1.6 млн, на последнеем — на 140 тысяч"
   ]
  },
  {
   "cell_type": "code",
   "execution_count": 62,
   "metadata": {
    "scrolled": false
   },
   "outputs": [
    {
     "data": {
      "text/plain": [
       "floor_group\n",
       "Другой       6473765.0\n",
       "Первый       4777628.0\n",
       "Последний    6327135.0\n",
       "Name: last_price, dtype: float64"
      ]
     },
     "execution_count": 62,
     "metadata": {},
     "output_type": "execute_result"
    }
   ],
   "source": [
    "df.groupby('floor_group')['last_price'].agg('mean').round()"
   ]
  },
  {
   "cell_type": "markdown",
   "metadata": {},
   "source": [
    "###### Цена в зависимости от месяца размещения"
   ]
  },
  {
   "cell_type": "code",
   "execution_count": 63,
   "metadata": {
    "scrolled": false
   },
   "outputs": [
    {
     "data": {
      "text/plain": [
       "(5750000, 6750000)"
      ]
     },
     "execution_count": 63,
     "metadata": {},
     "output_type": "execute_result"
    },
    {
     "data": {
      "image/png": "[encoded data removed]",
      "text/plain": [
       "<Figure size 432x288 with 1 Axes>"
      ]
     },
     "metadata": {
      "needs_background": "light"
     },
     "output_type": "display_data"
    }
   ],
   "source": [
    "df.groupby('Month')['last_price'].agg('mean').plot(title='Цена в зависимости от месяца размещения')\n",
    "plt.ylim(5750000, 6750000)"
   ]
  },
  {
   "cell_type": "markdown",
   "metadata": {},
   "source": [
    "<font color='brown'>Не очень наглядно - попробуй вывести значения по оси y начиная с 4-5 млн. И еще, в подобных случаях лучше подходят графики вида line.</font>  \n",
    "<font color='green'> Приблизил значения и сделал line. И правда нагляднее!"
   ]
  },
  {
   "cell_type": "markdown",
   "metadata": {},
   "source": [
    "Самая низкая цена в ноябре, в декабре и январе цена выше, чем в остальные месяцы ~ на 500 тысяч."
   ]
  },
  {
   "cell_type": "markdown",
   "metadata": {},
   "source": [
    "###### Цена в зависимости от года размещения"
   ]
  },
  {
   "cell_type": "code",
   "execution_count": 64,
   "metadata": {
    "scrolled": true
   },
   "outputs": [
    {
     "data": {
      "text/plain": [
       "(5000000, 13000000)"
      ]
     },
     "execution_count": 64,
     "metadata": {},
     "output_type": "execute_result"
    },
    {
     "data": {
      "image/png": "[encoded data removed]",
      "text/plain": [
       "<Figure size 432x288 with 1 Axes>"
      ]
     },
     "metadata": {
      "needs_background": "light"
     },
     "output_type": "display_data"
    }
   ],
   "source": [
    "df.groupby('Year')['last_price'].agg('mean').plot(title='Цена в зависимости от месяца размещения')\n",
    "plt.ylim(5000000, 13000000)"
   ]
  },
  {
   "cell_type": "markdown",
   "metadata": {},
   "source": [
    "Да, после 2014 цены на квартиры упали вместе с доходами("
   ]
  },
  {
   "cell_type": "markdown",
   "metadata": {},
   "source": [
    "###### Цена в зависимости от дня недели размещения"
   ]
  },
  {
   "cell_type": "code",
   "execution_count": 65,
   "metadata": {
    "scrolled": true
   },
   "outputs": [
    {
     "data": {
      "text/plain": [
       "(6000000, 6600000)"
      ]
     },
     "execution_count": 65,
     "metadata": {},
     "output_type": "execute_result"
    },
    {
     "data": {
      "image/png": "[encoded data removed]",
      "text/plain": [
       "<Figure size 432x288 with 1 Axes>"
      ]
     },
     "metadata": {
      "needs_background": "light"
     },
     "output_type": "display_data"
    }
   ],
   "source": [
    "df.groupby('weekday')['last_price'].agg('mean').plot(label='Цена в зависимости от месяца размещения')\n",
    "plt.ylim(6000000, 6600000)"
   ]
  },
  {
   "cell_type": "markdown",
   "metadata": {},
   "source": [
    "В среду цена чуть выше, дельта составляет до 400 тысяч!"
   ]
  },
  {
   "cell_type": "markdown",
   "metadata": {},
   "source": [
    "<font color='green'>По умолчанию это среда. Здесь тоже можно понагляднее сделать, отрегулировав масштаб.</font>"
   ]
  },
  {
   "cell_type": "markdown",
   "metadata": {},
   "source": [
    "###### Выберите 10 населённых пунктов с наибольшим числом объявлений.  \n",
    "Посчитайте среднюю цену квадратного метра в этих населённых пунктах.   \n",
    "Выделите населённые пункты с самой высокой и низкой стоимостью жилья."
   ]
  },
  {
   "cell_type": "code",
   "execution_count": 66,
   "metadata": {
    "scrolled": false
   },
   "outputs": [
    {
     "data": {
      "text/html": [
       "<div>\n",
       "<style scoped>\n",
       "    .dataframe tbody tr th:only-of-type {\n",
       "        vertical-align: middle;\n",
       "    }\n",
       "\n",
       "    .dataframe tbody tr th {\n",
       "        vertical-align: top;\n",
       "    }\n",
       "\n",
       "    .dataframe thead th {\n",
       "        text-align: right;\n",
       "    }\n",
       "</style>\n",
       "<table border=\"1\" class=\"dataframe\">\n",
       "  <thead>\n",
       "    <tr style=\"text-align: right;\">\n",
       "      <th></th>\n",
       "      <th>count</th>\n",
       "      <th>sq_meter_cost</th>\n",
       "    </tr>\n",
       "    <tr>\n",
       "      <th>locality_name</th>\n",
       "      <th></th>\n",
       "      <th></th>\n",
       "    </tr>\n",
       "  </thead>\n",
       "  <tbody>\n",
       "    <tr>\n",
       "      <td>санкт-петербург</td>\n",
       "      <td>15605</td>\n",
       "      <td>113488.0</td>\n",
       "    </tr>\n",
       "    <tr>\n",
       "      <td>пушкин</td>\n",
       "      <td>369</td>\n",
       "      <td>103126.0</td>\n",
       "    </tr>\n",
       "    <tr>\n",
       "      <td>деревня кудрово</td>\n",
       "      <td>299</td>\n",
       "      <td>92474.0</td>\n",
       "    </tr>\n",
       "    <tr>\n",
       "      <td>посёлок парголово</td>\n",
       "      <td>327</td>\n",
       "      <td>90176.0</td>\n",
       "    </tr>\n",
       "    <tr>\n",
       "      <td>посёлок мурино</td>\n",
       "      <td>520</td>\n",
       "      <td>85673.0</td>\n",
       "    </tr>\n",
       "    <tr>\n",
       "      <td>посёлок шушары</td>\n",
       "      <td>439</td>\n",
       "      <td>78551.0</td>\n",
       "    </tr>\n",
       "    <tr>\n",
       "      <td>колпино</td>\n",
       "      <td>338</td>\n",
       "      <td>75425.0</td>\n",
       "    </tr>\n",
       "    <tr>\n",
       "      <td>гатчина</td>\n",
       "      <td>307</td>\n",
       "      <td>68746.0</td>\n",
       "    </tr>\n",
       "    <tr>\n",
       "      <td>всеволожск</td>\n",
       "      <td>397</td>\n",
       "      <td>68719.0</td>\n",
       "    </tr>\n",
       "    <tr>\n",
       "      <td>выборг</td>\n",
       "      <td>235</td>\n",
       "      <td>58238.0</td>\n",
       "    </tr>\n",
       "  </tbody>\n",
       "</table>\n",
       "</div>"
      ],
      "text/plain": [
       "                   count  sq_meter_cost\n",
       "locality_name                          \n",
       "санкт-петербург    15605       113488.0\n",
       "пушкин               369       103126.0\n",
       "деревня кудрово      299        92474.0\n",
       "посёлок парголово    327        90176.0\n",
       "посёлок мурино       520        85673.0\n",
       "посёлок шушары       439        78551.0\n",
       "колпино              338        75425.0\n",
       "гатчина              307        68746.0\n",
       "всеволожск           397        68719.0\n",
       "выборг               235        58238.0"
      ]
     },
     "execution_count": 66,
     "metadata": {},
     "output_type": "execute_result"
    }
   ],
   "source": [
    "large_cities = df.pivot_table(index=['locality_name'], \n",
    "                                            values= 'sq_meter_cost',\n",
    "                                            aggfunc =['count', 'mean'])\n",
    "\n",
    "large_cities.columns = ['count', 'sq_meter_cost']\n",
    "ten_cities = large_cities.sort_values(by='count', ascending=False).head(10).round(0)\n",
    "ten_cities = ten_cities.sort_values(by='sq_meter_cost', ascending=False)\n",
    "ten_cities"
   ]
  },
  {
   "cell_type": "markdown",
   "metadata": {},
   "source": [
    "###### Самая высокая стоимость жилья"
   ]
  },
  {
   "cell_type": "code",
   "execution_count": 67,
   "metadata": {},
   "outputs": [
    {
     "data": {
      "text/html": [
       "<div>\n",
       "<style scoped>\n",
       "    .dataframe tbody tr th:only-of-type {\n",
       "        vertical-align: middle;\n",
       "    }\n",
       "\n",
       "    .dataframe tbody tr th {\n",
       "        vertical-align: top;\n",
       "    }\n",
       "\n",
       "    .dataframe thead th {\n",
       "        text-align: right;\n",
       "    }\n",
       "</style>\n",
       "<table border=\"1\" class=\"dataframe\">\n",
       "  <thead>\n",
       "    <tr style=\"text-align: right;\">\n",
       "      <th></th>\n",
       "      <th>count</th>\n",
       "      <th>sq_meter_cost</th>\n",
       "    </tr>\n",
       "    <tr>\n",
       "      <th>locality_name</th>\n",
       "      <th></th>\n",
       "      <th></th>\n",
       "    </tr>\n",
       "  </thead>\n",
       "  <tbody>\n",
       "    <tr>\n",
       "      <td>санкт-петербург</td>\n",
       "      <td>15605</td>\n",
       "      <td>113488.0</td>\n",
       "    </tr>\n",
       "  </tbody>\n",
       "</table>\n",
       "</div>"
      ],
      "text/plain": [
       "                 count  sq_meter_cost\n",
       "locality_name                        \n",
       "санкт-петербург  15605       113488.0"
      ]
     },
     "execution_count": 67,
     "metadata": {},
     "output_type": "execute_result"
    }
   ],
   "source": [
    "ten_cities.sort_values(by='sq_meter_cost', ascending=False).head(1)"
   ]
  },
  {
   "cell_type": "markdown",
   "metadata": {},
   "source": [
    "###### Самая низкая стоимость жилья"
   ]
  },
  {
   "cell_type": "code",
   "execution_count": 68,
   "metadata": {
    "scrolled": true
   },
   "outputs": [
    {
     "data": {
      "text/html": [
       "<div>\n",
       "<style scoped>\n",
       "    .dataframe tbody tr th:only-of-type {\n",
       "        vertical-align: middle;\n",
       "    }\n",
       "\n",
       "    .dataframe tbody tr th {\n",
       "        vertical-align: top;\n",
       "    }\n",
       "\n",
       "    .dataframe thead th {\n",
       "        text-align: right;\n",
       "    }\n",
       "</style>\n",
       "<table border=\"1\" class=\"dataframe\">\n",
       "  <thead>\n",
       "    <tr style=\"text-align: right;\">\n",
       "      <th></th>\n",
       "      <th>count</th>\n",
       "      <th>sq_meter_cost</th>\n",
       "    </tr>\n",
       "    <tr>\n",
       "      <th>locality_name</th>\n",
       "      <th></th>\n",
       "      <th></th>\n",
       "    </tr>\n",
       "  </thead>\n",
       "  <tbody>\n",
       "    <tr>\n",
       "      <td>выборг</td>\n",
       "      <td>235</td>\n",
       "      <td>58238.0</td>\n",
       "    </tr>\n",
       "  </tbody>\n",
       "</table>\n",
       "</div>"
      ],
      "text/plain": [
       "               count  sq_meter_cost\n",
       "locality_name                      \n",
       "выборг           235        58238.0"
      ]
     },
     "execution_count": 68,
     "metadata": {},
     "output_type": "execute_result"
    }
   ],
   "source": [
    "ten_cities.sort_values(by='sq_meter_cost', ascending=True).head(1)"
   ]
  },
  {
   "cell_type": "markdown",
   "metadata": {},
   "source": []
  },
  {
   "cell_type": "markdown",
   "metadata": {},
   "source": [
    "###### Изучите предложения квартир: для каждой квартиры есть информация о расстоянии до центра.   \n",
    "+Выделите квартиры в Санкт-Петербурге ('locality_name').   \n",
    "Ваша задача — выяснить, какая область входит в центр.   \n",
    "Создайте столбец с расстоянием до центра в километрах: округлите до целых значений.   \n",
    "После этого посчитайте среднюю цену для каждого километра.   \n",
    "Постройте график: он должен показывать, как цена зависит от удалённости от центра.   \n",
    "Определите границу, где график сильно меняется — это и будет центральная зона.\n"
   ]
  },
  {
   "cell_type": "code",
   "execution_count": 69,
   "metadata": {
    "scrolled": false
   },
   "outputs": [
    {
     "name": "stderr",
     "output_type": "stream",
     "text": [
      "/opt/conda/lib/python3.7/site-packages/ipykernel_launcher.py:3: SettingWithCopyWarning: \n",
      "A value is trying to be set on a copy of a slice from a DataFrame.\n",
      "Try using .loc[row_indexer,col_indexer] = value instead\n",
      "\n",
      "See the caveats in the documentation: http://pandas.pydata.org/pandas-docs/stable/user_guide/indexing.html#returning-a-view-versus-a-copy\n",
      "  This is separate from the ipykernel package so we can avoid doing imports until\n"
     ]
    }
   ],
   "source": [
    "saint_pt = df.query('locality_name == \"санкт-петербург\"')\n",
    "# saint_pt = df[frequent_numbers['locality_name'] == 'санкт-петербург']\n",
    "saint_pt['cityCenters_km'] = (saint_pt['cityCenters_nearest'] / 1000).round()\n"
   ]
  },
  {
   "cell_type": "code",
   "execution_count": 70,
   "metadata": {},
   "outputs": [],
   "source": [
    "km_vs_price = saint_pt.pivot_table(index = 'cityCenters_km', values = 'sq_meter_cost', aggfunc = 'mean')"
   ]
  },
  {
   "cell_type": "code",
   "execution_count": 71,
   "metadata": {
    "scrolled": true
   },
   "outputs": [],
   "source": [
    "# km_vs_price.index = km_vs_price.index.astype(int) #use astype to convert to int\n",
    "\n",
    "km_vs_price = km_vs_price.reset_index()\n",
    "\n"
   ]
  },
  {
   "cell_type": "code",
   "execution_count": 72,
   "metadata": {
    "scrolled": false
   },
   "outputs": [
    {
     "data": {
      "image/png": "[encoded data removed]",
      "text/plain": [
       "<Figure size 864x360 with 1 Axes>"
      ]
     },
     "metadata": {
      "needs_background": "light"
     },
     "output_type": "display_data"
    }
   ],
   "source": [
    "km_vs_price.plot(x='cityCenters_km', y='sq_meter_cost',style='-', alpha=1, figsize = (12,5), grid=True, title='Изменение цены от удаленности от центра')\n",
    "plt.show()\n",
    "# km_vs_price.info()"
   ]
  },
  {
   "cell_type": "markdown",
   "metadata": {},
   "source": [
    "Судя по графику, центр — до одного км, дальше цена сильно ниже. "
   ]
  },
  {
   "cell_type": "markdown",
   "metadata": {},
   "source": [
    "<s><font color='red'>+Один километр явно маловато для Питера. Давай возьмем за основу падение цены на 7-м км.</font>"
   ]
  },
  {
   "cell_type": "markdown",
   "metadata": {},
   "source": [
    "Ок! Берем 7 км, дальше график падает."
   ]
  },
  {
   "cell_type": "markdown",
   "metadata": {},
   "source": [
    "###### Выделите сегмент квартир в центре.  \n",
    "Проанализируйте эту территорию и изучите следующие параметры: площадь, цена, число комнат, высота потолков.  \n",
    "Также выделите факторы, которые влияют на стоимость квартиры (число комнат, этаж, удалённость от центра, дата размещения объявления). \n",
    "Сделайте выводы. Отличаются ли они от общих выводов по всему городу?\n"
   ]
  },
  {
   "cell_type": "code",
   "execution_count": 73,
   "metadata": {
    "scrolled": true
   },
   "outputs": [
    {
     "data": {
      "text/html": [
       "<div>\n",
       "<style scoped>\n",
       "    .dataframe tbody tr th:only-of-type {\n",
       "        vertical-align: middle;\n",
       "    }\n",
       "\n",
       "    .dataframe tbody tr th {\n",
       "        vertical-align: top;\n",
       "    }\n",
       "\n",
       "    .dataframe thead th {\n",
       "        text-align: right;\n",
       "    }\n",
       "</style>\n",
       "<table border=\"1\" class=\"dataframe\">\n",
       "  <thead>\n",
       "    <tr style=\"text-align: right;\">\n",
       "      <th></th>\n",
       "      <th>total_images</th>\n",
       "      <th>last_price</th>\n",
       "      <th>total_area</th>\n",
       "      <th>rooms</th>\n",
       "      <th>ceiling_height</th>\n",
       "      <th>floors_total</th>\n",
       "      <th>living_area</th>\n",
       "      <th>floor</th>\n",
       "      <th>kitchen_area</th>\n",
       "      <th>balcony</th>\n",
       "      <th>...</th>\n",
       "      <th>ponds_around3000</th>\n",
       "      <th>ponds_nearest</th>\n",
       "      <th>days_exposition</th>\n",
       "      <th>sq_meter_cost</th>\n",
       "      <th>Year</th>\n",
       "      <th>Day</th>\n",
       "      <th>weekday</th>\n",
       "      <th>Month</th>\n",
       "      <th>living_vs_total_area</th>\n",
       "      <th>cityCenters_km</th>\n",
       "    </tr>\n",
       "  </thead>\n",
       "  <tbody>\n",
       "    <tr>\n",
       "      <td>count</td>\n",
       "      <td>3480.00</td>\n",
       "      <td>3480.00</td>\n",
       "      <td>3480.00</td>\n",
       "      <td>3480.00</td>\n",
       "      <td>3480.00</td>\n",
       "      <td>3480.00</td>\n",
       "      <td>3192.00</td>\n",
       "      <td>3480.00</td>\n",
       "      <td>3153.00</td>\n",
       "      <td>3480.00</td>\n",
       "      <td>...</td>\n",
       "      <td>3480.00</td>\n",
       "      <td>2517.00</td>\n",
       "      <td>2905.00</td>\n",
       "      <td>3480.00</td>\n",
       "      <td>3480.00</td>\n",
       "      <td>3480.00</td>\n",
       "      <td>3480.00</td>\n",
       "      <td>3480.00</td>\n",
       "      <td>3192.00</td>\n",
       "      <td>3480.00</td>\n",
       "    </tr>\n",
       "    <tr>\n",
       "      <td>mean</td>\n",
       "      <td>10.16</td>\n",
       "      <td>13132271.62</td>\n",
       "      <td>90.79</td>\n",
       "      <td>2.81</td>\n",
       "      <td>3.01</td>\n",
       "      <td>7.11</td>\n",
       "      <td>53.33</td>\n",
       "      <td>4.19</td>\n",
       "      <td>14.28</td>\n",
       "      <td>0.32</td>\n",
       "      <td>...</td>\n",
       "      <td>1.29</td>\n",
       "      <td>465.68</td>\n",
       "      <td>246.82</td>\n",
       "      <td>139669.14</td>\n",
       "      <td>2017.17</td>\n",
       "      <td>15.58</td>\n",
       "      <td>2.51</td>\n",
       "      <td>6.44</td>\n",
       "      <td>0.58</td>\n",
       "      <td>4.51</td>\n",
       "    </tr>\n",
       "    <tr>\n",
       "      <td>std</td>\n",
       "      <td>5.99</td>\n",
       "      <td>12332672.38</td>\n",
       "      <td>53.38</td>\n",
       "      <td>1.42</td>\n",
       "      <td>0.59</td>\n",
       "      <td>3.86</td>\n",
       "      <td>34.74</td>\n",
       "      <td>2.95</td>\n",
       "      <td>8.68</td>\n",
       "      <td>0.76</td>\n",
       "      <td>...</td>\n",
       "      <td>1.09</td>\n",
       "      <td>271.60</td>\n",
       "      <td>273.57</td>\n",
       "      <td>66809.72</td>\n",
       "      <td>1.12</td>\n",
       "      <td>8.62</td>\n",
       "      <td>1.72</td>\n",
       "      <td>3.46</td>\n",
       "      <td>0.12</td>\n",
       "      <td>1.68</td>\n",
       "    </tr>\n",
       "    <tr>\n",
       "      <td>min</td>\n",
       "      <td>0.00</td>\n",
       "      <td>1600000.00</td>\n",
       "      <td>12.00</td>\n",
       "      <td>0.00</td>\n",
       "      <td>2.40</td>\n",
       "      <td>2.00</td>\n",
       "      <td>2.00</td>\n",
       "      <td>1.00</td>\n",
       "      <td>2.00</td>\n",
       "      <td>0.00</td>\n",
       "      <td>...</td>\n",
       "      <td>0.00</td>\n",
       "      <td>22.00</td>\n",
       "      <td>3.00</td>\n",
       "      <td>15345.27</td>\n",
       "      <td>2014.00</td>\n",
       "      <td>1.00</td>\n",
       "      <td>0.00</td>\n",
       "      <td>1.00</td>\n",
       "      <td>0.02</td>\n",
       "      <td>0.00</td>\n",
       "    </tr>\n",
       "    <tr>\n",
       "      <td>25%</td>\n",
       "      <td>6.00</td>\n",
       "      <td>6650000.00</td>\n",
       "      <td>56.70</td>\n",
       "      <td>2.00</td>\n",
       "      <td>2.75</td>\n",
       "      <td>5.00</td>\n",
       "      <td>31.00</td>\n",
       "      <td>2.00</td>\n",
       "      <td>9.00</td>\n",
       "      <td>0.00</td>\n",
       "      <td>...</td>\n",
       "      <td>0.00</td>\n",
       "      <td>228.00</td>\n",
       "      <td>60.00</td>\n",
       "      <td>99702.38</td>\n",
       "      <td>2017.00</td>\n",
       "      <td>9.00</td>\n",
       "      <td>1.00</td>\n",
       "      <td>3.00</td>\n",
       "      <td>0.51</td>\n",
       "      <td>4.00</td>\n",
       "    </tr>\n",
       "    <tr>\n",
       "      <td>50%</td>\n",
       "      <td>10.00</td>\n",
       "      <td>9055000.00</td>\n",
       "      <td>78.00</td>\n",
       "      <td>3.00</td>\n",
       "      <td>2.96</td>\n",
       "      <td>6.00</td>\n",
       "      <td>45.50</td>\n",
       "      <td>4.00</td>\n",
       "      <td>12.00</td>\n",
       "      <td>0.00</td>\n",
       "      <td>...</td>\n",
       "      <td>1.00</td>\n",
       "      <td>457.00</td>\n",
       "      <td>140.00</td>\n",
       "      <td>123002.44</td>\n",
       "      <td>2017.00</td>\n",
       "      <td>16.00</td>\n",
       "      <td>3.00</td>\n",
       "      <td>6.00</td>\n",
       "      <td>0.60</td>\n",
       "      <td>5.00</td>\n",
       "    </tr>\n",
       "    <tr>\n",
       "      <td>75%</td>\n",
       "      <td>15.00</td>\n",
       "      <td>14000000.00</td>\n",
       "      <td>108.72</td>\n",
       "      <td>3.00</td>\n",
       "      <td>3.13</td>\n",
       "      <td>9.00</td>\n",
       "      <td>65.50</td>\n",
       "      <td>5.00</td>\n",
       "      <td>16.70</td>\n",
       "      <td>0.00</td>\n",
       "      <td>...</td>\n",
       "      <td>2.00</td>\n",
       "      <td>667.00</td>\n",
       "      <td>346.00</td>\n",
       "      <td>154500.00</td>\n",
       "      <td>2018.00</td>\n",
       "      <td>23.00</td>\n",
       "      <td>4.00</td>\n",
       "      <td>10.00</td>\n",
       "      <td>0.66</td>\n",
       "      <td>6.00</td>\n",
       "    </tr>\n",
       "    <tr>\n",
       "      <td>max</td>\n",
       "      <td>50.00</td>\n",
       "      <td>99000000.00</td>\n",
       "      <td>517.00</td>\n",
       "      <td>19.00</td>\n",
       "      <td>32.00</td>\n",
       "      <td>25.00</td>\n",
       "      <td>347.50</td>\n",
       "      <td>25.00</td>\n",
       "      <td>107.00</td>\n",
       "      <td>5.00</td>\n",
       "      <td>...</td>\n",
       "      <td>3.00</td>\n",
       "      <td>1293.00</td>\n",
       "      <td>1572.00</td>\n",
       "      <td>721518.99</td>\n",
       "      <td>2019.00</td>\n",
       "      <td>31.00</td>\n",
       "      <td>6.00</td>\n",
       "      <td>12.00</td>\n",
       "      <td>0.98</td>\n",
       "      <td>7.00</td>\n",
       "    </tr>\n",
       "  </tbody>\n",
       "</table>\n",
       "<p>8 rows × 24 columns</p>\n",
       "</div>"
      ],
      "text/plain": [
       "       total_images   last_price  total_area    rooms  ceiling_height  \\\n",
       "count       3480.00      3480.00     3480.00  3480.00         3480.00   \n",
       "mean          10.16  13132271.62       90.79     2.81            3.01   \n",
       "std            5.99  12332672.38       53.38     1.42            0.59   \n",
       "min            0.00   1600000.00       12.00     0.00            2.40   \n",
       "25%            6.00   6650000.00       56.70     2.00            2.75   \n",
       "50%           10.00   9055000.00       78.00     3.00            2.96   \n",
       "75%           15.00  14000000.00      108.72     3.00            3.13   \n",
       "max           50.00  99000000.00      517.00    19.00           32.00   \n",
       "\n",
       "       floors_total  living_area    floor  kitchen_area  balcony  ...  \\\n",
       "count       3480.00      3192.00  3480.00       3153.00  3480.00  ...   \n",
       "mean           7.11        53.33     4.19         14.28     0.32  ...   \n",
       "std            3.86        34.74     2.95          8.68     0.76  ...   \n",
       "min            2.00         2.00     1.00          2.00     0.00  ...   \n",
       "25%            5.00        31.00     2.00          9.00     0.00  ...   \n",
       "50%            6.00        45.50     4.00         12.00     0.00  ...   \n",
       "75%            9.00        65.50     5.00         16.70     0.00  ...   \n",
       "max           25.00       347.50    25.00        107.00     5.00  ...   \n",
       "\n",
       "       ponds_around3000  ponds_nearest  days_exposition  sq_meter_cost  \\\n",
       "count           3480.00        2517.00          2905.00        3480.00   \n",
       "mean               1.29         465.68           246.82      139669.14   \n",
       "std                1.09         271.60           273.57       66809.72   \n",
       "min                0.00          22.00             3.00       15345.27   \n",
       "25%                0.00         228.00            60.00       99702.38   \n",
       "50%                1.00         457.00           140.00      123002.44   \n",
       "75%                2.00         667.00           346.00      154500.00   \n",
       "max                3.00        1293.00          1572.00      721518.99   \n",
       "\n",
       "          Year      Day  weekday    Month  living_vs_total_area  \\\n",
       "count  3480.00  3480.00  3480.00  3480.00               3192.00   \n",
       "mean   2017.17    15.58     2.51     6.44                  0.58   \n",
       "std       1.12     8.62     1.72     3.46                  0.12   \n",
       "min    2014.00     1.00     0.00     1.00                  0.02   \n",
       "25%    2017.00     9.00     1.00     3.00                  0.51   \n",
       "50%    2017.00    16.00     3.00     6.00                  0.60   \n",
       "75%    2018.00    23.00     4.00    10.00                  0.66   \n",
       "max    2019.00    31.00     6.00    12.00                  0.98   \n",
       "\n",
       "       cityCenters_km  \n",
       "count         3480.00  \n",
       "mean             4.51  \n",
       "std              1.68  \n",
       "min              0.00  \n",
       "25%              4.00  \n",
       "50%              5.00  \n",
       "75%              6.00  \n",
       "max              7.00  \n",
       "\n",
       "[8 rows x 24 columns]"
      ]
     },
     "execution_count": 73,
     "metadata": {},
     "output_type": "execute_result"
    }
   ],
   "source": [
    "saint_pt_centr = saint_pt.query('cityCenters_km <= 7')\n",
    "saint_pt_centr.describe().round(2)"
   ]
  },
  {
   "cell_type": "markdown",
   "metadata": {},
   "source": [
    "В скобках укажу цифры в общем по таблице\n",
    "###### площадь  \n",
    "Средняя площадь — 90(60), медиана — 78(52). Квартиль 25% — 56(40) метров. \n",
    "###### цена\n",
    "Средняя цена сделки — 13(6.5) млн\n",
    "\n",
    "###### Число комнат\n",
    "В среднем — 3(2) комнаты\n",
    "\n",
    "###### Высота потолков\n",
    "— среднее 3(2.7) метра. \n",
    "\n",
    "Жилье в центре больше и дороже, чем в общем по таблице."
   ]
  },
  {
   "cell_type": "markdown",
   "metadata": {},
   "source": [
    "<font color='green'> Хорошо."
   ]
  },
  {
   "cell_type": "code",
   "execution_count": 74,
   "metadata": {
    "scrolled": true
   },
   "outputs": [
    {
     "data": {
      "text/html": [
       "<div>\n",
       "<style scoped>\n",
       "    .dataframe tbody tr th:only-of-type {\n",
       "        vertical-align: middle;\n",
       "    }\n",
       "\n",
       "    .dataframe tbody tr th {\n",
       "        vertical-align: top;\n",
       "    }\n",
       "\n",
       "    .dataframe thead th {\n",
       "        text-align: right;\n",
       "    }\n",
       "</style>\n",
       "<table border=\"1\" class=\"dataframe\">\n",
       "  <thead>\n",
       "    <tr style=\"text-align: right;\">\n",
       "      <th></th>\n",
       "      <th>total_images</th>\n",
       "      <th>last_price</th>\n",
       "      <th>total_area</th>\n",
       "      <th>rooms</th>\n",
       "      <th>ceiling_height</th>\n",
       "      <th>floors_total</th>\n",
       "      <th>living_area</th>\n",
       "      <th>floor</th>\n",
       "      <th>kitchen_area</th>\n",
       "      <th>balcony</th>\n",
       "      <th>...</th>\n",
       "      <th>parks_nearest</th>\n",
       "      <th>ponds_around3000</th>\n",
       "      <th>ponds_nearest</th>\n",
       "      <th>days_exposition</th>\n",
       "      <th>sq_meter_cost</th>\n",
       "      <th>Year</th>\n",
       "      <th>Day</th>\n",
       "      <th>weekday</th>\n",
       "      <th>Month</th>\n",
       "      <th>living_vs_total_area</th>\n",
       "    </tr>\n",
       "  </thead>\n",
       "  <tbody>\n",
       "    <tr>\n",
       "      <td>count</td>\n",
       "      <td>23509.00</td>\n",
       "      <td>23509.00</td>\n",
       "      <td>23509.00</td>\n",
       "      <td>23509.00</td>\n",
       "      <td>23509.00</td>\n",
       "      <td>23509.00</td>\n",
       "      <td>21653.00</td>\n",
       "      <td>23509.00</td>\n",
       "      <td>21297.00</td>\n",
       "      <td>23509.00</td>\n",
       "      <td>...</td>\n",
       "      <td>7997.00</td>\n",
       "      <td>18019.00</td>\n",
       "      <td>8995.00</td>\n",
       "      <td>20348.00</td>\n",
       "      <td>23509.00</td>\n",
       "      <td>23509.00</td>\n",
       "      <td>23509.00</td>\n",
       "      <td>23509.00</td>\n",
       "      <td>23509.00</td>\n",
       "      <td>21653.00</td>\n",
       "    </tr>\n",
       "    <tr>\n",
       "      <td>mean</td>\n",
       "      <td>9.87</td>\n",
       "      <td>6245157.74</td>\n",
       "      <td>59.89</td>\n",
       "      <td>2.07</td>\n",
       "      <td>2.75</td>\n",
       "      <td>10.68</td>\n",
       "      <td>34.23</td>\n",
       "      <td>5.88</td>\n",
       "      <td>10.51</td>\n",
       "      <td>0.59</td>\n",
       "      <td>...</td>\n",
       "      <td>490.95</td>\n",
       "      <td>0.77</td>\n",
       "      <td>519.24</td>\n",
       "      <td>180.55</td>\n",
       "      <td>98478.06</td>\n",
       "      <td>2017.37</td>\n",
       "      <td>15.48</td>\n",
       "      <td>2.57</td>\n",
       "      <td>6.40</td>\n",
       "      <td>0.56</td>\n",
       "    </tr>\n",
       "    <tr>\n",
       "      <td>std</td>\n",
       "      <td>5.68</td>\n",
       "      <td>6417714.31</td>\n",
       "      <td>33.29</td>\n",
       "      <td>1.07</td>\n",
       "      <td>0.62</td>\n",
       "      <td>6.59</td>\n",
       "      <td>21.04</td>\n",
       "      <td>4.87</td>\n",
       "      <td>5.71</td>\n",
       "      <td>0.96</td>\n",
       "      <td>...</td>\n",
       "      <td>342.03</td>\n",
       "      <td>0.94</td>\n",
       "      <td>277.93</td>\n",
       "      <td>219.61</td>\n",
       "      <td>42395.59</td>\n",
       "      <td>1.04</td>\n",
       "      <td>8.63</td>\n",
       "      <td>1.79</td>\n",
       "      <td>3.49</td>\n",
       "      <td>0.11</td>\n",
       "    </tr>\n",
       "    <tr>\n",
       "      <td>min</td>\n",
       "      <td>0.00</td>\n",
       "      <td>12190.00</td>\n",
       "      <td>12.00</td>\n",
       "      <td>0.00</td>\n",
       "      <td>2.20</td>\n",
       "      <td>1.00</td>\n",
       "      <td>2.00</td>\n",
       "      <td>1.00</td>\n",
       "      <td>1.30</td>\n",
       "      <td>0.00</td>\n",
       "      <td>...</td>\n",
       "      <td>1.00</td>\n",
       "      <td>0.00</td>\n",
       "      <td>13.00</td>\n",
       "      <td>1.00</td>\n",
       "      <td>111.83</td>\n",
       "      <td>2014.00</td>\n",
       "      <td>1.00</td>\n",
       "      <td>0.00</td>\n",
       "      <td>1.00</td>\n",
       "      <td>0.02</td>\n",
       "    </tr>\n",
       "    <tr>\n",
       "      <td>25%</td>\n",
       "      <td>6.00</td>\n",
       "      <td>3400000.00</td>\n",
       "      <td>40.00</td>\n",
       "      <td>1.00</td>\n",
       "      <td>2.60</td>\n",
       "      <td>5.00</td>\n",
       "      <td>18.60</td>\n",
       "      <td>2.00</td>\n",
       "      <td>7.00</td>\n",
       "      <td>0.00</td>\n",
       "      <td>...</td>\n",
       "      <td>288.00</td>\n",
       "      <td>0.00</td>\n",
       "      <td>295.00</td>\n",
       "      <td>45.00</td>\n",
       "      <td>76556.02</td>\n",
       "      <td>2017.00</td>\n",
       "      <td>8.00</td>\n",
       "      <td>1.00</td>\n",
       "      <td>3.00</td>\n",
       "      <td>0.50</td>\n",
       "    </tr>\n",
       "    <tr>\n",
       "      <td>50%</td>\n",
       "      <td>9.00</td>\n",
       "      <td>4625000.00</td>\n",
       "      <td>52.00</td>\n",
       "      <td>2.00</td>\n",
       "      <td>2.71</td>\n",
       "      <td>9.00</td>\n",
       "      <td>30.00</td>\n",
       "      <td>4.00</td>\n",
       "      <td>9.10</td>\n",
       "      <td>0.00</td>\n",
       "      <td>...</td>\n",
       "      <td>455.00</td>\n",
       "      <td>0.00</td>\n",
       "      <td>503.00</td>\n",
       "      <td>95.00</td>\n",
       "      <td>94936.71</td>\n",
       "      <td>2017.00</td>\n",
       "      <td>15.00</td>\n",
       "      <td>3.00</td>\n",
       "      <td>6.00</td>\n",
       "      <td>0.57</td>\n",
       "    </tr>\n",
       "    <tr>\n",
       "      <td>75%</td>\n",
       "      <td>14.00</td>\n",
       "      <td>6750000.00</td>\n",
       "      <td>69.50</td>\n",
       "      <td>3.00</td>\n",
       "      <td>2.78</td>\n",
       "      <td>16.00</td>\n",
       "      <td>42.20</td>\n",
       "      <td>8.00</td>\n",
       "      <td>12.00</td>\n",
       "      <td>1.00</td>\n",
       "      <td>...</td>\n",
       "      <td>612.00</td>\n",
       "      <td>1.00</td>\n",
       "      <td>732.00</td>\n",
       "      <td>231.00</td>\n",
       "      <td>114062.50</td>\n",
       "      <td>2018.00</td>\n",
       "      <td>23.00</td>\n",
       "      <td>4.00</td>\n",
       "      <td>10.00</td>\n",
       "      <td>0.64</td>\n",
       "    </tr>\n",
       "    <tr>\n",
       "      <td>max</td>\n",
       "      <td>50.00</td>\n",
       "      <td>99000000.00</td>\n",
       "      <td>517.00</td>\n",
       "      <td>19.00</td>\n",
       "      <td>32.00</td>\n",
       "      <td>60.00</td>\n",
       "      <td>347.50</td>\n",
       "      <td>33.00</td>\n",
       "      <td>107.00</td>\n",
       "      <td>5.00</td>\n",
       "      <td>...</td>\n",
       "      <td>3190.00</td>\n",
       "      <td>3.00</td>\n",
       "      <td>1344.00</td>\n",
       "      <td>1580.00</td>\n",
       "      <td>721518.99</td>\n",
       "      <td>2019.00</td>\n",
       "      <td>31.00</td>\n",
       "      <td>6.00</td>\n",
       "      <td>12.00</td>\n",
       "      <td>1.00</td>\n",
       "    </tr>\n",
       "  </tbody>\n",
       "</table>\n",
       "<p>8 rows × 23 columns</p>\n",
       "</div>"
      ],
      "text/plain": [
       "       total_images   last_price  total_area     rooms  ceiling_height  \\\n",
       "count      23509.00     23509.00    23509.00  23509.00        23509.00   \n",
       "mean           9.87   6245157.74       59.89      2.07            2.75   \n",
       "std            5.68   6417714.31       33.29      1.07            0.62   \n",
       "min            0.00     12190.00       12.00      0.00            2.20   \n",
       "25%            6.00   3400000.00       40.00      1.00            2.60   \n",
       "50%            9.00   4625000.00       52.00      2.00            2.71   \n",
       "75%           14.00   6750000.00       69.50      3.00            2.78   \n",
       "max           50.00  99000000.00      517.00     19.00           32.00   \n",
       "\n",
       "       floors_total  living_area     floor  kitchen_area   balcony  ...  \\\n",
       "count      23509.00     21653.00  23509.00      21297.00  23509.00  ...   \n",
       "mean          10.68        34.23      5.88         10.51      0.59  ...   \n",
       "std            6.59        21.04      4.87          5.71      0.96  ...   \n",
       "min            1.00         2.00      1.00          1.30      0.00  ...   \n",
       "25%            5.00        18.60      2.00          7.00      0.00  ...   \n",
       "50%            9.00        30.00      4.00          9.10      0.00  ...   \n",
       "75%           16.00        42.20      8.00         12.00      1.00  ...   \n",
       "max           60.00       347.50     33.00        107.00      5.00  ...   \n",
       "\n",
       "       parks_nearest  ponds_around3000  ponds_nearest  days_exposition  \\\n",
       "count        7997.00          18019.00        8995.00         20348.00   \n",
       "mean          490.95              0.77         519.24           180.55   \n",
       "std           342.03              0.94         277.93           219.61   \n",
       "min             1.00              0.00          13.00             1.00   \n",
       "25%           288.00              0.00         295.00            45.00   \n",
       "50%           455.00              0.00         503.00            95.00   \n",
       "75%           612.00              1.00         732.00           231.00   \n",
       "max          3190.00              3.00        1344.00          1580.00   \n",
       "\n",
       "       sq_meter_cost      Year       Day   weekday     Month  \\\n",
       "count       23509.00  23509.00  23509.00  23509.00  23509.00   \n",
       "mean        98478.06   2017.37     15.48      2.57      6.40   \n",
       "std         42395.59      1.04      8.63      1.79      3.49   \n",
       "min           111.83   2014.00      1.00      0.00      1.00   \n",
       "25%         76556.02   2017.00      8.00      1.00      3.00   \n",
       "50%         94936.71   2017.00     15.00      3.00      6.00   \n",
       "75%        114062.50   2018.00     23.00      4.00     10.00   \n",
       "max        721518.99   2019.00     31.00      6.00     12.00   \n",
       "\n",
       "       living_vs_total_area  \n",
       "count              21653.00  \n",
       "mean                   0.56  \n",
       "std                    0.11  \n",
       "min                    0.02  \n",
       "25%                    0.50  \n",
       "50%                    0.57  \n",
       "75%                    0.64  \n",
       "max                    1.00  \n",
       "\n",
       "[8 rows x 23 columns]"
      ]
     },
     "execution_count": 74,
     "metadata": {},
     "output_type": "execute_result"
    }
   ],
   "source": [
    "df.describe().round(2)"
   ]
  },
  {
   "cell_type": "markdown",
   "metadata": {},
   "source": [
    "###### Выделите факторы, которые влияют на стоимость квартиры (число комнат, этаж, удалённость от центра, дата размещения объявления). \n"
   ]
  },
  {
   "cell_type": "code",
   "execution_count": 75,
   "metadata": {
    "scrolled": true
   },
   "outputs": [],
   "source": [
    "saint_pt_centr_4_columns = saint_pt_centr[['last_price', 'rooms', 'total_area', 'floor', 'cityCenters_km', 'days_exposition']]"
   ]
  },
  {
   "cell_type": "code",
   "execution_count": 76,
   "metadata": {
    "scrolled": true
   },
   "outputs": [
    {
     "data": {
      "text/plain": [
       "<matplotlib.axes._subplots.AxesSubplot at 0x7fc452e9b7b8>"
      ]
     },
     "execution_count": 76,
     "metadata": {},
     "output_type": "execute_result"
    },
    {
     "data": {
      "image/png": "[encoded data removed]",
      "text/plain": [
       "<Figure size 432x288 with 1 Axes>"
      ]
     },
     "metadata": {
      "needs_background": "light"
     },
     "output_type": "display_data"
    }
   ],
   "source": [
    "saint_pt_centr.groupby('floor_group')['last_price'].agg('mean').plot(kind='bar')"
   ]
  },
  {
   "cell_type": "markdown",
   "metadata": {},
   "source": [
    "+<font color='blue'>А вот здесь, как по мне, bar выглядит нагляднее, всего три точки - для линейного графика маловато.</font>"
   ]
  },
  {
   "cell_type": "markdown",
   "metadata": {},
   "source": [
    "В центре не любят первый этаж, а последний столь же популярен, как и остальные."
   ]
  },
  {
   "cell_type": "markdown",
   "metadata": {},
   "source": [
    "<font color='blue'>В целом это нормальное явление.</font>"
   ]
  },
  {
   "cell_type": "code",
   "execution_count": 77,
   "metadata": {
    "scrolled": false
   },
   "outputs": [
    {
     "data": {
      "text/plain": [
       "<matplotlib.axes._subplots.AxesSubplot at 0x7fc4531b43c8>"
      ]
     },
     "execution_count": 77,
     "metadata": {},
     "output_type": "execute_result"
    },
    {
     "data": {
      "image/png": "[encoded data removed]",
      "text/plain": [
       "<Figure size 432x288 with 1 Axes>"
      ]
     },
     "metadata": {
      "needs_background": "light"
     },
     "output_type": "display_data"
    }
   ],
   "source": [
    "saint_pt_centr.groupby('rooms')['last_price'].agg('mean').plot()"
   ]
  },
  {
   "cell_type": "markdown",
   "metadata": {},
   "source": [
    "С увеличением комнат цена растет"
   ]
  },
  {
   "cell_type": "code",
   "execution_count": 78,
   "metadata": {
    "scrolled": true
   },
   "outputs": [
    {
     "data": {
      "text/plain": [
       "<matplotlib.axes._subplots.AxesSubplot at 0x7fc45331f438>"
      ]
     },
     "execution_count": 78,
     "metadata": {},
     "output_type": "execute_result"
    },
    {
     "data": {
      "image/png": "[encoded data removed]",
      "text/plain": [
       "<Figure size 1080x360 with 1 Axes>"
      ]
     },
     "metadata": {
      "needs_background": "light"
     },
     "output_type": "display_data"
    }
   ],
   "source": [
    "saint_pt_centr.groupby('days_exposition')['last_price'].agg('mean').hist(bins=30, figsize=(15,5))"
   ]
  },
  {
   "cell_type": "markdown",
   "metadata": {},
   "source": [
    "<s><font color='red'>Куда же делись циклы? Мы должны строить однотипные графики в циклах. </font>  \n",
    "\n",
    "<font color='green'>Мне не нравится — они получаются в маленьком окне и надо пролистывать, нельзя под каждым писать комментарий. Как расположить по два графика в строке — слева и справа? Вроде нашел share=True, попробую в будущем"
   ]
  },
  {
   "cell_type": "markdown",
   "metadata": {},
   "source": [
    "<font color='blue'> Можно использовать plt.subplots, но это выходит за рамки проекта."
   ]
  },
  {
   "cell_type": "markdown",
   "metadata": {},
   "source": [
    "С увеличением цены растет и время продажи."
   ]
  },
  {
   "cell_type": "markdown",
   "metadata": {},
   "source": [
    "+<font color='brown'>Такой график дает не очень наглядную информацию. Попробуй снова вывести линейные графики со средними ценами в зависимости от этажа, километров от центра и т.д.  \n",
    "  \n",
    "+Обязательно сравни результаты по центру Питера с общими результатами.</font>"
   ]
  },
  {
   "cell_type": "markdown",
   "metadata": {},
   "source": [
    "<s><font color='red'>+Также посмотри корреляционную матрицу, можешь ее визуализировать с помощью seaborn."
   ]
  },
  {
   "cell_type": "code",
   "execution_count": 79,
   "metadata": {
    "scrolled": false
   },
   "outputs": [
    {
     "data": {
      "text/plain": [
       "<matplotlib.axes._subplots.AxesSubplot at 0x7fc431362ba8>"
      ]
     },
     "execution_count": 79,
     "metadata": {},
     "output_type": "execute_result"
    },
    {
     "data": {
      "image/png": "[encoded data removed]",
      "text/plain": [
       "<Figure size 432x288 with 2 Axes>"
      ]
     },
     "metadata": {
      "needs_background": "light"
     },
     "output_type": "display_data"
    }
   ],
   "source": [
    "import seaborn as sns\n",
    "\n",
    "corr = saint_pt_centr_4_columns.corr()\n",
    "figsize=(10, 8)\n",
    "sns.heatmap(corr,\n",
    "            xticklabels=corr.columns.values,\n",
    "            yticklabels=corr.columns.values)\n",
    "\n"
   ]
  },
  {
   "cell_type": "markdown",
   "metadata": {},
   "source": [
    "На графике:  \n",
    "1. Самая сильная зависимость — от общей площади.\n",
    "2. Затем — количество комнат\n",
    "3. Этаж и количество дней экспозиции\n",
    "4. Удаленность от центра. "
   ]
  },
  {
   "cell_type": "markdown",
   "metadata": {},
   "source": [
    "###### Сравним с общей по таблице."
   ]
  },
  {
   "cell_type": "code",
   "execution_count": 80,
   "metadata": {},
   "outputs": [],
   "source": [
    "df_4_columns = df[['last_price', 'rooms', 'total_area', 'floor', 'cityCenters_nearest', 'days_exposition']]"
   ]
  },
  {
   "cell_type": "code",
   "execution_count": 81,
   "metadata": {
    "scrolled": false
   },
   "outputs": [
    {
     "data": {
      "text/html": [
       "<div>\n",
       "<style scoped>\n",
       "    .dataframe tbody tr th:only-of-type {\n",
       "        vertical-align: middle;\n",
       "    }\n",
       "\n",
       "    .dataframe tbody tr th {\n",
       "        vertical-align: top;\n",
       "    }\n",
       "\n",
       "    .dataframe thead th {\n",
       "        text-align: right;\n",
       "    }\n",
       "</style>\n",
       "<table border=\"1\" class=\"dataframe\">\n",
       "  <thead>\n",
       "    <tr style=\"text-align: right;\">\n",
       "      <th></th>\n",
       "      <th>last_price</th>\n",
       "      <th>rooms</th>\n",
       "      <th>total_area</th>\n",
       "      <th>floor</th>\n",
       "      <th>cityCenters_nearest</th>\n",
       "      <th>days_exposition</th>\n",
       "    </tr>\n",
       "  </thead>\n",
       "  <tbody>\n",
       "    <tr>\n",
       "      <td>last_price</td>\n",
       "      <td>1.000000</td>\n",
       "      <td>0.470481</td>\n",
       "      <td>0.768823</td>\n",
       "      <td>0.037016</td>\n",
       "      <td>-0.299528</td>\n",
       "      <td>0.123396</td>\n",
       "    </tr>\n",
       "    <tr>\n",
       "      <td>rooms</td>\n",
       "      <td>0.470481</td>\n",
       "      <td>1.000000</td>\n",
       "      <td>0.767976</td>\n",
       "      <td>-0.154111</td>\n",
       "      <td>-0.180313</td>\n",
       "      <td>0.126333</td>\n",
       "    </tr>\n",
       "    <tr>\n",
       "      <td>total_area</td>\n",
       "      <td>0.768823</td>\n",
       "      <td>0.767976</td>\n",
       "      <td>1.000000</td>\n",
       "      <td>-0.028637</td>\n",
       "      <td>-0.232384</td>\n",
       "      <td>0.153896</td>\n",
       "    </tr>\n",
       "    <tr>\n",
       "      <td>floor</td>\n",
       "      <td>0.037016</td>\n",
       "      <td>-0.154111</td>\n",
       "      <td>-0.028637</td>\n",
       "      <td>1.000000</td>\n",
       "      <td>0.007434</td>\n",
       "      <td>-0.038529</td>\n",
       "    </tr>\n",
       "    <tr>\n",
       "      <td>cityCenters_nearest</td>\n",
       "      <td>-0.299528</td>\n",
       "      <td>-0.180313</td>\n",
       "      <td>-0.232384</td>\n",
       "      <td>0.007434</td>\n",
       "      <td>1.000000</td>\n",
       "      <td>-0.057860</td>\n",
       "    </tr>\n",
       "    <tr>\n",
       "      <td>days_exposition</td>\n",
       "      <td>0.123396</td>\n",
       "      <td>0.126333</td>\n",
       "      <td>0.153896</td>\n",
       "      <td>-0.038529</td>\n",
       "      <td>-0.057860</td>\n",
       "      <td>1.000000</td>\n",
       "    </tr>\n",
       "  </tbody>\n",
       "</table>\n",
       "</div>"
      ],
      "text/plain": [
       "                     last_price     rooms  total_area     floor  \\\n",
       "last_price             1.000000  0.470481    0.768823  0.037016   \n",
       "rooms                  0.470481  1.000000    0.767976 -0.154111   \n",
       "total_area             0.768823  0.767976    1.000000 -0.028637   \n",
       "floor                  0.037016 -0.154111   -0.028637  1.000000   \n",
       "cityCenters_nearest   -0.299528 -0.180313   -0.232384  0.007434   \n",
       "days_exposition        0.123396  0.126333    0.153896 -0.038529   \n",
       "\n",
       "                     cityCenters_nearest  days_exposition  \n",
       "last_price                     -0.299528         0.123396  \n",
       "rooms                          -0.180313         0.126333  \n",
       "total_area                     -0.232384         0.153896  \n",
       "floor                           0.007434        -0.038529  \n",
       "cityCenters_nearest             1.000000        -0.057860  \n",
       "days_exposition                -0.057860         1.000000  "
      ]
     },
     "execution_count": 81,
     "metadata": {},
     "output_type": "execute_result"
    },
    {
     "data": {
      "image/png": "[encoded data removed]",
      "text/plain": [
       "<Figure size 432x288 with 2 Axes>"
      ]
     },
     "metadata": {
      "needs_background": "light"
     },
     "output_type": "display_data"
    }
   ],
   "source": [
    "corr_df = df_4_columns.corr()\n",
    "figsize=(10, 8)\n",
    "sns.heatmap(corr,\n",
    "            xticklabels=corr.columns.values,\n",
    "            yticklabels=corr.columns.values)\n",
    "\n",
    "corr_df"
   ]
  },
  {
   "cell_type": "code",
   "execution_count": 84,
   "metadata": {
    "scrolled": true
   },
   "outputs": [
    {
     "data": {
      "text/plain": [
       "total_area           AxesSubplot(0.125,0.536818;0.352273x0.343182)\n",
       "last_price        AxesSubplot(0.547727,0.536818;0.352273x0.343182)\n",
       "rooms                   AxesSubplot(0.125,0.125;0.352273x0.343182)\n",
       "ceiling_height       AxesSubplot(0.547727,0.125;0.352273x0.343182)\n",
       "dtype: object"
      ]
     },
     "execution_count": 84,
     "metadata": {},
     "output_type": "execute_result"
    },
    {
     "data": {
      "image/png": "[encoded data removed]",
      "text/plain": [
       "<Figure size 1440x576 with 4 Axes>"
      ]
     },
     "metadata": {
      "needs_background": "light"
     },
     "output_type": "display_data"
    }
   ],
   "source": [
    "column_list1 = ['total_area', 'last_price', 'rooms', 'ceiling_height']\n",
    "df[column_list1].plot(kind='box', subplots=True, layout=(2,2), figsize=(20,8))"
   ]
  },
  {
   "cell_type": "code",
   "execution_count": 98,
   "metadata": {
    "scrolled": true
   },
   "outputs": [
    {
     "data": {
      "image/png": "[encoded data removed]",
      "text/plain": [
       "<Figure size 1152x576 with 4 Axes>"
      ]
     },
     "metadata": {
      "needs_background": "light"
     },
     "output_type": "display_data"
    }
   ],
   "source": [
    "column_list1 = ['total_area', 'last_price', 'rooms', 'ceiling_height']\n",
    "ax = df[column_list1].plot(kind='box', subplots=True, layout=(1,4), figsize=(16,8))\n",
    "ylims = [200, 13000000, 6, 3.5]\n",
    "for i in range(len(column_list1)):\n",
    "    ax[column_list1[i]].set_ylim(0, ylims[i])\n",
    "# ^^^ этот цикл равнозначен тому, что ниже:\n",
    "# ax['total_area'] = set_ylim(0, 600)\n",
    "# ax['last_price'] = set_ylim(0, 13000000)\n",
    "# ax['rooms'] = set_ylim(0, 10)\n",
    "# ax['ceiling_height'] = set_ylim(0, 5)"
   ]
  },
  {
   "cell_type": "code",
   "execution_count": 106,
   "metadata": {},
   "outputs": [
    {
     "data": {
      "application/javascript": [
       "/* Put everything inside the global mpl namespace */\n",
       "window.mpl = {};\n",
       "\n",
       "\n",
       "mpl.get_websocket_type = function() {\n",
       "    if (typeof(WebSocket) !== 'undefined') {\n",
       "        return WebSocket;\n",
       "    } else if (typeof(MozWebSocket) !== 'undefined') {\n",
       "        return MozWebSocket;\n",
       "    } else {\n",
       "        alert('Your browser does not have WebSocket support. ' +\n",
       "              'Please try Chrome, Safari or Firefox ≥ 6. ' +\n",
       "              'Firefox 4 and 5 are also supported but you ' +\n",
       "              'have to enable WebSockets in about:config.');\n",
       "    };\n",
       "}\n",
       "\n",
       "mpl.figure = function(figure_id, websocket, ondownload, parent_element) {\n",
       "    this.id = figure_id;\n",
       "\n",
       "    this.ws = websocket;\n",
       "\n",
       "    this.supports_binary = (this.ws.binaryType != undefined);\n",
       "\n",
       "    if (!this.supports_binary) {\n",
       "        var warnings = document.getElementById(\"mpl-warnings\");\n",
       "        if (warnings) {\n",
       "            warnings.style.display = 'block';\n",
       "            warnings.textContent = (\n",
       "                \"This browser does not support binary websocket messages. \" +\n",
       "                    \"Performance may be slow.\");\n",
       "        }\n",
       "    }\n",
       "\n",
       "    this.imageObj = new Image();\n",
       "\n",
       "    this.context = undefined;\n",
       "    this.message = undefined;\n",
       "    this.canvas = undefined;\n",
       "    this.rubberband_canvas = undefined;\n",
       "    this.rubberband_context = undefined;\n",
       "    this.format_dropdown = undefined;\n",
       "\n",
       "    this.image_mode = 'full';\n",
       "\n",
       "    this.root = $('<div/>');\n",
       "    this._root_extra_style(this.root)\n",
       "    this.root.attr('style', 'display: inline-block');\n",
       "\n",
       "    $(parent_element).append(this.root);\n",
       "\n",
       "    this._init_header(this);\n",
       "    this._init_canvas(this);\n",
       "    this._init_toolbar(this);\n",
       "\n",
       "    var fig = this;\n",
       "\n",
       "    this.waiting = false;\n",
       "\n",
       "    this.ws.onopen =  function () {\n",
       "            fig.send_message(\"supports_binary\", {value: fig.supports_binary});\n",
       "            fig.send_message(\"send_image_mode\", {});\n",
       "            if (mpl.ratio != 1) {\n",
       "                fig.send_message(\"set_dpi_ratio\", {'dpi_ratio': mpl.ratio});\n",
       "            }\n",
       "            fig.send_message(\"refresh\", {});\n",
       "        }\n",
       "\n",
       "    this.imageObj.onload = function() {\n",
       "            if (fig.image_mode == 'full') {\n",
       "                // Full images could contain transparency (where diff images\n",
       "                // almost always do), so we need to clear the canvas so that\n",
       "                // there is no ghosting.\n",
       "                fig.context.clearRect(0, 0, fig.canvas.width, fig.canvas.height);\n",
       "            }\n",
       "            fig.context.drawImage(fig.imageObj, 0, 0);\n",
       "        };\n",
       "\n",
       "    this.imageObj.onunload = function() {\n",
       "        fig.ws.close();\n",
       "    }\n",
       "\n",
       "    this.ws.onmessage = this._make_on_message_function(this);\n",
       "\n",
       "    this.ondownload = ondownload;\n",
       "}\n",
       "\n",
       "mpl.figure.prototype._init_header = function() {\n",
       "    var titlebar = $(\n",
       "        '<div class=\"ui-dialog-titlebar ui-widget-header ui-corner-all ' +\n",
       "        'ui-helper-clearfix\"/>');\n",
       "    var titletext = $(\n",
       "        '<div class=\"ui-dialog-title\" style=\"width: 100%; ' +\n",
       "        'text-align: center; padding: 3px;\"/>');\n",
       "    titlebar.append(titletext)\n",
       "    this.root.append(titlebar);\n",
       "    this.header = titletext[0];\n",
       "}\n",
       "\n",
       "\n",
       "\n",
       "mpl.figure.prototype._canvas_extra_style = function(canvas_div) {\n",
       "\n",
       "}\n",
       "\n",
       "\n",
       "mpl.figure.prototype._root_extra_style = function(canvas_div) {\n",
       "\n",
       "}\n",
       "\n",
       "mpl.figure.prototype._init_canvas = function() {\n",
       "    var fig = this;\n",
       "\n",
       "    var canvas_div = $('<div/>');\n",
       "\n",
       "    canvas_div.attr('style', 'position: relative; clear: both; outline: 0');\n",
       "\n",
       "    function canvas_keyboard_event(event) {\n",
       "        return fig.key_event(event, event['data']);\n",
       "    }\n",
       "\n",
       "    canvas_div.keydown('key_press', canvas_keyboard_event);\n",
       "    canvas_div.keyup('key_release', canvas_keyboard_event);\n",
       "    this.canvas_div = canvas_div\n",
       "    this._canvas_extra_style(canvas_div)\n",
       "    this.root.append(canvas_div);\n",
       "\n",
       "    var canvas = $('<canvas/>');\n",
       "    canvas.addClass('mpl-canvas');\n",
       "    canvas.attr('style', \"left: 0; top: 0; z-index: 0; outline: 0\")\n",
       "\n",
       "    this.canvas = canvas[0];\n",
       "    this.context = canvas[0].getContext(\"2d\");\n",
       "\n",
       "    var backingStore = this.context.backingStorePixelRatio ||\n",
       "\tthis.context.webkitBackingStorePixelRatio ||\n",
       "\tthis.context.mozBackingStorePixelRatio ||\n",
       "\tthis.context.msBackingStorePixelRatio ||\n",
       "\tthis.context.oBackingStorePixelRatio ||\n",
       "\tthis.context.backingStorePixelRatio || 1;\n",
       "\n",
       "    mpl.ratio = (window.devicePixelRatio || 1) / backingStore;\n",
       "\n",
       "    var rubberband = $('<canvas/>');\n",
       "    rubberband.attr('style', \"position: absolute; left: 0; top: 0; z-index: 1;\")\n",
       "\n",
       "    var pass_mouse_events = true;\n",
       "\n",
       "    canvas_div.resizable({\n",
       "        start: function(event, ui) {\n",
       "            pass_mouse_events = false;\n",
       "        },\n",
       "        resize: function(event, ui) {\n",
       "            fig.request_resize(ui.size.width, ui.size.height);\n",
       "        },\n",
       "        stop: function(event, ui) {\n",
       "            pass_mouse_events = true;\n",
       "            fig.request_resize(ui.size.width, ui.size.height);\n",
       "        },\n",
       "    });\n",
       "\n",
       "    function mouse_event_fn(event) {\n",
       "        if (pass_mouse_events)\n",
       "            return fig.mouse_event(event, event['data']);\n",
       "    }\n",
       "\n",
       "    rubberband.mousedown('button_press', mouse_event_fn);\n",
       "    rubberband.mouseup('button_release', mouse_event_fn);\n",
       "    // Throttle sequential mouse events to 1 every 20ms.\n",
       "    rubberband.mousemove('motion_notify', mouse_event_fn);\n",
       "\n",
       "    rubberband.mouseenter('figure_enter', mouse_event_fn);\n",
       "    rubberband.mouseleave('figure_leave', mouse_event_fn);\n",
       "\n",
       "    canvas_div.on(\"wheel\", function (event) {\n",
       "        event = event.originalEvent;\n",
       "        event['data'] = 'scroll'\n",
       "        if (event.deltaY < 0) {\n",
       "            event.step = 1;\n",
       "        } else {\n",
       "            event.step = -1;\n",
       "        }\n",
       "        mouse_event_fn(event);\n",
       "    });\n",
       "\n",
       "    canvas_div.append(canvas);\n",
       "    canvas_div.append(rubberband);\n",
       "\n",
       "    this.rubberband = rubberband;\n",
       "    this.rubberband_canvas = rubberband[0];\n",
       "    this.rubberband_context = rubberband[0].getContext(\"2d\");\n",
       "    this.rubberband_context.strokeStyle = \"#000000\";\n",
       "\n",
       "    this._resize_canvas = function(width, height) {\n",
       "        // Keep the size of the canvas, canvas container, and rubber band\n",
       "        // canvas in synch.\n",
       "        canvas_div.css('width', width)\n",
       "        canvas_div.css('height', height)\n",
       "\n",
       "        canvas.attr('width', width * mpl.ratio);\n",
       "        canvas.attr('height', height * mpl.ratio);\n",
       "        canvas.attr('style', 'width: ' + width + 'px; height: ' + height + 'px;');\n",
       "\n",
       "        rubberband.attr('width', width);\n",
       "        rubberband.attr('height', height);\n",
       "    }\n",
       "\n",
       "    // Set the figure to an initial 600x600px, this will subsequently be updated\n",
       "    // upon first draw.\n",
       "    this._resize_canvas(600, 600);\n",
       "\n",
       "    // Disable right mouse context menu.\n",
       "    $(this.rubberband_canvas).bind(\"contextmenu\",function(e){\n",
       "        return false;\n",
       "    });\n",
       "\n",
       "    function set_focus () {\n",
       "        canvas.focus();\n",
       "        canvas_div.focus();\n",
       "    }\n",
       "\n",
       "    window.setTimeout(set_focus, 100);\n",
       "}\n",
       "\n",
       "mpl.figure.prototype._init_toolbar = function() {\n",
       "    var fig = this;\n",
       "\n",
       "    var nav_element = $('<div/>');\n",
       "    nav_element.attr('style', 'width: 100%');\n",
       "    this.root.append(nav_element);\n",
       "\n",
       "    // Define a callback function for later on.\n",
       "    function toolbar_event(event) {\n",
       "        return fig.toolbar_button_onclick(event['data']);\n",
       "    }\n",
       "    function toolbar_mouse_event(event) {\n",
       "        return fig.toolbar_button_onmouseover(event['data']);\n",
       "    }\n",
       "\n",
       "    for(var toolbar_ind in mpl.toolbar_items) {\n",
       "        var name = mpl.toolbar_items[toolbar_ind][0];\n",
       "        var tooltip = mpl.toolbar_items[toolbar_ind][1];\n",
       "        var image = mpl.toolbar_items[toolbar_ind][2];\n",
       "        var method_name = mpl.toolbar_items[toolbar_ind][3];\n",
       "\n",
       "        if (!name) {\n",
       "            // put a spacer in here.\n",
       "            continue;\n",
       "        }\n",
       "        var button = $('<button/>');\n",
       "        button.addClass('ui-button ui-widget ui-state-default ui-corner-all ' +\n",
       "                        'ui-button-icon-only');\n",
       "        button.attr('role', 'button');\n",
       "        button.attr('aria-disabled', 'false');\n",
       "        button.click(method_name, toolbar_event);\n",
       "        button.mouseover(tooltip, toolbar_mouse_event);\n",
       "\n",
       "        var icon_img = $('<span/>');\n",
       "        icon_img.addClass('ui-button-icon-primary ui-icon');\n",
       "        icon_img.addClass(image);\n",
       "        icon_img.addClass('ui-corner-all');\n",
       "\n",
       "        var tooltip_span = $('<span/>');\n",
       "        tooltip_span.addClass('ui-button-text');\n",
       "        tooltip_span.html(tooltip);\n",
       "\n",
       "        button.append(icon_img);\n",
       "        button.append(tooltip_span);\n",
       "\n",
       "        nav_element.append(button);\n",
       "    }\n",
       "\n",
       "    var fmt_picker_span = $('<span/>');\n",
       "\n",
       "    var fmt_picker = $('<select/>');\n",
       "    fmt_picker.addClass('mpl-toolbar-option ui-widget ui-widget-content');\n",
       "    fmt_picker_span.append(fmt_picker);\n",
       "    nav_element.append(fmt_picker_span);\n",
       "    this.format_dropdown = fmt_picker[0];\n",
       "\n",
       "    for (var ind in mpl.extensions) {\n",
       "        var fmt = mpl.extensions[ind];\n",
       "        var option = $(\n",
       "            '<option/>', {selected: fmt === mpl.default_extension}).html(fmt);\n",
       "        fmt_picker.append(option);\n",
       "    }\n",
       "\n",
       "    // Add hover states to the ui-buttons\n",
       "    $( \".ui-button\" ).hover(\n",
       "        function() { $(this).addClass(\"ui-state-hover\");},\n",
       "        function() { $(this).removeClass(\"ui-state-hover\");}\n",
       "    );\n",
       "\n",
       "    var status_bar = $('<span class=\"mpl-message\"/>');\n",
       "    nav_element.append(status_bar);\n",
       "    this.message = status_bar[0];\n",
       "}\n",
       "\n",
       "mpl.figure.prototype.request_resize = function(x_pixels, y_pixels) {\n",
       "    // Request matplotlib to resize the figure. Matplotlib will then trigger a resize in the client,\n",
       "    // which will in turn request a refresh of the image.\n",
       "    this.send_message('resize', {'width': x_pixels, 'height': y_pixels});\n",
       "}\n",
       "\n",
       "mpl.figure.prototype.send_message = function(type, properties) {\n",
       "    properties['type'] = type;\n",
       "    properties['figure_id'] = this.id;\n",
       "    this.ws.send(JSON.stringify(properties));\n",
       "}\n",
       "\n",
       "mpl.figure.prototype.send_draw_message = function() {\n",
       "    if (!this.waiting) {\n",
       "        this.waiting = true;\n",
       "        this.ws.send(JSON.stringify({type: \"draw\", figure_id: this.id}));\n",
       "    }\n",
       "}\n",
       "\n",
       "\n",
       "mpl.figure.prototype.handle_save = function(fig, msg) {\n",
       "    var format_dropdown = fig.format_dropdown;\n",
       "    var format = format_dropdown.options[format_dropdown.selectedIndex].value;\n",
       "    fig.ondownload(fig, format);\n",
       "}\n",
       "\n",
       "\n",
       "mpl.figure.prototype.handle_resize = function(fig, msg) {\n",
       "    var size = msg['size'];\n",
       "    if (size[0] != fig.canvas.width || size[1] != fig.canvas.height) {\n",
       "        fig._resize_canvas(size[0], size[1]);\n",
       "        fig.send_message(\"refresh\", {});\n",
       "    };\n",
       "}\n",
       "\n",
       "mpl.figure.prototype.handle_rubberband = function(fig, msg) {\n",
       "    var x0 = msg['x0'] / mpl.ratio;\n",
       "    var y0 = (fig.canvas.height - msg['y0']) / mpl.ratio;\n",
       "    var x1 = msg['x1'] / mpl.ratio;\n",
       "    var y1 = (fig.canvas.height - msg['y1']) / mpl.ratio;\n",
       "    x0 = Math.floor(x0) + 0.5;\n",
       "    y0 = Math.floor(y0) + 0.5;\n",
       "    x1 = Math.floor(x1) + 0.5;\n",
       "    y1 = Math.floor(y1) + 0.5;\n",
       "    var min_x = Math.min(x0, x1);\n",
       "    var min_y = Math.min(y0, y1);\n",
       "    var width = Math.abs(x1 - x0);\n",
       "    var height = Math.abs(y1 - y0);\n",
       "\n",
       "    fig.rubberband_context.clearRect(\n",
       "        0, 0, fig.canvas.width, fig.canvas.height);\n",
       "\n",
       "    fig.rubberband_context.strokeRect(min_x, min_y, width, height);\n",
       "}\n",
       "\n",
       "mpl.figure.prototype.handle_figure_label = function(fig, msg) {\n",
       "    // Updates the figure title.\n",
       "    fig.header.textContent = msg['label'];\n",
       "}\n",
       "\n",
       "mpl.figure.prototype.handle_cursor = function(fig, msg) {\n",
       "    var cursor = msg['cursor'];\n",
       "    switch(cursor)\n",
       "    {\n",
       "    case 0:\n",
       "        cursor = 'pointer';\n",
       "        break;\n",
       "    case 1:\n",
       "        cursor = 'default';\n",
       "        break;\n",
       "    case 2:\n",
       "        cursor = 'crosshair';\n",
       "        break;\n",
       "    case 3:\n",
       "        cursor = 'move';\n",
       "        break;\n",
       "    }\n",
       "    fig.rubberband_canvas.style.cursor = cursor;\n",
       "}\n",
       "\n",
       "mpl.figure.prototype.handle_message = function(fig, msg) {\n",
       "    fig.message.textContent = msg['message'];\n",
       "}\n",
       "\n",
       "mpl.figure.prototype.handle_draw = function(fig, msg) {\n",
       "    // Request the server to send over a new figure.\n",
       "    fig.send_draw_message();\n",
       "}\n",
       "\n",
       "mpl.figure.prototype.handle_image_mode = function(fig, msg) {\n",
       "    fig.image_mode = msg['mode'];\n",
       "}\n",
       "\n",
       "mpl.figure.prototype.updated_canvas_event = function() {\n",
       "    // Called whenever the canvas gets updated.\n",
       "    this.send_message(\"ack\", {});\n",
       "}\n",
       "\n",
       "// A function to construct a web socket function for onmessage handling.\n",
       "// Called in the figure constructor.\n",
       "mpl.figure.prototype._make_on_message_function = function(fig) {\n",
       "    return function socket_on_message(evt) {\n",
       "        if (evt.data instanceof Blob) {\n",
       "            /* FIXME: We get \"Resource interpreted as Image but\n",
       "             * transferred with MIME type text/plain:\" errors on\n",
       "             * Chrome.  But how to set the MIME type?  It doesn't seem\n",
       "             * to be part of the websocket stream */\n",
       "            evt.data.type = \"image/png\";\n",
       "\n",
       "            /* Free the memory for the previous frames */\n",
       "            if (fig.imageObj.src) {\n",
       "                (window.URL || window.webkitURL).revokeObjectURL(\n",
       "                    fig.imageObj.src);\n",
       "            }\n",
       "\n",
       "            fig.imageObj.src = (window.URL || window.webkitURL).createObjectURL(\n",
       "                evt.data);\n",
       "            fig.updated_canvas_event();\n",
       "            fig.waiting = false;\n",
       "            return;\n",
       "        }\n",
       "        else if (typeof evt.data === 'string' && evt.data.slice(0, 21) == \"data:image/png;base64\") {\n",
       "            fig.imageObj.src = evt.data;\n",
       "            fig.updated_canvas_event();\n",
       "            fig.waiting = false;\n",
       "            return;\n",
       "        }\n",
       "\n",
       "        var msg = JSON.parse(evt.data);\n",
       "        var msg_type = msg['type'];\n",
       "\n",
       "        // Call the  \"handle_{type}\" callback, which takes\n",
       "        // the figure and JSON message as its only arguments.\n",
       "        try {\n",
       "            var callback = fig[\"handle_\" + msg_type];\n",
       "        } catch (e) {\n",
       "            console.log(\"No handler for the '\" + msg_type + \"' message type: \", msg);\n",
       "            return;\n",
       "        }\n",
       "\n",
       "        if (callback) {\n",
       "            try {\n",
       "                // console.log(\"Handling '\" + msg_type + \"' message: \", msg);\n",
       "                callback(fig, msg);\n",
       "            } catch (e) {\n",
       "                console.log(\"Exception inside the 'handler_\" + msg_type + \"' callback:\", e, e.stack, msg);\n",
       "            }\n",
       "        }\n",
       "    };\n",
       "}\n",
       "\n",
       "// from http://stackoverflow.com/questions/1114465/getting-mouse-location-in-canvas\n",
       "mpl.findpos = function(e) {\n",
       "    //this section is from http://www.quirksmode.org/js/events_properties.html\n",
       "    var targ;\n",
       "    if (!e)\n",
       "        e = window.event;\n",
       "    if (e.target)\n",
       "        targ = e.target;\n",
       "    else if (e.srcElement)\n",
       "        targ = e.srcElement;\n",
       "    if (targ.nodeType == 3) // defeat Safari bug\n",
       "        targ = targ.parentNode;\n",
       "\n",
       "    // jQuery normalizes the pageX and pageY\n",
       "    // pageX,Y are the mouse positions relative to the document\n",
       "    // offset() returns the position of the element relative to the document\n",
       "    var x = e.pageX - $(targ).offset().left;\n",
       "    var y = e.pageY - $(targ).offset().top;\n",
       "\n",
       "    return {\"x\": x, \"y\": y};\n",
       "};\n",
       "\n",
       "/*\n",
       " * return a copy of an object with only non-object keys\n",
       " * we need this to avoid circular references\n",
       " * http://stackoverflow.com/a/24161582/3208463\n",
       " */\n",
       "function simpleKeys (original) {\n",
       "  return Object.keys(original).reduce(function (obj, key) {\n",
       "    if (typeof original[key] !== 'object')\n",
       "        obj[key] = original[key]\n",
       "    return obj;\n",
       "  }, {});\n",
       "}\n",
       "\n",
       "mpl.figure.prototype.mouse_event = function(event, name) {\n",
       "    var canvas_pos = mpl.findpos(event)\n",
       "\n",
       "    if (name === 'button_press')\n",
       "    {\n",
       "        this.canvas.focus();\n",
       "        this.canvas_div.focus();\n",
       "    }\n",
       "\n",
       "    var x = canvas_pos.x * mpl.ratio;\n",
       "    var y = canvas_pos.y * mpl.ratio;\n",
       "\n",
       "    this.send_message(name, {x: x, y: y, button: event.button,\n",
       "                             step: event.step,\n",
       "                             guiEvent: simpleKeys(event)});\n",
       "\n",
       "    /* This prevents the web browser from automatically changing to\n",
       "     * the text insertion cursor when the button is pressed.  We want\n",
       "     * to control all of the cursor setting manually through the\n",
       "     * 'cursor' event from matplotlib */\n",
       "    event.preventDefault();\n",
       "    return false;\n",
       "}\n",
       "\n",
       "mpl.figure.prototype._key_event_extra = function(event, name) {\n",
       "    // Handle any extra behaviour associated with a key event\n",
       "}\n",
       "\n",
       "mpl.figure.prototype.key_event = function(event, name) {\n",
       "\n",
       "    // Prevent repeat events\n",
       "    if (name == 'key_press')\n",
       "    {\n",
       "        if (event.which === this._key)\n",
       "            return;\n",
       "        else\n",
       "            this._key = event.which;\n",
       "    }\n",
       "    if (name == 'key_release')\n",
       "        this._key = null;\n",
       "\n",
       "    var value = '';\n",
       "    if (event.ctrlKey && event.which != 17)\n",
       "        value += \"ctrl+\";\n",
       "    if (event.altKey && event.which != 18)\n",
       "        value += \"alt+\";\n",
       "    if (event.shiftKey && event.which != 16)\n",
       "        value += \"shift+\";\n",
       "\n",
       "    value += 'k';\n",
       "    value += event.which.toString();\n",
       "\n",
       "    this._key_event_extra(event, name);\n",
       "\n",
       "    this.send_message(name, {key: value,\n",
       "                             guiEvent: simpleKeys(event)});\n",
       "    return false;\n",
       "}\n",
       "\n",
       "mpl.figure.prototype.toolbar_button_onclick = function(name) {\n",
       "    if (name == 'download') {\n",
       "        this.handle_save(this, null);\n",
       "    } else {\n",
       "        this.send_message(\"toolbar_button\", {name: name});\n",
       "    }\n",
       "};\n",
       "\n",
       "mpl.figure.prototype.toolbar_button_onmouseover = function(tooltip) {\n",
       "    this.message.textContent = tooltip;\n",
       "};\n",
       "mpl.toolbar_items = [[\"Home\", \"Reset original view\", \"fa fa-home icon-home\", \"home\"], [\"Back\", \"Back to previous view\", \"fa fa-arrow-left icon-arrow-left\", \"back\"], [\"Forward\", \"Forward to next view\", \"fa fa-arrow-right icon-arrow-right\", \"forward\"], [\"\", \"\", \"\", \"\"], [\"Pan\", \"Pan axes with left mouse, zoom with right\", \"fa fa-arrows icon-move\", \"pan\"], [\"Zoom\", \"Zoom to rectangle\", \"fa fa-square-o icon-check-empty\", \"zoom\"], [\"\", \"\", \"\", \"\"], [\"Download\", \"Download plot\", \"fa fa-floppy-o icon-save\", \"download\"]];\n",
       "\n",
       "mpl.extensions = [\"eps\", \"pdf\", \"png\", \"ps\", \"raw\", \"svg\"];\n",
       "\n",
       "mpl.default_extension = \"png\";var comm_websocket_adapter = function(comm) {\n",
       "    // Create a \"websocket\"-like object which calls the given IPython comm\n",
       "    // object with the appropriate methods. Currently this is a non binary\n",
       "    // socket, so there is still some room for performance tuning.\n",
       "    var ws = {};\n",
       "\n",
       "    ws.close = function() {\n",
       "        comm.close()\n",
       "    };\n",
       "    ws.send = function(m) {\n",
       "        //console.log('sending', m);\n",
       "        comm.send(m);\n",
       "    };\n",
       "    // Register the callback with on_msg.\n",
       "    comm.on_msg(function(msg) {\n",
       "        //console.log('receiving', msg['content']['data'], msg);\n",
       "        // Pass the mpl event to the overridden (by mpl) onmessage function.\n",
       "        ws.onmessage(msg['content']['data'])\n",
       "    });\n",
       "    return ws;\n",
       "}\n",
       "\n",
       "mpl.mpl_figure_comm = function(comm, msg) {\n",
       "    // This is the function which gets called when the mpl process\n",
       "    // starts-up an IPython Comm through the \"matplotlib\" channel.\n",
       "\n",
       "    var id = msg.content.data.id;\n",
       "    // Get hold of the div created by the display call when the Comm\n",
       "    // socket was opened in Python.\n",
       "    var element = $(\"#\" + id);\n",
       "    var ws_proxy = comm_websocket_adapter(comm)\n",
       "\n",
       "    function ondownload(figure, format) {\n",
       "        window.open(figure.imageObj.src);\n",
       "    }\n",
       "\n",
       "    var fig = new mpl.figure(id, ws_proxy,\n",
       "                           ondownload,\n",
       "                           element.get(0));\n",
       "\n",
       "    // Call onopen now - mpl needs it, as it is assuming we've passed it a real\n",
       "    // web socket which is closed, not our websocket->open comm proxy.\n",
       "    ws_proxy.onopen();\n",
       "\n",
       "    fig.parent_element = element.get(0);\n",
       "    fig.cell_info = mpl.find_output_cell(\"<div id='\" + id + \"'></div>\");\n",
       "    if (!fig.cell_info) {\n",
       "        console.error(\"Failed to find cell for figure\", id, fig);\n",
       "        return;\n",
       "    }\n",
       "\n",
       "    var output_index = fig.cell_info[2]\n",
       "    var cell = fig.cell_info[0];\n",
       "\n",
       "};\n",
       "\n",
       "mpl.figure.prototype.handle_close = function(fig, msg) {\n",
       "    var width = fig.canvas.width/mpl.ratio\n",
       "    fig.root.unbind('remove')\n",
       "\n",
       "    // Update the output cell to use the data from the current canvas.\n",
       "    fig.push_to_output();\n",
       "    var dataURL = fig.canvas.toDataURL();\n",
       "    // Re-enable the keyboard manager in IPython - without this line, in FF,\n",
       "    // the notebook keyboard shortcuts fail.\n",
       "    IPython.keyboard_manager.enable()\n",
       "    $(fig.parent_element).html('<img src=\"' + dataURL + '\" width=\"' + width + '\">');\n",
       "    fig.close_ws(fig, msg);\n",
       "}\n",
       "\n",
       "mpl.figure.prototype.close_ws = function(fig, msg){\n",
       "    fig.send_message('closing', msg);\n",
       "    // fig.ws.close()\n",
       "}\n",
       "\n",
       "mpl.figure.prototype.push_to_output = function(remove_interactive) {\n",
       "    // Turn the data on the canvas into data in the output cell.\n",
       "    var width = this.canvas.width/mpl.ratio\n",
       "    var dataURL = this.canvas.toDataURL();\n",
       "    this.cell_info[1]['text/html'] = '<img src=\"' + dataURL + '\" width=\"' + width + '\">';\n",
       "}\n",
       "\n",
       "mpl.figure.prototype.updated_canvas_event = function() {\n",
       "    // Tell IPython that the notebook contents must change.\n",
       "    IPython.notebook.set_dirty(true);\n",
       "    this.send_message(\"ack\", {});\n",
       "    var fig = this;\n",
       "    // Wait a second, then push the new image to the DOM so\n",
       "    // that it is saved nicely (might be nice to debounce this).\n",
       "    setTimeout(function () { fig.push_to_output() }, 1000);\n",
       "}\n",
       "\n",
       "mpl.figure.prototype._init_toolbar = function() {\n",
       "    var fig = this;\n",
       "\n",
       "    var nav_element = $('<div/>');\n",
       "    nav_element.attr('style', 'width: 100%');\n",
       "    this.root.append(nav_element);\n",
       "\n",
       "    // Define a callback function for later on.\n",
       "    function toolbar_event(event) {\n",
       "        return fig.toolbar_button_onclick(event['data']);\n",
       "    }\n",
       "    function toolbar_mouse_event(event) {\n",
       "        return fig.toolbar_button_onmouseover(event['data']);\n",
       "    }\n",
       "\n",
       "    for(var toolbar_ind in mpl.toolbar_items){\n",
       "        var name = mpl.toolbar_items[toolbar_ind][0];\n",
       "        var tooltip = mpl.toolbar_items[toolbar_ind][1];\n",
       "        var image = mpl.toolbar_items[toolbar_ind][2];\n",
       "        var method_name = mpl.toolbar_items[toolbar_ind][3];\n",
       "\n",
       "        if (!name) { continue; };\n",
       "\n",
       "        var button = $('<button class=\"btn btn-default\" href=\"#\" title=\"' + name + '\"><i class=\"fa ' + image + ' fa-lg\"></i></button>');\n",
       "        button.click(method_name, toolbar_event);\n",
       "        button.mouseover(tooltip, toolbar_mouse_event);\n",
       "        nav_element.append(button);\n",
       "    }\n",
       "\n",
       "    // Add the status bar.\n",
       "    var status_bar = $('<span class=\"mpl-message\" style=\"text-align:right; float: right;\"/>');\n",
       "    nav_element.append(status_bar);\n",
       "    this.message = status_bar[0];\n",
       "\n",
       "    // Add the close button to the window.\n",
       "    var buttongrp = $('<div class=\"btn-group inline pull-right\"></div>');\n",
       "    var button = $('<button class=\"btn btn-mini btn-primary\" href=\"#\" title=\"Stop Interaction\"><i class=\"fa fa-power-off icon-remove icon-large\"></i></button>');\n",
       "    button.click(function (evt) { fig.handle_close(fig, {}); } );\n",
       "    button.mouseover('Stop Interaction', toolbar_mouse_event);\n",
       "    buttongrp.append(button);\n",
       "    var titlebar = this.root.find($('.ui-dialog-titlebar'));\n",
       "    titlebar.prepend(buttongrp);\n",
       "}\n",
       "\n",
       "mpl.figure.prototype._root_extra_style = function(el){\n",
       "    var fig = this\n",
       "    el.on(\"remove\", function(){\n",
       "\tfig.close_ws(fig, {});\n",
       "    });\n",
       "}\n",
       "\n",
       "mpl.figure.prototype._canvas_extra_style = function(el){\n",
       "    // this is important to make the div 'focusable\n",
       "    el.attr('tabindex', 0)\n",
       "    // reach out to IPython and tell the keyboard manager to turn it's self\n",
       "    // off when our div gets focus\n",
       "\n",
       "    // location in version 3\n",
       "    if (IPython.notebook.keyboard_manager) {\n",
       "        IPython.notebook.keyboard_manager.register_events(el);\n",
       "    }\n",
       "    else {\n",
       "        // location in version 2\n",
       "        IPython.keyboard_manager.register_events(el);\n",
       "    }\n",
       "\n",
       "}\n",
       "\n",
       "mpl.figure.prototype._key_event_extra = function(event, name) {\n",
       "    var manager = IPython.notebook.keyboard_manager;\n",
       "    if (!manager)\n",
       "        manager = IPython.keyboard_manager;\n",
       "\n",
       "    // Check for shift+enter\n",
       "    if (event.shiftKey && event.which == 13) {\n",
       "        this.canvas_div.blur();\n",
       "        event.shiftKey = false;\n",
       "        // Send a \"J\" for go to next cell\n",
       "        event.which = 74;\n",
       "        event.keyCode = 74;\n",
       "        manager.command_mode();\n",
       "        manager.handle_keydown(event);\n",
       "    }\n",
       "}\n",
       "\n",
       "mpl.figure.prototype.handle_save = function(fig, msg) {\n",
       "    fig.ondownload(fig, null);\n",
       "}\n",
       "\n",
       "\n",
       "mpl.find_output_cell = function(html_output) {\n",
       "    // Return the cell and output element which can be found *uniquely* in the notebook.\n",
       "    // Note - this is a bit hacky, but it is done because the \"notebook_saving.Notebook\"\n",
       "    // IPython event is triggered only after the cells have been serialised, which for\n",
       "    // our purposes (turning an active figure into a static one), is too late.\n",
       "    var cells = IPython.notebook.get_cells();\n",
       "    var ncells = cells.length;\n",
       "    for (var i=0; i<ncells; i++) {\n",
       "        var cell = cells[i];\n",
       "        if (cell.cell_type === 'code'){\n",
       "            for (var j=0; j<cell.output_area.outputs.length; j++) {\n",
       "                var data = cell.output_area.outputs[j];\n",
       "                if (data.data) {\n",
       "                    // IPython >= 3 moved mimebundle to data attribute of output\n",
       "                    data = data.data;\n",
       "                }\n",
       "                if (data['text/html'] == html_output) {\n",
       "                    return [cell, data, j];\n",
       "                }\n",
       "            }\n",
       "        }\n",
       "    }\n",
       "}\n",
       "\n",
       "// Register the function which deals with the matplotlib target/channel.\n",
       "// The kernel may be null if the page has been refreshed.\n",
       "if (IPython.notebook.kernel != null) {\n",
       "    IPython.notebook.kernel.comm_manager.register_target('matplotlib', mpl.mpl_figure_comm);\n",
       "}\n"
      ],
      "text/plain": [
       "<IPython.core.display.Javascript object>"
      ]
     },
     "metadata": {},
     "output_type": "display_data"
    },
    {
     "data": {
      "text/html": [
       "<img src=\"data:image/png;base64,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\" width=\"864\">"
      ],
      "text/plain": [
       "<IPython.core.display.HTML object>"
      ]
     },
     "metadata": {},
     "output_type": "display_data"
    }
   ],
   "source": [
    "%matplotlib notebook\n",
    "column_list1 = ['total_area', 'last_price', 'rooms', 'ceiling_height']\n",
    "ax = df[column_list1].plot(kind='box', subplots=True, layout=(2,2), figsize=(12,5))\n",
    "ylims = [200, 13000000, 6, 3.5]\n",
    "for i in range(len(column_list1)):\n",
    "    ax[column_list1[i]].set_ylim(0, ylims[i])"
   ]
  },
  {
   "cell_type": "markdown",
   "metadata": {},
   "source": [
    "В общем по таблице корреляция таже самая. "
   ]
  },
  {
   "cell_type": "markdown",
   "metadata": {},
   "source": [
    "Цена растет вплоть с уыеличением комнат.\n",
    "Меньше всего спрос на первый этаж.\n",
    "Самые дорогие единичные квартиры 1 - 2 км от центра. Но похоже квартиры подальше — 6-7 км популярнее.\n",
    "Дешевые и квартиры в среднем сегменте в основном продаются до 200 дней. Квартиры стоимостью свыше миллиарда продаются до двух лет."
   ]
  },
  {
   "cell_type": "markdown",
   "metadata": {},
   "source": [
    "<font color='green'>Хорошо, корреляцию засчитываем.</font>"
   ]
  },
  {
   "cell_type": "markdown",
   "metadata": {},
   "source": [
    "# Шаг 5. Общий вывод"
   ]
  },
  {
   "cell_type": "markdown",
   "metadata": {},
   "source": [
    "###### Обработка данных\n",
    "Некоторые данные пропущены. Балконы заменил 0 — отсутствие. Пропуски по этажам — средним значением по группе домов с той же этажностью\n",
    "Строки приведены к нижнему регистру, заменены значения на int где нужно. \n",
    "Убрал единичные значения выбросов, которые были видны на boxplot — например, потолки 100 метров.\n",
    "Выбросы по дорогим квартирам наверное можно было бы оставить . Там всего несколько значений — убрал для наглядности графиков\n",
    "\n",
    "Добавил в таблицу цену квадратного метра;\n",
    "день недели, месяц и год публикации объявления;\n",
    "этаж квартиры; варианты — первый, последний, другой;\n",
    "соотношение жилой и общей площади, а также отношение площади кухни к общей.\n",
    "\n",
    "###### Выводы\n",
    "Обнаружил выбросы по закрытию объявлений в период кратный 15 дням после месяца публикаций. (связано с публикацие обяъвленицй в мск на месяц и по другим регионам — 45 дней)\n",
    "\n",
    "основная масса продается от 45 до 232 дней \n",
    "Все, что продается дольше 450 дней можно считать необычно долгой продажей.\n",
    "\n",
    "В основном сегменте рынка цена сильно зависит от метража, удаления от центра.\n",
    "\n",
    "На первом этаже цена квартиры ниже в среднем на 1.6 млн, на последнеем — на 140 тысяч\n",
    "\n",
    "В декабре и январе цена незначительно выше, чем в остальные месяцы\n",
    "\n",
    "После 2014 цены на квартиры упали — с 12 млн до 6 млн в среднем\n",
    "\n",
    "Самая высокая стоимость жилья — в СПБ (113 т за кв м). Самая низкая — в Выборге (58 т за кв м)\n",
    "\n",
    "Отличия квартир в центре СПБ и в среднем по таблице\n",
    "\n",
    "В скобках укажу цифры в общем по таблице  \n",
    "Средняя площадь — 104(60), медиана — 90(52). Квартиль 25% — 69(40) метров.   \n",
    "Средняя цена сделки — 17.5(6.5 млн) млн  \n",
    "В среднем в квартире  — 3(2) комнаты  \n",
    "\n",
    "Высота потолков — 3(2.7) метра. \n",
    "\n",
    "В центре последний этаж стоит как первый. А в общем по таблице первый дешевле последнего.\n",
    "\n",
    "С увеличением цены растет и время продажи. — ***это положительная кореляция, когда оба параметра растут в одну сторону***"
   ]
  },
  {
   "cell_type": "markdown",
   "metadata": {},
   "source": [
    "<font color='green'>Подробные выводы - хорошо поработал!</font>"
   ]
  },
  {
   "cell_type": "markdown",
   "metadata": {},
   "source": [
    "### Чек-лист готовности проекта\n",
    "\n",
    "Поставьте 'x' в выполненных пунктах. Далее нажмите Shift+Enter."
   ]
  },
  {
   "cell_type": "markdown",
   "metadata": {},
   "source": [
    "- [x]  открыт файл\n",
    "- [x]  файлы изучены (выведены первые строки, метод info())\n",
    "- [x]  определены пропущенные значения\n",
    "- [x]  заполнены пропущенные значения\n",
    "- [x]  есть пояснение какие пропущенные значения обнаружены\n",
    "- [x]  изменены типы данных\n",
    "- [x]  есть пояснение в каких столбцах изменены типы и почему\n",
    "- [x]  посчитано и добавлено в таблицу: цена квадратного метра\n",
    "- [x]  посчитано и добавлено в таблицу: день недели, месяц и год публикации объявления\n",
    "- [x]  посчитано и добавлено в таблицу: этаж квартиры; варианты — первый, последний, другой\n",
    "- [x]  посчитано и добавлено в таблицу: соотношение жилой и общей площади, а также отношение площади кухни к общей\n",
    "- [x]  изучены следующие параметры: площадь, цена, число комнат, высота потолков\n",
    "- [x]  построены гистограммы для каждого параметра\n",
    "- [x]  выполнено задание: \"Изучите время продажи квартиры. Постройте гистограмму. Посчитайте среднее и медиану. Опишите, сколько обычно занимает продажа. Когда можно считать, что продажи прошли очень быстро, а когда необычно долго?\"\n",
    "- [x]  выполнено задание: \"Уберите редкие и выбивающиеся значения. Опишите, какие особенности обнаружили.\"\n",
    "- [x]  выполнено задание: \"Какие факторы больше всего влияют на стоимость квартиры? Изучите, зависит ли цена от квадратного метра, числа комнат, этажа (первого или последнего), удалённости от центра. Также изучите зависимость от даты размещения: дня недели, месяца и года. \"Выберите 10 населённых пунктов с наибольшим числом объявлений. Посчитайте среднюю цену квадратного метра в этих населённых пунктах. Выделите населённые пункты с самой высокой и низкой стоимостью жилья. Эти данные можно найти по имени в столбце '*locality_name'*. \"\n",
    "- [x]  выполнено задание: \"Изучите предложения квартир: для каждой квартиры есть информация о расстоянии до центра. Выделите квартиры в Санкт-Петербурге (*'locality_name'*). Ваша задача — выяснить, какая область входит в центр. Создайте столбец с расстоянием до центра в километрах: округлите до целых значений. После этого посчитайте среднюю цену для каждого километра. Постройте график: он должен показывать, как цена зависит от удалённости от центра. Определите границу, где график сильно меняется — это и будет центральная зона. \"\n",
    "- [x]  выполнено задание: \"Выделите сегмент квартир в центре. Проанализируйте эту территорию и изучите следующие параметры: площадь, цена, число комнат, высота потолков. Также выделите факторы, которые влияют на стоимость квартиры (число комнат, этаж, удалённость от центра, дата размещения объявления). Сделайте выводы. Отличаются ли они от общих выводов по всему городу?\"\n",
    "- [x]  в каждом этапе есть выводы\n",
    "- [x]  есть общий вывод"
   ]
  },
  {
   "cell_type": "markdown",
   "metadata": {},
   "source": [
    "<font color='blue'>В целом, неплохое начало. Хороший вывод графиков в цикле, хорошее применение знаний из прошлого спринта. Многое сделано, кое-что закончено, остальное доделаем в ходе доработок. Удачи!</font>  \n",
    "\n",
    "<font color='green'> Спасибо!"
   ]
  },
  {
   "cell_type": "markdown",
   "metadata": {},
   "source": [
    "<font color='blue'>Двигаемся вперед, отлично. Но еще есть над чем поработать, ищи красные комментарии. </font>\n",
    "\n",
    "<font color='green'>Пока что у меня вызывают трудность технические методы, довольно долго думаю, как решить тот или иной параметр — увеличить график, тип, добавить в столбец и тп. Я чувствую, что из-за этого упускаю статистику, мог бы эффективнее оценивать, если бы свободно себя чувствовал в pandas. С другой стороны, прошло всего 18 дней занятий. Вроде неплохой прогресс. Но и времени и сил уходит много. \n",
    "\n",
    "Напишете, что видно со стороны? &#128520;</font>"
   ]
  },
  {
   "cell_type": "markdown",
   "metadata": {},
   "source": [
    "<font color='blue'>Это все более, чем нормально, с каждым разом будет все легче и легче. Прогресс безусловно заметен. Работай в комфортном темпе, из твоей группы еще почти никто не сдавал второй проект, так что мы можем не спешить, сделать техническую часть, после чего спокойно поразмышлять над аналитикой.  \n",
    "Эти работы действительно довольно сложные и рассчитаны на усердную работу, но они максимально приближены к реальной жизни, и, пройдя такую школу в работе будет гораздо легче.  \n",
    "В целом ты прекрасно справляешься. "
   ]
  },
  {
   "cell_type": "markdown",
   "metadata": {},
   "source": [
    "Спасибо за рецензию!"
   ]
  },
  {
   "cell_type": "markdown",
   "metadata": {},
   "source": [
    "<font color='blue'> Насчет работы, мы почти справились, осталось разобраться с пропусками. Ну а также я настоятельно рекомендую еще раз почитать про корреляцию, ++разобраться с положительной/отрицательно корреляцией и написать выводы с учетом этого."
   ]
  },
  {
   "cell_type": "markdown",
   "metadata": {},
   "source": [
    "<font color='blue'>Итак. Ты продемонстрировал достаточно знаний и умений, чтобы я принял работу. Проанализировал, очистил и обогатил данные. Построил множество разнообразных графиков, обнаружил и удалил выбросы. Также мы выяснили, как влияют на цену различные факторы, делали срезы и сравнивали результаты.  \n",
    "Напоследок я все же порекомендую поподробнее почитать/спросить по корреляцию, это знание будет жизненно необходимо. Не бойся сложностей, удачи в дальнейшем прохождении курса!"
   ]
  }
 ],
 "metadata": {
  "kernelspec": {
   "display_name": "Python 3",
   "language": "python",
   "name": "python3"
  },
  "language_info": {
   "codemirror_mode": {
    "name": "ipython",
    "version": 3
   },
   "file_extension": ".py",
   "mimetype": "text/x-python",
   "name": "python",
   "nbconvert_exporter": "python",
   "pygments_lexer": "ipython3",
   "version": "3.7.3"
  }
 },
 "nbformat": 4,
 "nbformat_minor": 2
}
